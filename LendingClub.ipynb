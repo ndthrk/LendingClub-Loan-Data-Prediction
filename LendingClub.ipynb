{
  "nbformat": 4,
  "nbformat_minor": 0,
  "metadata": {
    "colab": {
      "provenance": [],
      "toc_visible": true,
      "gpuType": "T4"
    },
    "kernelspec": {
      "name": "python3",
      "display_name": "Python 3"
    },
    "language_info": {
      "name": "python"
    },
    "accelerator": "GPU"
  },
  "cells": [
    {
      "cell_type": "markdown",
      "source": [
        "# Giới thiệu\n",
        "## 1. LendingClub là...?\n",
        "Lending Club (LC) là tổ chức cho vay ngang hàng đầu tiên và cung cấp các khoản vay giao dịch trên thị trường thứ cấp. Đây cũng là công ty cho vay ngang hàng lớn nhất trên thế giới hiện nay.\n",
        "\n",
        "**Quy trình vay:**\n",
        "\n",
        "- Người vay đăng ký khoản vay trên trang web của LendingClub\n",
        "- Cung cấp thông tin tín dụng, việc làm và thu nhập, địa chỉ,...\n",
        "- Hệ thống của LendingClub sẽ phân tích dữ liệu và đánh giá rủi ro một cách nhanh chóng, chấm điểm tín dụng và đưa ra mức lãi suất phù hợp.\n",
        "- Người bị từ chối: Không được vay\n",
        "- Người được chấp nhận nhận được công ty kết nối với nhà đầu tư. Nhà đầu tư có thể nhìn thấy các khoản vay được thống kê trên website của Lending Club và chọn cho mình một khoản đầu tư thích hợp dựa trên những thông tin về người đi vay như xếp hạng tín dụng, mục đích vay tiền để làm gì, lịch sử tín dụng,...\n",
        "\n",
        "## 2. Vấn đề của LendingClub\n",
        "\n",
        "Có những khách hàng được LendingClub chấp nhận cho vay nhưng sau đó không có khả năng trả nợ. Điều này ảnh hưởng xấu đến uy tín, tín nhiệm của công ty.\n",
        "\n",
        "## 3. Mục tiêu:\n",
        " Dự đoán khách hàng trả được nợ hay không.\n",
        "- Tìm hiểu về lĩnh vực cho vay để lựa chọn các thuộc tính mà LendingClub có thể có khi khách hàng nộp đơn.\n",
        "- Xây dựng và đánh giá các mô hình, chọn mô hình phù hợp.\n",
        "- Dự đoán khách hàng có khả năng không trả được nợ trước khi cho vay.\n",
        "\n",
        "## 4. Dữ liệu:\n",
        "- Nguồn dữ liệu: [All Lending Club loan data](https://www.kaggle.com/datasets/wordsforthewise/lending-club/data)\n",
        "- 2 tập khách hàng: Chấp nhận và từ chối\n",
        "    + Từ chối: Chỉ có thông tin người dùng điền đơn đăng ký và **risk_score** từ mô hình chấm điểm của LendingClub\n",
        "    + Chấp nhận: Có thêm nhiều thông tin liên quan đến lịch sử vay, thanh toán, nhân khẩu học,...\n",
        "\n",
        "Dữ liệu từ 26/5/2007 đến hết năm 2018.\n"
      ],
      "metadata": {
        "id": "bypwkJK2kEoH"
      }
    },
    {
      "cell_type": "markdown",
      "source": [
        "# Khai báo thư viện"
      ],
      "metadata": {
        "id": "k5-tapp73NOb"
      }
    },
    {
      "cell_type": "code",
      "execution_count": 2,
      "metadata": {
        "id": "7FoKzJSC27WR"
      },
      "outputs": [],
      "source": [
        "import pandas as pd\n",
        "import numpy as np\n",
        "import seaborn as sns\n",
        "import matplotlib.pyplot as plt\n",
        "from matplotlib.patches import Patch\n",
        "\n",
        "from sklearn.model_selection import train_test_split\n",
        "from sklearn.linear_model import LogisticRegression\n",
        "from sklearn.tree import DecisionTreeClassifier\n",
        "from sklearn.neighbors import KNeighborsClassifier\n",
        "from sklearn.naive_bayes import GaussianNB\n",
        "from sklearn.metrics import classification_report, confusion_matrix, roc_auc_score\n",
        "from sklearn.preprocessing import MinMaxScaler, StandardScaler\n",
        "\n",
        "from imblearn.over_sampling import SMOTE\n",
        "from sklearn.metrics import roc_curve, auc, precision_recall_curve\n",
        "\n",
        "root = '/content/drive/MyDrive/Code/Hoctap/N3K2/KPDL/BTL/'"
      ]
    },
    {
      "cell_type": "markdown",
      "source": [
        "# Mô tả dữ liệu"
      ],
      "metadata": {
        "id": "KcLj_L8Skl5-"
      }
    },
    {
      "cell_type": "markdown",
      "source": [
        "## 1. Tập chấp nhận"
      ],
      "metadata": {
        "id": "RtjVk-S8h_VR"
      }
    },
    {
      "cell_type": "code",
      "source": [
        "acc_df = pd.read_csv(root+'accepted_2007_to_2018Q4.csv', low_memory=False)\n",
        "acc_df.head()"
      ],
      "metadata": {
        "colab": {
          "base_uri": "https://localhost:8080/",
          "height": 342
        },
        "id": "nX7z20298oYq",
        "outputId": "338a7542-467d-41ea-c2ee-aeb947fcfa34"
      },
      "execution_count": null,
      "outputs": [
        {
          "output_type": "execute_result",
          "data": {
            "text/plain": [
              "         id  member_id  loan_amnt  funded_amnt  funded_amnt_inv        term  \\\n",
              "0  68407277        NaN     3600.0       3600.0           3600.0   36 months   \n",
              "1  68355089        NaN    24700.0      24700.0          24700.0   36 months   \n",
              "2  68341763        NaN    20000.0      20000.0          20000.0   60 months   \n",
              "3  66310712        NaN    35000.0      35000.0          35000.0   60 months   \n",
              "4  68476807        NaN    10400.0      10400.0          10400.0   60 months   \n",
              "\n",
              "   int_rate  installment grade sub_grade  ... hardship_payoff_balance_amount  \\\n",
              "0     13.99       123.03     C        C4  ...                            NaN   \n",
              "1     11.99       820.28     C        C1  ...                            NaN   \n",
              "2     10.78       432.66     B        B4  ...                            NaN   \n",
              "3     14.85       829.90     C        C5  ...                            NaN   \n",
              "4     22.45       289.91     F        F1  ...                            NaN   \n",
              "\n",
              "  hardship_last_payment_amount disbursement_method  debt_settlement_flag  \\\n",
              "0                          NaN                Cash                     N   \n",
              "1                          NaN                Cash                     N   \n",
              "2                          NaN                Cash                     N   \n",
              "3                          NaN                Cash                     N   \n",
              "4                          NaN                Cash                     N   \n",
              "\n",
              "  debt_settlement_flag_date settlement_status settlement_date  \\\n",
              "0                       NaN               NaN             NaN   \n",
              "1                       NaN               NaN             NaN   \n",
              "2                       NaN               NaN             NaN   \n",
              "3                       NaN               NaN             NaN   \n",
              "4                       NaN               NaN             NaN   \n",
              "\n",
              "  settlement_amount settlement_percentage settlement_term  \n",
              "0               NaN                   NaN             NaN  \n",
              "1               NaN                   NaN             NaN  \n",
              "2               NaN                   NaN             NaN  \n",
              "3               NaN                   NaN             NaN  \n",
              "4               NaN                   NaN             NaN  \n",
              "\n",
              "[5 rows x 151 columns]"
            ],
            "text/html": [
              "\n",
              "  <div id=\"df-fec04b7d-eaa2-4095-a5eb-4fef59e58605\" class=\"colab-df-container\">\n",
              "    <div>\n",
              "<style scoped>\n",
              "    .dataframe tbody tr th:only-of-type {\n",
              "        vertical-align: middle;\n",
              "    }\n",
              "\n",
              "    .dataframe tbody tr th {\n",
              "        vertical-align: top;\n",
              "    }\n",
              "\n",
              "    .dataframe thead th {\n",
              "        text-align: right;\n",
              "    }\n",
              "</style>\n",
              "<table border=\"1\" class=\"dataframe\">\n",
              "  <thead>\n",
              "    <tr style=\"text-align: right;\">\n",
              "      <th></th>\n",
              "      <th>id</th>\n",
              "      <th>member_id</th>\n",
              "      <th>loan_amnt</th>\n",
              "      <th>funded_amnt</th>\n",
              "      <th>funded_amnt_inv</th>\n",
              "      <th>term</th>\n",
              "      <th>int_rate</th>\n",
              "      <th>installment</th>\n",
              "      <th>grade</th>\n",
              "      <th>sub_grade</th>\n",
              "      <th>...</th>\n",
              "      <th>hardship_payoff_balance_amount</th>\n",
              "      <th>hardship_last_payment_amount</th>\n",
              "      <th>disbursement_method</th>\n",
              "      <th>debt_settlement_flag</th>\n",
              "      <th>debt_settlement_flag_date</th>\n",
              "      <th>settlement_status</th>\n",
              "      <th>settlement_date</th>\n",
              "      <th>settlement_amount</th>\n",
              "      <th>settlement_percentage</th>\n",
              "      <th>settlement_term</th>\n",
              "    </tr>\n",
              "  </thead>\n",
              "  <tbody>\n",
              "    <tr>\n",
              "      <th>0</th>\n",
              "      <td>68407277</td>\n",
              "      <td>NaN</td>\n",
              "      <td>3600.0</td>\n",
              "      <td>3600.0</td>\n",
              "      <td>3600.0</td>\n",
              "      <td>36 months</td>\n",
              "      <td>13.99</td>\n",
              "      <td>123.03</td>\n",
              "      <td>C</td>\n",
              "      <td>C4</td>\n",
              "      <td>...</td>\n",
              "      <td>NaN</td>\n",
              "      <td>NaN</td>\n",
              "      <td>Cash</td>\n",
              "      <td>N</td>\n",
              "      <td>NaN</td>\n",
              "      <td>NaN</td>\n",
              "      <td>NaN</td>\n",
              "      <td>NaN</td>\n",
              "      <td>NaN</td>\n",
              "      <td>NaN</td>\n",
              "    </tr>\n",
              "    <tr>\n",
              "      <th>1</th>\n",
              "      <td>68355089</td>\n",
              "      <td>NaN</td>\n",
              "      <td>24700.0</td>\n",
              "      <td>24700.0</td>\n",
              "      <td>24700.0</td>\n",
              "      <td>36 months</td>\n",
              "      <td>11.99</td>\n",
              "      <td>820.28</td>\n",
              "      <td>C</td>\n",
              "      <td>C1</td>\n",
              "      <td>...</td>\n",
              "      <td>NaN</td>\n",
              "      <td>NaN</td>\n",
              "      <td>Cash</td>\n",
              "      <td>N</td>\n",
              "      <td>NaN</td>\n",
              "      <td>NaN</td>\n",
              "      <td>NaN</td>\n",
              "      <td>NaN</td>\n",
              "      <td>NaN</td>\n",
              "      <td>NaN</td>\n",
              "    </tr>\n",
              "    <tr>\n",
              "      <th>2</th>\n",
              "      <td>68341763</td>\n",
              "      <td>NaN</td>\n",
              "      <td>20000.0</td>\n",
              "      <td>20000.0</td>\n",
              "      <td>20000.0</td>\n",
              "      <td>60 months</td>\n",
              "      <td>10.78</td>\n",
              "      <td>432.66</td>\n",
              "      <td>B</td>\n",
              "      <td>B4</td>\n",
              "      <td>...</td>\n",
              "      <td>NaN</td>\n",
              "      <td>NaN</td>\n",
              "      <td>Cash</td>\n",
              "      <td>N</td>\n",
              "      <td>NaN</td>\n",
              "      <td>NaN</td>\n",
              "      <td>NaN</td>\n",
              "      <td>NaN</td>\n",
              "      <td>NaN</td>\n",
              "      <td>NaN</td>\n",
              "    </tr>\n",
              "    <tr>\n",
              "      <th>3</th>\n",
              "      <td>66310712</td>\n",
              "      <td>NaN</td>\n",
              "      <td>35000.0</td>\n",
              "      <td>35000.0</td>\n",
              "      <td>35000.0</td>\n",
              "      <td>60 months</td>\n",
              "      <td>14.85</td>\n",
              "      <td>829.90</td>\n",
              "      <td>C</td>\n",
              "      <td>C5</td>\n",
              "      <td>...</td>\n",
              "      <td>NaN</td>\n",
              "      <td>NaN</td>\n",
              "      <td>Cash</td>\n",
              "      <td>N</td>\n",
              "      <td>NaN</td>\n",
              "      <td>NaN</td>\n",
              "      <td>NaN</td>\n",
              "      <td>NaN</td>\n",
              "      <td>NaN</td>\n",
              "      <td>NaN</td>\n",
              "    </tr>\n",
              "    <tr>\n",
              "      <th>4</th>\n",
              "      <td>68476807</td>\n",
              "      <td>NaN</td>\n",
              "      <td>10400.0</td>\n",
              "      <td>10400.0</td>\n",
              "      <td>10400.0</td>\n",
              "      <td>60 months</td>\n",
              "      <td>22.45</td>\n",
              "      <td>289.91</td>\n",
              "      <td>F</td>\n",
              "      <td>F1</td>\n",
              "      <td>...</td>\n",
              "      <td>NaN</td>\n",
              "      <td>NaN</td>\n",
              "      <td>Cash</td>\n",
              "      <td>N</td>\n",
              "      <td>NaN</td>\n",
              "      <td>NaN</td>\n",
              "      <td>NaN</td>\n",
              "      <td>NaN</td>\n",
              "      <td>NaN</td>\n",
              "      <td>NaN</td>\n",
              "    </tr>\n",
              "  </tbody>\n",
              "</table>\n",
              "<p>5 rows × 151 columns</p>\n",
              "</div>\n",
              "    <div class=\"colab-df-buttons\">\n",
              "\n",
              "  <div class=\"colab-df-container\">\n",
              "    <button class=\"colab-df-convert\" onclick=\"convertToInteractive('df-fec04b7d-eaa2-4095-a5eb-4fef59e58605')\"\n",
              "            title=\"Convert this dataframe to an interactive table.\"\n",
              "            style=\"display:none;\">\n",
              "\n",
              "  <svg xmlns=\"http://www.w3.org/2000/svg\" height=\"24px\" viewBox=\"0 -960 960 960\">\n",
              "    <path d=\"M120-120v-720h720v720H120Zm60-500h600v-160H180v160Zm220 220h160v-160H400v160Zm0 220h160v-160H400v160ZM180-400h160v-160H180v160Zm440 0h160v-160H620v160ZM180-180h160v-160H180v160Zm440 0h160v-160H620v160Z\"/>\n",
              "  </svg>\n",
              "    </button>\n",
              "\n",
              "  <style>\n",
              "    .colab-df-container {\n",
              "      display:flex;\n",
              "      gap: 12px;\n",
              "    }\n",
              "\n",
              "    .colab-df-convert {\n",
              "      background-color: #E8F0FE;\n",
              "      border: none;\n",
              "      border-radius: 50%;\n",
              "      cursor: pointer;\n",
              "      display: none;\n",
              "      fill: #1967D2;\n",
              "      height: 32px;\n",
              "      padding: 0 0 0 0;\n",
              "      width: 32px;\n",
              "    }\n",
              "\n",
              "    .colab-df-convert:hover {\n",
              "      background-color: #E2EBFA;\n",
              "      box-shadow: 0px 1px 2px rgba(60, 64, 67, 0.3), 0px 1px 3px 1px rgba(60, 64, 67, 0.15);\n",
              "      fill: #174EA6;\n",
              "    }\n",
              "\n",
              "    .colab-df-buttons div {\n",
              "      margin-bottom: 4px;\n",
              "    }\n",
              "\n",
              "    [theme=dark] .colab-df-convert {\n",
              "      background-color: #3B4455;\n",
              "      fill: #D2E3FC;\n",
              "    }\n",
              "\n",
              "    [theme=dark] .colab-df-convert:hover {\n",
              "      background-color: #434B5C;\n",
              "      box-shadow: 0px 1px 3px 1px rgba(0, 0, 0, 0.15);\n",
              "      filter: drop-shadow(0px 1px 2px rgba(0, 0, 0, 0.3));\n",
              "      fill: #FFFFFF;\n",
              "    }\n",
              "  </style>\n",
              "\n",
              "    <script>\n",
              "      const buttonEl =\n",
              "        document.querySelector('#df-fec04b7d-eaa2-4095-a5eb-4fef59e58605 button.colab-df-convert');\n",
              "      buttonEl.style.display =\n",
              "        google.colab.kernel.accessAllowed ? 'block' : 'none';\n",
              "\n",
              "      async function convertToInteractive(key) {\n",
              "        const element = document.querySelector('#df-fec04b7d-eaa2-4095-a5eb-4fef59e58605');\n",
              "        const dataTable =\n",
              "          await google.colab.kernel.invokeFunction('convertToInteractive',\n",
              "                                                    [key], {});\n",
              "        if (!dataTable) return;\n",
              "\n",
              "        const docLinkHtml = 'Like what you see? Visit the ' +\n",
              "          '<a target=\"_blank\" href=https://colab.research.google.com/notebooks/data_table.ipynb>data table notebook</a>'\n",
              "          + ' to learn more about interactive tables.';\n",
              "        element.innerHTML = '';\n",
              "        dataTable['output_type'] = 'display_data';\n",
              "        await google.colab.output.renderOutput(dataTable, element);\n",
              "        const docLink = document.createElement('div');\n",
              "        docLink.innerHTML = docLinkHtml;\n",
              "        element.appendChild(docLink);\n",
              "      }\n",
              "    </script>\n",
              "  </div>\n",
              "\n",
              "\n",
              "<div id=\"df-644c819b-f613-4714-83a8-78aa7febf8e0\">\n",
              "  <button class=\"colab-df-quickchart\" onclick=\"quickchart('df-644c819b-f613-4714-83a8-78aa7febf8e0')\"\n",
              "            title=\"Suggest charts\"\n",
              "            style=\"display:none;\">\n",
              "\n",
              "<svg xmlns=\"http://www.w3.org/2000/svg\" height=\"24px\"viewBox=\"0 0 24 24\"\n",
              "     width=\"24px\">\n",
              "    <g>\n",
              "        <path d=\"M19 3H5c-1.1 0-2 .9-2 2v14c0 1.1.9 2 2 2h14c1.1 0 2-.9 2-2V5c0-1.1-.9-2-2-2zM9 17H7v-7h2v7zm4 0h-2V7h2v10zm4 0h-2v-4h2v4z\"/>\n",
              "    </g>\n",
              "</svg>\n",
              "  </button>\n",
              "\n",
              "<style>\n",
              "  .colab-df-quickchart {\n",
              "      --bg-color: #E8F0FE;\n",
              "      --fill-color: #1967D2;\n",
              "      --hover-bg-color: #E2EBFA;\n",
              "      --hover-fill-color: #174EA6;\n",
              "      --disabled-fill-color: #AAA;\n",
              "      --disabled-bg-color: #DDD;\n",
              "  }\n",
              "\n",
              "  [theme=dark] .colab-df-quickchart {\n",
              "      --bg-color: #3B4455;\n",
              "      --fill-color: #D2E3FC;\n",
              "      --hover-bg-color: #434B5C;\n",
              "      --hover-fill-color: #FFFFFF;\n",
              "      --disabled-bg-color: #3B4455;\n",
              "      --disabled-fill-color: #666;\n",
              "  }\n",
              "\n",
              "  .colab-df-quickchart {\n",
              "    background-color: var(--bg-color);\n",
              "    border: none;\n",
              "    border-radius: 50%;\n",
              "    cursor: pointer;\n",
              "    display: none;\n",
              "    fill: var(--fill-color);\n",
              "    height: 32px;\n",
              "    padding: 0;\n",
              "    width: 32px;\n",
              "  }\n",
              "\n",
              "  .colab-df-quickchart:hover {\n",
              "    background-color: var(--hover-bg-color);\n",
              "    box-shadow: 0 1px 2px rgba(60, 64, 67, 0.3), 0 1px 3px 1px rgba(60, 64, 67, 0.15);\n",
              "    fill: var(--button-hover-fill-color);\n",
              "  }\n",
              "\n",
              "  .colab-df-quickchart-complete:disabled,\n",
              "  .colab-df-quickchart-complete:disabled:hover {\n",
              "    background-color: var(--disabled-bg-color);\n",
              "    fill: var(--disabled-fill-color);\n",
              "    box-shadow: none;\n",
              "  }\n",
              "\n",
              "  .colab-df-spinner {\n",
              "    border: 2px solid var(--fill-color);\n",
              "    border-color: transparent;\n",
              "    border-bottom-color: var(--fill-color);\n",
              "    animation:\n",
              "      spin 1s steps(1) infinite;\n",
              "  }\n",
              "\n",
              "  @keyframes spin {\n",
              "    0% {\n",
              "      border-color: transparent;\n",
              "      border-bottom-color: var(--fill-color);\n",
              "      border-left-color: var(--fill-color);\n",
              "    }\n",
              "    20% {\n",
              "      border-color: transparent;\n",
              "      border-left-color: var(--fill-color);\n",
              "      border-top-color: var(--fill-color);\n",
              "    }\n",
              "    30% {\n",
              "      border-color: transparent;\n",
              "      border-left-color: var(--fill-color);\n",
              "      border-top-color: var(--fill-color);\n",
              "      border-right-color: var(--fill-color);\n",
              "    }\n",
              "    40% {\n",
              "      border-color: transparent;\n",
              "      border-right-color: var(--fill-color);\n",
              "      border-top-color: var(--fill-color);\n",
              "    }\n",
              "    60% {\n",
              "      border-color: transparent;\n",
              "      border-right-color: var(--fill-color);\n",
              "    }\n",
              "    80% {\n",
              "      border-color: transparent;\n",
              "      border-right-color: var(--fill-color);\n",
              "      border-bottom-color: var(--fill-color);\n",
              "    }\n",
              "    90% {\n",
              "      border-color: transparent;\n",
              "      border-bottom-color: var(--fill-color);\n",
              "    }\n",
              "  }\n",
              "</style>\n",
              "\n",
              "  <script>\n",
              "    async function quickchart(key) {\n",
              "      const quickchartButtonEl =\n",
              "        document.querySelector('#' + key + ' button');\n",
              "      quickchartButtonEl.disabled = true;  // To prevent multiple clicks.\n",
              "      quickchartButtonEl.classList.add('colab-df-spinner');\n",
              "      try {\n",
              "        const charts = await google.colab.kernel.invokeFunction(\n",
              "            'suggestCharts', [key], {});\n",
              "      } catch (error) {\n",
              "        console.error('Error during call to suggestCharts:', error);\n",
              "      }\n",
              "      quickchartButtonEl.classList.remove('colab-df-spinner');\n",
              "      quickchartButtonEl.classList.add('colab-df-quickchart-complete');\n",
              "    }\n",
              "    (() => {\n",
              "      let quickchartButtonEl =\n",
              "        document.querySelector('#df-644c819b-f613-4714-83a8-78aa7febf8e0 button');\n",
              "      quickchartButtonEl.style.display =\n",
              "        google.colab.kernel.accessAllowed ? 'block' : 'none';\n",
              "    })();\n",
              "  </script>\n",
              "</div>\n",
              "\n",
              "    </div>\n",
              "  </div>\n"
            ]
          },
          "metadata": {},
          "execution_count": 2
        }
      ]
    },
    {
      "cell_type": "code",
      "source": [
        "acc_df.shape"
      ],
      "metadata": {
        "colab": {
          "base_uri": "https://localhost:8080/"
        },
        "id": "wDZDuMz0u6uS",
        "outputId": "b6eb82c6-28a1-4de1-d270-060cb7b09960"
      },
      "execution_count": null,
      "outputs": [
        {
          "output_type": "execute_result",
          "data": {
            "text/plain": [
              "(2260701, 151)"
            ]
          },
          "metadata": {},
          "execution_count": 3
        }
      ]
    },
    {
      "cell_type": "code",
      "source": [
        "acc_df.info()"
      ],
      "metadata": {
        "colab": {
          "base_uri": "https://localhost:8080/"
        },
        "id": "XuH5IQ89KEQa",
        "outputId": "9cc89a83-0975-43f5-e214-4b63cc4d6b63"
      },
      "execution_count": null,
      "outputs": [
        {
          "output_type": "stream",
          "name": "stdout",
          "text": [
            "<class 'pandas.core.frame.DataFrame'>\n",
            "RangeIndex: 2260701 entries, 0 to 2260700\n",
            "Columns: 151 entries, id to settlement_term\n",
            "dtypes: float64(113), object(38)\n",
            "memory usage: 2.5+ GB\n"
          ]
        }
      ]
    },
    {
      "cell_type": "code",
      "source": [
        "acc_df.loan_status.value_counts()"
      ],
      "metadata": {
        "colab": {
          "base_uri": "https://localhost:8080/"
        },
        "id": "bFdsTiJLSpVE",
        "outputId": "06bc0d63-90e7-4203-b13b-13fb35b79f46"
      },
      "execution_count": null,
      "outputs": [
        {
          "output_type": "execute_result",
          "data": {
            "text/plain": [
              "Fully Paid                                             1076751\n",
              "Current                                                 878317\n",
              "Charged Off                                             268559\n",
              "Late (31-120 days)                                       21467\n",
              "In Grace Period                                           8436\n",
              "Late (16-30 days)                                         4349\n",
              "Does not meet the credit policy. Status:Fully Paid        1988\n",
              "Does not meet the credit policy. Status:Charged Off        761\n",
              "Default                                                     40\n",
              "Name: loan_status, dtype: int64"
            ]
          },
          "metadata": {},
          "execution_count": 5
        }
      ]
    },
    {
      "cell_type": "markdown",
      "source": [
        "Cần quan tâm đến *Fully Paid* và *Charged Off*"
      ],
      "metadata": {
        "id": "LvgnVfb3iGgC"
      }
    },
    {
      "cell_type": "markdown",
      "source": [
        "## 2. Tập từ chối"
      ],
      "metadata": {
        "id": "6_Eb0yafiDeI"
      }
    },
    {
      "cell_type": "code",
      "source": [
        "reject_df = pd.read_csv(root+\"rejected_2007_to_2018Q4.csv\")"
      ],
      "metadata": {
        "id": "uf4tbuksiEkM"
      },
      "execution_count": null,
      "outputs": []
    },
    {
      "cell_type": "code",
      "source": [
        "rj_sample = reject_df.sample(50)\n",
        "rj_sample.head()"
      ],
      "metadata": {
        "colab": {
          "base_uri": "https://localhost:8080/",
          "height": 241
        },
        "id": "AHXSTT8rj9if",
        "outputId": "6634b842-d64f-41b4-c960-0997c451f695"
      },
      "execution_count": null,
      "outputs": [
        {
          "output_type": "execute_result",
          "data": {
            "text/plain": [
              "          Amount Requested Application Date               Loan Title  \\\n",
              "18149729           10000.0       2018-05-06       Debt consolidation   \n",
              "11108369           10000.0       2018-03-10  Credit card refinancing   \n",
              "18967528            5000.0       2018-06-04       Debt consolidation   \n",
              "19054306           15000.0       2018-06-06                    Other   \n",
              "8084542             5000.0       2014-04-01       debt_consolidation   \n",
              "\n",
              "          Risk_Score Debt-To-Income Ratio Zip Code State Employment Length  \\\n",
              "18149729         NaN                3.53%    956xx    CA          < 1 year   \n",
              "11108369         NaN                6.44%    108xx    NY          < 1 year   \n",
              "18967528         NaN               16.01%    444xx    OH          < 1 year   \n",
              "19054306         NaN               15.08%    597xx    MT          < 1 year   \n",
              "8084542        605.0               12.12%    761xx    TX          < 1 year   \n",
              "\n",
              "          Policy Code  \n",
              "18149729          0.0  \n",
              "11108369          0.0  \n",
              "18967528          0.0  \n",
              "19054306          0.0  \n",
              "8084542           0.0  "
            ],
            "text/html": [
              "\n",
              "  <div id=\"df-44a5d270-bce1-4158-982e-cce9bba9e7d1\" class=\"colab-df-container\">\n",
              "    <div>\n",
              "<style scoped>\n",
              "    .dataframe tbody tr th:only-of-type {\n",
              "        vertical-align: middle;\n",
              "    }\n",
              "\n",
              "    .dataframe tbody tr th {\n",
              "        vertical-align: top;\n",
              "    }\n",
              "\n",
              "    .dataframe thead th {\n",
              "        text-align: right;\n",
              "    }\n",
              "</style>\n",
              "<table border=\"1\" class=\"dataframe\">\n",
              "  <thead>\n",
              "    <tr style=\"text-align: right;\">\n",
              "      <th></th>\n",
              "      <th>Amount Requested</th>\n",
              "      <th>Application Date</th>\n",
              "      <th>Loan Title</th>\n",
              "      <th>Risk_Score</th>\n",
              "      <th>Debt-To-Income Ratio</th>\n",
              "      <th>Zip Code</th>\n",
              "      <th>State</th>\n",
              "      <th>Employment Length</th>\n",
              "      <th>Policy Code</th>\n",
              "    </tr>\n",
              "  </thead>\n",
              "  <tbody>\n",
              "    <tr>\n",
              "      <th>18149729</th>\n",
              "      <td>10000.0</td>\n",
              "      <td>2018-05-06</td>\n",
              "      <td>Debt consolidation</td>\n",
              "      <td>NaN</td>\n",
              "      <td>3.53%</td>\n",
              "      <td>956xx</td>\n",
              "      <td>CA</td>\n",
              "      <td>&lt; 1 year</td>\n",
              "      <td>0.0</td>\n",
              "    </tr>\n",
              "    <tr>\n",
              "      <th>11108369</th>\n",
              "      <td>10000.0</td>\n",
              "      <td>2018-03-10</td>\n",
              "      <td>Credit card refinancing</td>\n",
              "      <td>NaN</td>\n",
              "      <td>6.44%</td>\n",
              "      <td>108xx</td>\n",
              "      <td>NY</td>\n",
              "      <td>&lt; 1 year</td>\n",
              "      <td>0.0</td>\n",
              "    </tr>\n",
              "    <tr>\n",
              "      <th>18967528</th>\n",
              "      <td>5000.0</td>\n",
              "      <td>2018-06-04</td>\n",
              "      <td>Debt consolidation</td>\n",
              "      <td>NaN</td>\n",
              "      <td>16.01%</td>\n",
              "      <td>444xx</td>\n",
              "      <td>OH</td>\n",
              "      <td>&lt; 1 year</td>\n",
              "      <td>0.0</td>\n",
              "    </tr>\n",
              "    <tr>\n",
              "      <th>19054306</th>\n",
              "      <td>15000.0</td>\n",
              "      <td>2018-06-06</td>\n",
              "      <td>Other</td>\n",
              "      <td>NaN</td>\n",
              "      <td>15.08%</td>\n",
              "      <td>597xx</td>\n",
              "      <td>MT</td>\n",
              "      <td>&lt; 1 year</td>\n",
              "      <td>0.0</td>\n",
              "    </tr>\n",
              "    <tr>\n",
              "      <th>8084542</th>\n",
              "      <td>5000.0</td>\n",
              "      <td>2014-04-01</td>\n",
              "      <td>debt_consolidation</td>\n",
              "      <td>605.0</td>\n",
              "      <td>12.12%</td>\n",
              "      <td>761xx</td>\n",
              "      <td>TX</td>\n",
              "      <td>&lt; 1 year</td>\n",
              "      <td>0.0</td>\n",
              "    </tr>\n",
              "  </tbody>\n",
              "</table>\n",
              "</div>\n",
              "    <div class=\"colab-df-buttons\">\n",
              "\n",
              "  <div class=\"colab-df-container\">\n",
              "    <button class=\"colab-df-convert\" onclick=\"convertToInteractive('df-44a5d270-bce1-4158-982e-cce9bba9e7d1')\"\n",
              "            title=\"Convert this dataframe to an interactive table.\"\n",
              "            style=\"display:none;\">\n",
              "\n",
              "  <svg xmlns=\"http://www.w3.org/2000/svg\" height=\"24px\" viewBox=\"0 -960 960 960\">\n",
              "    <path d=\"M120-120v-720h720v720H120Zm60-500h600v-160H180v160Zm220 220h160v-160H400v160Zm0 220h160v-160H400v160ZM180-400h160v-160H180v160Zm440 0h160v-160H620v160ZM180-180h160v-160H180v160Zm440 0h160v-160H620v160Z\"/>\n",
              "  </svg>\n",
              "    </button>\n",
              "\n",
              "  <style>\n",
              "    .colab-df-container {\n",
              "      display:flex;\n",
              "      gap: 12px;\n",
              "    }\n",
              "\n",
              "    .colab-df-convert {\n",
              "      background-color: #E8F0FE;\n",
              "      border: none;\n",
              "      border-radius: 50%;\n",
              "      cursor: pointer;\n",
              "      display: none;\n",
              "      fill: #1967D2;\n",
              "      height: 32px;\n",
              "      padding: 0 0 0 0;\n",
              "      width: 32px;\n",
              "    }\n",
              "\n",
              "    .colab-df-convert:hover {\n",
              "      background-color: #E2EBFA;\n",
              "      box-shadow: 0px 1px 2px rgba(60, 64, 67, 0.3), 0px 1px 3px 1px rgba(60, 64, 67, 0.15);\n",
              "      fill: #174EA6;\n",
              "    }\n",
              "\n",
              "    .colab-df-buttons div {\n",
              "      margin-bottom: 4px;\n",
              "    }\n",
              "\n",
              "    [theme=dark] .colab-df-convert {\n",
              "      background-color: #3B4455;\n",
              "      fill: #D2E3FC;\n",
              "    }\n",
              "\n",
              "    [theme=dark] .colab-df-convert:hover {\n",
              "      background-color: #434B5C;\n",
              "      box-shadow: 0px 1px 3px 1px rgba(0, 0, 0, 0.15);\n",
              "      filter: drop-shadow(0px 1px 2px rgba(0, 0, 0, 0.3));\n",
              "      fill: #FFFFFF;\n",
              "    }\n",
              "  </style>\n",
              "\n",
              "    <script>\n",
              "      const buttonEl =\n",
              "        document.querySelector('#df-44a5d270-bce1-4158-982e-cce9bba9e7d1 button.colab-df-convert');\n",
              "      buttonEl.style.display =\n",
              "        google.colab.kernel.accessAllowed ? 'block' : 'none';\n",
              "\n",
              "      async function convertToInteractive(key) {\n",
              "        const element = document.querySelector('#df-44a5d270-bce1-4158-982e-cce9bba9e7d1');\n",
              "        const dataTable =\n",
              "          await google.colab.kernel.invokeFunction('convertToInteractive',\n",
              "                                                    [key], {});\n",
              "        if (!dataTable) return;\n",
              "\n",
              "        const docLinkHtml = 'Like what you see? Visit the ' +\n",
              "          '<a target=\"_blank\" href=https://colab.research.google.com/notebooks/data_table.ipynb>data table notebook</a>'\n",
              "          + ' to learn more about interactive tables.';\n",
              "        element.innerHTML = '';\n",
              "        dataTable['output_type'] = 'display_data';\n",
              "        await google.colab.output.renderOutput(dataTable, element);\n",
              "        const docLink = document.createElement('div');\n",
              "        docLink.innerHTML = docLinkHtml;\n",
              "        element.appendChild(docLink);\n",
              "      }\n",
              "    </script>\n",
              "  </div>\n",
              "\n",
              "\n",
              "<div id=\"df-fdee8bfd-5648-4c7c-9248-fa8ba506b0a2\">\n",
              "  <button class=\"colab-df-quickchart\" onclick=\"quickchart('df-fdee8bfd-5648-4c7c-9248-fa8ba506b0a2')\"\n",
              "            title=\"Suggest charts\"\n",
              "            style=\"display:none;\">\n",
              "\n",
              "<svg xmlns=\"http://www.w3.org/2000/svg\" height=\"24px\"viewBox=\"0 0 24 24\"\n",
              "     width=\"24px\">\n",
              "    <g>\n",
              "        <path d=\"M19 3H5c-1.1 0-2 .9-2 2v14c0 1.1.9 2 2 2h14c1.1 0 2-.9 2-2V5c0-1.1-.9-2-2-2zM9 17H7v-7h2v7zm4 0h-2V7h2v10zm4 0h-2v-4h2v4z\"/>\n",
              "    </g>\n",
              "</svg>\n",
              "  </button>\n",
              "\n",
              "<style>\n",
              "  .colab-df-quickchart {\n",
              "      --bg-color: #E8F0FE;\n",
              "      --fill-color: #1967D2;\n",
              "      --hover-bg-color: #E2EBFA;\n",
              "      --hover-fill-color: #174EA6;\n",
              "      --disabled-fill-color: #AAA;\n",
              "      --disabled-bg-color: #DDD;\n",
              "  }\n",
              "\n",
              "  [theme=dark] .colab-df-quickchart {\n",
              "      --bg-color: #3B4455;\n",
              "      --fill-color: #D2E3FC;\n",
              "      --hover-bg-color: #434B5C;\n",
              "      --hover-fill-color: #FFFFFF;\n",
              "      --disabled-bg-color: #3B4455;\n",
              "      --disabled-fill-color: #666;\n",
              "  }\n",
              "\n",
              "  .colab-df-quickchart {\n",
              "    background-color: var(--bg-color);\n",
              "    border: none;\n",
              "    border-radius: 50%;\n",
              "    cursor: pointer;\n",
              "    display: none;\n",
              "    fill: var(--fill-color);\n",
              "    height: 32px;\n",
              "    padding: 0;\n",
              "    width: 32px;\n",
              "  }\n",
              "\n",
              "  .colab-df-quickchart:hover {\n",
              "    background-color: var(--hover-bg-color);\n",
              "    box-shadow: 0 1px 2px rgba(60, 64, 67, 0.3), 0 1px 3px 1px rgba(60, 64, 67, 0.15);\n",
              "    fill: var(--button-hover-fill-color);\n",
              "  }\n",
              "\n",
              "  .colab-df-quickchart-complete:disabled,\n",
              "  .colab-df-quickchart-complete:disabled:hover {\n",
              "    background-color: var(--disabled-bg-color);\n",
              "    fill: var(--disabled-fill-color);\n",
              "    box-shadow: none;\n",
              "  }\n",
              "\n",
              "  .colab-df-spinner {\n",
              "    border: 2px solid var(--fill-color);\n",
              "    border-color: transparent;\n",
              "    border-bottom-color: var(--fill-color);\n",
              "    animation:\n",
              "      spin 1s steps(1) infinite;\n",
              "  }\n",
              "\n",
              "  @keyframes spin {\n",
              "    0% {\n",
              "      border-color: transparent;\n",
              "      border-bottom-color: var(--fill-color);\n",
              "      border-left-color: var(--fill-color);\n",
              "    }\n",
              "    20% {\n",
              "      border-color: transparent;\n",
              "      border-left-color: var(--fill-color);\n",
              "      border-top-color: var(--fill-color);\n",
              "    }\n",
              "    30% {\n",
              "      border-color: transparent;\n",
              "      border-left-color: var(--fill-color);\n",
              "      border-top-color: var(--fill-color);\n",
              "      border-right-color: var(--fill-color);\n",
              "    }\n",
              "    40% {\n",
              "      border-color: transparent;\n",
              "      border-right-color: var(--fill-color);\n",
              "      border-top-color: var(--fill-color);\n",
              "    }\n",
              "    60% {\n",
              "      border-color: transparent;\n",
              "      border-right-color: var(--fill-color);\n",
              "    }\n",
              "    80% {\n",
              "      border-color: transparent;\n",
              "      border-right-color: var(--fill-color);\n",
              "      border-bottom-color: var(--fill-color);\n",
              "    }\n",
              "    90% {\n",
              "      border-color: transparent;\n",
              "      border-bottom-color: var(--fill-color);\n",
              "    }\n",
              "  }\n",
              "</style>\n",
              "\n",
              "  <script>\n",
              "    async function quickchart(key) {\n",
              "      const quickchartButtonEl =\n",
              "        document.querySelector('#' + key + ' button');\n",
              "      quickchartButtonEl.disabled = true;  // To prevent multiple clicks.\n",
              "      quickchartButtonEl.classList.add('colab-df-spinner');\n",
              "      try {\n",
              "        const charts = await google.colab.kernel.invokeFunction(\n",
              "            'suggestCharts', [key], {});\n",
              "      } catch (error) {\n",
              "        console.error('Error during call to suggestCharts:', error);\n",
              "      }\n",
              "      quickchartButtonEl.classList.remove('colab-df-spinner');\n",
              "      quickchartButtonEl.classList.add('colab-df-quickchart-complete');\n",
              "    }\n",
              "    (() => {\n",
              "      let quickchartButtonEl =\n",
              "        document.querySelector('#df-fdee8bfd-5648-4c7c-9248-fa8ba506b0a2 button');\n",
              "      quickchartButtonEl.style.display =\n",
              "        google.colab.kernel.accessAllowed ? 'block' : 'none';\n",
              "    })();\n",
              "  </script>\n",
              "</div>\n",
              "\n",
              "    </div>\n",
              "  </div>\n"
            ]
          },
          "metadata": {},
          "execution_count": 7
        }
      ]
    },
    {
      "cell_type": "code",
      "source": [
        "reject_df.shape"
      ],
      "metadata": {
        "colab": {
          "base_uri": "https://localhost:8080/"
        },
        "id": "q2KsP--0wBS4",
        "outputId": "24f386f6-bced-4da6-a2da-9577b56d1c26"
      },
      "execution_count": null,
      "outputs": [
        {
          "output_type": "execute_result",
          "data": {
            "text/plain": [
              "(27648741, 9)"
            ]
          },
          "metadata": {},
          "execution_count": 8
        }
      ]
    },
    {
      "cell_type": "code",
      "source": [
        "reject_df.columns"
      ],
      "metadata": {
        "colab": {
          "base_uri": "https://localhost:8080/"
        },
        "id": "euPPfc7UtAAB",
        "outputId": "d99bc910-0ba2-45c1-a5df-404059f7b47b"
      },
      "execution_count": null,
      "outputs": [
        {
          "output_type": "execute_result",
          "data": {
            "text/plain": [
              "Index(['Amount Requested', 'Application Date', 'Loan Title', 'Risk_Score',\n",
              "       'Debt-To-Income Ratio', 'Zip Code', 'State', 'Employment Length',\n",
              "       'Policy Code'],\n",
              "      dtype='object')"
            ]
          },
          "metadata": {},
          "execution_count": 9
        }
      ]
    },
    {
      "cell_type": "code",
      "source": [
        "reject_df.describe()"
      ],
      "metadata": {
        "colab": {
          "base_uri": "https://localhost:8080/",
          "height": 300
        },
        "id": "I_pBntODdFPL",
        "outputId": "948e4eec-a0e0-4ddf-ce07-48957db67bfb"
      },
      "execution_count": null,
      "outputs": [
        {
          "output_type": "execute_result",
          "data": {
            "text/plain": [
              "       Amount Requested    Risk_Score   Policy Code\n",
              "count      2.764874e+07  9.151111e+06  2.764782e+07\n",
              "mean       1.313324e+04  6.281721e+02  6.375113e-03\n",
              "std        1.500964e+04  8.993679e+01  1.127368e-01\n",
              "min        0.000000e+00  0.000000e+00  0.000000e+00\n",
              "25%        4.800000e+03  5.910000e+02  0.000000e+00\n",
              "50%        1.000000e+04  6.370000e+02  0.000000e+00\n",
              "75%        2.000000e+04  6.750000e+02  0.000000e+00\n",
              "max        1.400000e+06  9.900000e+02  2.000000e+00"
            ],
            "text/html": [
              "\n",
              "  <div id=\"df-02120ece-9def-4ffc-94f5-c929741716d9\" class=\"colab-df-container\">\n",
              "    <div>\n",
              "<style scoped>\n",
              "    .dataframe tbody tr th:only-of-type {\n",
              "        vertical-align: middle;\n",
              "    }\n",
              "\n",
              "    .dataframe tbody tr th {\n",
              "        vertical-align: top;\n",
              "    }\n",
              "\n",
              "    .dataframe thead th {\n",
              "        text-align: right;\n",
              "    }\n",
              "</style>\n",
              "<table border=\"1\" class=\"dataframe\">\n",
              "  <thead>\n",
              "    <tr style=\"text-align: right;\">\n",
              "      <th></th>\n",
              "      <th>Amount Requested</th>\n",
              "      <th>Risk_Score</th>\n",
              "      <th>Policy Code</th>\n",
              "    </tr>\n",
              "  </thead>\n",
              "  <tbody>\n",
              "    <tr>\n",
              "      <th>count</th>\n",
              "      <td>2.764874e+07</td>\n",
              "      <td>9.151111e+06</td>\n",
              "      <td>2.764782e+07</td>\n",
              "    </tr>\n",
              "    <tr>\n",
              "      <th>mean</th>\n",
              "      <td>1.313324e+04</td>\n",
              "      <td>6.281721e+02</td>\n",
              "      <td>6.375113e-03</td>\n",
              "    </tr>\n",
              "    <tr>\n",
              "      <th>std</th>\n",
              "      <td>1.500964e+04</td>\n",
              "      <td>8.993679e+01</td>\n",
              "      <td>1.127368e-01</td>\n",
              "    </tr>\n",
              "    <tr>\n",
              "      <th>min</th>\n",
              "      <td>0.000000e+00</td>\n",
              "      <td>0.000000e+00</td>\n",
              "      <td>0.000000e+00</td>\n",
              "    </tr>\n",
              "    <tr>\n",
              "      <th>25%</th>\n",
              "      <td>4.800000e+03</td>\n",
              "      <td>5.910000e+02</td>\n",
              "      <td>0.000000e+00</td>\n",
              "    </tr>\n",
              "    <tr>\n",
              "      <th>50%</th>\n",
              "      <td>1.000000e+04</td>\n",
              "      <td>6.370000e+02</td>\n",
              "      <td>0.000000e+00</td>\n",
              "    </tr>\n",
              "    <tr>\n",
              "      <th>75%</th>\n",
              "      <td>2.000000e+04</td>\n",
              "      <td>6.750000e+02</td>\n",
              "      <td>0.000000e+00</td>\n",
              "    </tr>\n",
              "    <tr>\n",
              "      <th>max</th>\n",
              "      <td>1.400000e+06</td>\n",
              "      <td>9.900000e+02</td>\n",
              "      <td>2.000000e+00</td>\n",
              "    </tr>\n",
              "  </tbody>\n",
              "</table>\n",
              "</div>\n",
              "    <div class=\"colab-df-buttons\">\n",
              "\n",
              "  <div class=\"colab-df-container\">\n",
              "    <button class=\"colab-df-convert\" onclick=\"convertToInteractive('df-02120ece-9def-4ffc-94f5-c929741716d9')\"\n",
              "            title=\"Convert this dataframe to an interactive table.\"\n",
              "            style=\"display:none;\">\n",
              "\n",
              "  <svg xmlns=\"http://www.w3.org/2000/svg\" height=\"24px\" viewBox=\"0 -960 960 960\">\n",
              "    <path d=\"M120-120v-720h720v720H120Zm60-500h600v-160H180v160Zm220 220h160v-160H400v160Zm0 220h160v-160H400v160ZM180-400h160v-160H180v160Zm440 0h160v-160H620v160ZM180-180h160v-160H180v160Zm440 0h160v-160H620v160Z\"/>\n",
              "  </svg>\n",
              "    </button>\n",
              "\n",
              "  <style>\n",
              "    .colab-df-container {\n",
              "      display:flex;\n",
              "      gap: 12px;\n",
              "    }\n",
              "\n",
              "    .colab-df-convert {\n",
              "      background-color: #E8F0FE;\n",
              "      border: none;\n",
              "      border-radius: 50%;\n",
              "      cursor: pointer;\n",
              "      display: none;\n",
              "      fill: #1967D2;\n",
              "      height: 32px;\n",
              "      padding: 0 0 0 0;\n",
              "      width: 32px;\n",
              "    }\n",
              "\n",
              "    .colab-df-convert:hover {\n",
              "      background-color: #E2EBFA;\n",
              "      box-shadow: 0px 1px 2px rgba(60, 64, 67, 0.3), 0px 1px 3px 1px rgba(60, 64, 67, 0.15);\n",
              "      fill: #174EA6;\n",
              "    }\n",
              "\n",
              "    .colab-df-buttons div {\n",
              "      margin-bottom: 4px;\n",
              "    }\n",
              "\n",
              "    [theme=dark] .colab-df-convert {\n",
              "      background-color: #3B4455;\n",
              "      fill: #D2E3FC;\n",
              "    }\n",
              "\n",
              "    [theme=dark] .colab-df-convert:hover {\n",
              "      background-color: #434B5C;\n",
              "      box-shadow: 0px 1px 3px 1px rgba(0, 0, 0, 0.15);\n",
              "      filter: drop-shadow(0px 1px 2px rgba(0, 0, 0, 0.3));\n",
              "      fill: #FFFFFF;\n",
              "    }\n",
              "  </style>\n",
              "\n",
              "    <script>\n",
              "      const buttonEl =\n",
              "        document.querySelector('#df-02120ece-9def-4ffc-94f5-c929741716d9 button.colab-df-convert');\n",
              "      buttonEl.style.display =\n",
              "        google.colab.kernel.accessAllowed ? 'block' : 'none';\n",
              "\n",
              "      async function convertToInteractive(key) {\n",
              "        const element = document.querySelector('#df-02120ece-9def-4ffc-94f5-c929741716d9');\n",
              "        const dataTable =\n",
              "          await google.colab.kernel.invokeFunction('convertToInteractive',\n",
              "                                                    [key], {});\n",
              "        if (!dataTable) return;\n",
              "\n",
              "        const docLinkHtml = 'Like what you see? Visit the ' +\n",
              "          '<a target=\"_blank\" href=https://colab.research.google.com/notebooks/data_table.ipynb>data table notebook</a>'\n",
              "          + ' to learn more about interactive tables.';\n",
              "        element.innerHTML = '';\n",
              "        dataTable['output_type'] = 'display_data';\n",
              "        await google.colab.output.renderOutput(dataTable, element);\n",
              "        const docLink = document.createElement('div');\n",
              "        docLink.innerHTML = docLinkHtml;\n",
              "        element.appendChild(docLink);\n",
              "      }\n",
              "    </script>\n",
              "  </div>\n",
              "\n",
              "\n",
              "<div id=\"df-7bea1456-7c65-4912-9692-b375e29a8cc4\">\n",
              "  <button class=\"colab-df-quickchart\" onclick=\"quickchart('df-7bea1456-7c65-4912-9692-b375e29a8cc4')\"\n",
              "            title=\"Suggest charts\"\n",
              "            style=\"display:none;\">\n",
              "\n",
              "<svg xmlns=\"http://www.w3.org/2000/svg\" height=\"24px\"viewBox=\"0 0 24 24\"\n",
              "     width=\"24px\">\n",
              "    <g>\n",
              "        <path d=\"M19 3H5c-1.1 0-2 .9-2 2v14c0 1.1.9 2 2 2h14c1.1 0 2-.9 2-2V5c0-1.1-.9-2-2-2zM9 17H7v-7h2v7zm4 0h-2V7h2v10zm4 0h-2v-4h2v4z\"/>\n",
              "    </g>\n",
              "</svg>\n",
              "  </button>\n",
              "\n",
              "<style>\n",
              "  .colab-df-quickchart {\n",
              "      --bg-color: #E8F0FE;\n",
              "      --fill-color: #1967D2;\n",
              "      --hover-bg-color: #E2EBFA;\n",
              "      --hover-fill-color: #174EA6;\n",
              "      --disabled-fill-color: #AAA;\n",
              "      --disabled-bg-color: #DDD;\n",
              "  }\n",
              "\n",
              "  [theme=dark] .colab-df-quickchart {\n",
              "      --bg-color: #3B4455;\n",
              "      --fill-color: #D2E3FC;\n",
              "      --hover-bg-color: #434B5C;\n",
              "      --hover-fill-color: #FFFFFF;\n",
              "      --disabled-bg-color: #3B4455;\n",
              "      --disabled-fill-color: #666;\n",
              "  }\n",
              "\n",
              "  .colab-df-quickchart {\n",
              "    background-color: var(--bg-color);\n",
              "    border: none;\n",
              "    border-radius: 50%;\n",
              "    cursor: pointer;\n",
              "    display: none;\n",
              "    fill: var(--fill-color);\n",
              "    height: 32px;\n",
              "    padding: 0;\n",
              "    width: 32px;\n",
              "  }\n",
              "\n",
              "  .colab-df-quickchart:hover {\n",
              "    background-color: var(--hover-bg-color);\n",
              "    box-shadow: 0 1px 2px rgba(60, 64, 67, 0.3), 0 1px 3px 1px rgba(60, 64, 67, 0.15);\n",
              "    fill: var(--button-hover-fill-color);\n",
              "  }\n",
              "\n",
              "  .colab-df-quickchart-complete:disabled,\n",
              "  .colab-df-quickchart-complete:disabled:hover {\n",
              "    background-color: var(--disabled-bg-color);\n",
              "    fill: var(--disabled-fill-color);\n",
              "    box-shadow: none;\n",
              "  }\n",
              "\n",
              "  .colab-df-spinner {\n",
              "    border: 2px solid var(--fill-color);\n",
              "    border-color: transparent;\n",
              "    border-bottom-color: var(--fill-color);\n",
              "    animation:\n",
              "      spin 1s steps(1) infinite;\n",
              "  }\n",
              "\n",
              "  @keyframes spin {\n",
              "    0% {\n",
              "      border-color: transparent;\n",
              "      border-bottom-color: var(--fill-color);\n",
              "      border-left-color: var(--fill-color);\n",
              "    }\n",
              "    20% {\n",
              "      border-color: transparent;\n",
              "      border-left-color: var(--fill-color);\n",
              "      border-top-color: var(--fill-color);\n",
              "    }\n",
              "    30% {\n",
              "      border-color: transparent;\n",
              "      border-left-color: var(--fill-color);\n",
              "      border-top-color: var(--fill-color);\n",
              "      border-right-color: var(--fill-color);\n",
              "    }\n",
              "    40% {\n",
              "      border-color: transparent;\n",
              "      border-right-color: var(--fill-color);\n",
              "      border-top-color: var(--fill-color);\n",
              "    }\n",
              "    60% {\n",
              "      border-color: transparent;\n",
              "      border-right-color: var(--fill-color);\n",
              "    }\n",
              "    80% {\n",
              "      border-color: transparent;\n",
              "      border-right-color: var(--fill-color);\n",
              "      border-bottom-color: var(--fill-color);\n",
              "    }\n",
              "    90% {\n",
              "      border-color: transparent;\n",
              "      border-bottom-color: var(--fill-color);\n",
              "    }\n",
              "  }\n",
              "</style>\n",
              "\n",
              "  <script>\n",
              "    async function quickchart(key) {\n",
              "      const quickchartButtonEl =\n",
              "        document.querySelector('#' + key + ' button');\n",
              "      quickchartButtonEl.disabled = true;  // To prevent multiple clicks.\n",
              "      quickchartButtonEl.classList.add('colab-df-spinner');\n",
              "      try {\n",
              "        const charts = await google.colab.kernel.invokeFunction(\n",
              "            'suggestCharts', [key], {});\n",
              "      } catch (error) {\n",
              "        console.error('Error during call to suggestCharts:', error);\n",
              "      }\n",
              "      quickchartButtonEl.classList.remove('colab-df-spinner');\n",
              "      quickchartButtonEl.classList.add('colab-df-quickchart-complete');\n",
              "    }\n",
              "    (() => {\n",
              "      let quickchartButtonEl =\n",
              "        document.querySelector('#df-7bea1456-7c65-4912-9692-b375e29a8cc4 button');\n",
              "      quickchartButtonEl.style.display =\n",
              "        google.colab.kernel.accessAllowed ? 'block' : 'none';\n",
              "    })();\n",
              "  </script>\n",
              "</div>\n",
              "\n",
              "    </div>\n",
              "  </div>\n"
            ]
          },
          "metadata": {},
          "execution_count": 10
        }
      ]
    },
    {
      "cell_type": "markdown",
      "source": [
        "Xuất hiện giá trị bằng 0 bất thường ở ở Amount và Risk Score"
      ],
      "metadata": {
        "id": "y58ttjSErTp4"
      }
    },
    {
      "cell_type": "code",
      "source": [
        "pd.to_datetime(reject_df['Application Date']).min(), pd.to_datetime(reject_df['Application Date']).max()"
      ],
      "metadata": {
        "colab": {
          "base_uri": "https://localhost:8080/"
        },
        "id": "0KKdB0lYlcCu",
        "outputId": "c3d5ee9a-0a9c-4157-9ff3-478a7f832d45"
      },
      "execution_count": null,
      "outputs": [
        {
          "output_type": "execute_result",
          "data": {
            "text/plain": [
              "(Timestamp('2007-05-26 00:00:00'), Timestamp('2018-12-31 00:00:00'))"
            ]
          },
          "metadata": {},
          "execution_count": 11
        }
      ]
    },
    {
      "cell_type": "code",
      "source": [
        "pd.to_datetime(acc_df['issue_d']).min(), pd.to_datetime(acc_df['issue_d']).max()"
      ],
      "metadata": {
        "colab": {
          "base_uri": "https://localhost:8080/"
        },
        "id": "CXA0wT2glwnz",
        "outputId": "9c1fbfdc-10ae-4e28-80bf-53405830f660"
      },
      "execution_count": null,
      "outputs": [
        {
          "output_type": "execute_result",
          "data": {
            "text/plain": [
              "(Timestamp('2007-06-01 00:00:00'), Timestamp('2018-12-01 00:00:00'))"
            ]
          },
          "metadata": {},
          "execution_count": 12
        }
      ]
    },
    {
      "cell_type": "code",
      "source": [
        "acc_df.shape[0]/(acc_df.shape[0]+reject_df.shape[0]) * 100"
      ],
      "metadata": {
        "colab": {
          "base_uri": "https://localhost:8080/"
        },
        "id": "Zxzk8Ca4wNgA",
        "outputId": "561b915d-461b-4036-e1ea-586895f4b06e"
      },
      "execution_count": null,
      "outputs": [
        {
          "output_type": "execute_result",
          "data": {
            "text/plain": [
              "7.558486045978391"
            ]
          },
          "metadata": {},
          "execution_count": 13
        }
      ]
    },
    {
      "cell_type": "markdown",
      "source": [
        "Chỉ có 7.56% số người đăng ký trong giai đoạn 2007-2019 được LendingClub chấp nhận cho vay"
      ],
      "metadata": {
        "id": "9bR76MC4wKCZ"
      }
    },
    {
      "cell_type": "markdown",
      "source": [
        "# Làm sạch\n",
        "\n",
        "Chọn ra các cột khi khách hàng nộp hồ sơ và cột có thể LendingClub có thể có từ nguồn khác khi xác minh hồ sơ.\n",
        "\n",
        "Sau đó chọn ra các biến phù hợp để xây dựng mô hình.\n",
        "\n",
        "Tập trung vào dữ liệu chấp nhận cho vay.\n",
        "\n"
      ],
      "metadata": {
        "id": "-SH7uyqD8DVx"
      }
    },
    {
      "cell_type": "markdown",
      "source": [
        "## 1. Lấy 2 nhãn"
      ],
      "metadata": {
        "id": "h8hx5gUj9NMP"
      }
    },
    {
      "cell_type": "markdown",
      "source": [
        "Chọn các bản ghi có **loan_status** là *Fully Paid* và *Charged Off*"
      ],
      "metadata": {
        "id": "lpsGjwYQ-h9l"
      }
    },
    {
      "cell_type": "code",
      "source": [
        "acc_df['loan_status'].replace({'Does not meet the credit policy. Status:Fully Paid': 'Fully Paid',\n",
        "                               'Does not meet the credit policy. Status:Charged Off': 'Charged Off'},\n",
        "                              inplace = True)"
      ],
      "metadata": {
        "id": "HTOpgkIt--aP"
      },
      "execution_count": null,
      "outputs": []
    },
    {
      "cell_type": "code",
      "source": [
        "# Lấy dữ liệu gồm 2 nhãn\n",
        "acc_df = acc_df[(acc_df['loan_status'] == 'Fully Paid') | (acc_df['loan_status'] == 'Charged Off')]\n",
        "acc_df.shape"
      ],
      "metadata": {
        "colab": {
          "base_uri": "https://localhost:8080/"
        },
        "id": "_WRMpQvLChIR",
        "outputId": "578432dd-2efb-4707-ae3b-7fa782a41dd5"
      },
      "execution_count": null,
      "outputs": [
        {
          "output_type": "execute_result",
          "data": {
            "text/plain": [
              "(1348059, 151)"
            ]
          },
          "metadata": {},
          "execution_count": 16
        }
      ]
    },
    {
      "cell_type": "markdown",
      "source": [
        "Dữ liệu còn 60% so với ban đầu"
      ],
      "metadata": {
        "id": "-dz8oXDkDBQy"
      }
    },
    {
      "cell_type": "code",
      "source": [
        "acc_df.loan_status.value_counts()"
      ],
      "metadata": {
        "colab": {
          "base_uri": "https://localhost:8080/"
        },
        "id": "11InTG4JC5T-",
        "outputId": "50a39137-450c-48dc-da46-f9fb5849f7fb"
      },
      "execution_count": null,
      "outputs": [
        {
          "output_type": "execute_result",
          "data": {
            "text/plain": [
              "Fully Paid     1078739\n",
              "Charged Off     269320\n",
              "Name: loan_status, dtype: int64"
            ]
          },
          "metadata": {},
          "execution_count": 17
        }
      ]
    },
    {
      "cell_type": "markdown",
      "source": [
        "## 2. Giá trị bị thiếu"
      ],
      "metadata": {
        "id": "W6aoRIrv8OBp"
      }
    },
    {
      "cell_type": "code",
      "source": [
        "col_null = acc_df.isnull().sum().to_frame(name='count')\n",
        "col_null['rate'] = round((col_null['count'] / acc_df.shape[0]) * 100,3)"
      ],
      "metadata": {
        "id": "sVwxoHeUtgZX"
      },
      "execution_count": null,
      "outputs": []
    },
    {
      "cell_type": "code",
      "source": [
        "col_null=col_null.sort_values('rate')\n",
        "col_null.rate.hist()"
      ],
      "metadata": {
        "colab": {
          "base_uri": "https://localhost:8080/",
          "height": 447
        },
        "id": "rOThwIllHw9J",
        "outputId": "a5afcfb9-c7d6-4ae3-e251-d636ad57de1e"
      },
      "execution_count": null,
      "outputs": [
        {
          "output_type": "execute_result",
          "data": {
            "text/plain": [
              "<Axes: >"
            ]
          },
          "metadata": {},
          "execution_count": 19
        },
        {
          "output_type": "display_data",
          "data": {
            "text/plain": [
              "<Figure size 640x480 with 1 Axes>"
            ],
            "image/png": "[encoded data removed]"
          },
          "metadata": {}
        }
      ]
    },
    {
      "cell_type": "code",
      "source": [
        "len(col_null[col_null.rate > 80]), len(col_null[(col_null.rate >= 20)&(col_null.rate <= 80)])"
      ],
      "metadata": {
        "colab": {
          "base_uri": "https://localhost:8080/"
        },
        "id": "isACSCtrCZ5t",
        "outputId": "091c7891-26a8-4148-ad5c-5458313a4787"
      },
      "execution_count": null,
      "outputs": [
        {
          "output_type": "execute_result",
          "data": {
            "text/plain": [
              "(40, 18)"
            ]
          },
          "metadata": {},
          "execution_count": 20
        }
      ]
    },
    {
      "cell_type": "markdown",
      "source": [
        "40 cột bị null trên 80%.\n",
        "\n",
        "18 cột null từ 20 đến 80%\n",
        "\n",
        "Còn lại là các cột bị null ít.\n",
        "\n",
        "Có thể xem xét giữa việc xoá cột/hàng hoặc điền giá trị"
      ],
      "metadata": {
        "id": "FvcrpCGM9F2M"
      }
    },
    {
      "cell_type": "code",
      "source": [
        "# Nếu cả data là tờ giấy hình chữ nhật thì phần bị rách mất đi là Null :D\n",
        "ax = col_null['rate'].plot(kind='bar', width=1, figsize=(8, 6), color='gray')\n",
        "ax.set_facecolor('#87CEEB')\n",
        "plt.xticks([])\n",
        "plt.yticks([])\n",
        "ax.legend(handles=[Patch(color='#87CEEB', label='Not Null'),\n",
        "                   Patch(color='gray', label='Null')],\n",
        "          bbox_to_anchor=(1.05, 1), loc='upper left')\n",
        "plt.title(\"If dataset is paper...\")\n",
        "plt.show()"
      ],
      "metadata": {
        "colab": {
          "base_uri": "https://localhost:8080/",
          "height": 521
        },
        "id": "Ejv3XzGD-180",
        "outputId": "b3538e87-ae47-425b-bcc2-b488a19d30b8"
      },
      "execution_count": null,
      "outputs": [
        {
          "output_type": "display_data",
          "data": {
            "text/plain": [
              "<Figure size 800x600 with 1 Axes>"
            ],
            "image/png": "[encoded data removed]"
          },
          "metadata": {}
        }
      ]
    },
    {
      "cell_type": "markdown",
      "source": [
        "Theo chiều dọc là các cột, Có thể thấy có rất nhiều cột có % giá trị bị thiếu > 50%"
      ],
      "metadata": {
        "id": "WZ07hAktzJbk"
      }
    },
    {
      "cell_type": "code",
      "source": [
        "col_null[col_null.rate > 10]"
      ],
      "metadata": {
        "id": "rwZvfvLT51Sf",
        "colab": {
          "base_uri": "https://localhost:8080/",
          "height": 1000
        },
        "outputId": "51492170-e844-4c17-e7aa-2653d0262f80"
      },
      "execution_count": null,
      "outputs": [
        {
          "output_type": "execute_result",
          "data": {
            "text/plain": [
              "                                              count     rate\n",
              "mths_since_recent_inq                        176820   13.117\n",
              "mths_since_last_delinq                       679942   50.439\n",
              "inq_fi                                       810461   60.121\n",
              "inq_last_12m                                 810462   60.121\n",
              "total_cu_tl                                  810462   60.121\n",
              "open_acc_6m                                  810462   60.121\n",
              "max_bal_bc                                   810461   60.121\n",
              "open_rv_24m                                  810461   60.121\n",
              "open_rv_12m                                  810461   60.121\n",
              "total_bal_il                                 810461   60.121\n",
              "open_act_il                                  810461   60.121\n",
              "open_il_24m                                  810461   60.121\n",
              "open_il_12m                                  810461   60.121\n",
              "all_util                                     810514   60.125\n",
              "mths_since_rcnt_il                           824677   61.175\n",
              "il_util                                      883043   65.505\n",
              "mths_since_recent_revol_delinq               898097   66.621\n",
              "mths_since_last_major_derog                  994309   73.759\n",
              "mths_since_recent_bc_dlq                    1029039   76.335\n",
              "mths_since_last_record                      1118644   82.982\n",
              "desc                                        1222104   90.657\n",
              "settlement_amount                           1314773   97.531\n",
              "settlement_date                             1314773   97.531\n",
              "settlement_status                           1314773   97.531\n",
              "debt_settlement_flag_date                   1314773   97.531\n",
              "settlement_term                             1314773   97.531\n",
              "settlement_percentage                       1314773   97.531\n",
              "dti_joint                                   1322262   98.086\n",
              "annual_inc_joint                            1322259   98.086\n",
              "verification_status_joint                   1322464   98.101\n",
              "sec_app_earliest_cr_line                    1329429   98.618\n",
              "sec_app_inq_last_6mths                      1329429   98.618\n",
              "sec_app_mort_acc                            1329429   98.618\n",
              "sec_app_open_acc                            1329429   98.618\n",
              "sec_app_fico_range_low                      1329429   98.618\n",
              "sec_app_open_act_il                         1329429   98.618\n",
              "sec_app_num_rev_accts                       1329429   98.618\n",
              "sec_app_chargeoff_within_12_mths            1329429   98.618\n",
              "sec_app_collections_12_mths_ex_med          1329429   98.618\n",
              "revol_bal_joint                             1329430   98.618\n",
              "sec_app_fico_range_high                     1329429   98.618\n",
              "sec_app_revol_util                          1329757   98.642\n",
              "sec_app_mths_since_last_major_derog         1341414   99.507\n",
              "deferral_term                               1342305   99.573\n",
              "hardship_type                               1342305   99.573\n",
              "hardship_reason                             1342305   99.573\n",
              "hardship_status                             1342305   99.573\n",
              "hardship_amount                             1342305   99.573\n",
              "hardship_payoff_balance_amount              1342305   99.573\n",
              "hardship_last_payment_amount                1342305   99.573\n",
              "hardship_loan_status                        1342305   99.573\n",
              "hardship_dpd                                1342305   99.573\n",
              "hardship_length                             1342305   99.573\n",
              "payment_plan_start_date                     1342305   99.573\n",
              "hardship_end_date                           1342305   99.573\n",
              "hardship_start_date                         1342305   99.573\n",
              "orig_projected_additional_accrued_interest  1344300   99.721\n",
              "next_pymnt_d                                1345310   99.796\n",
              "member_id                                   1348059  100.000"
            ],
            "text/html": [
              "\n",
              "  <div id=\"df-79f004a9-2c6b-4bb9-a714-8b096de869a2\" class=\"colab-df-container\">\n",
              "    <div>\n",
              "<style scoped>\n",
              "    .dataframe tbody tr th:only-of-type {\n",
              "        vertical-align: middle;\n",
              "    }\n",
              "\n",
              "    .dataframe tbody tr th {\n",
              "        vertical-align: top;\n",
              "    }\n",
              "\n",
              "    .dataframe thead th {\n",
              "        text-align: right;\n",
              "    }\n",
              "</style>\n",
              "<table border=\"1\" class=\"dataframe\">\n",
              "  <thead>\n",
              "    <tr style=\"text-align: right;\">\n",
              "      <th></th>\n",
              "      <th>count</th>\n",
              "      <th>rate</th>\n",
              "    </tr>\n",
              "  </thead>\n",
              "  <tbody>\n",
              "    <tr>\n",
              "      <th>mths_since_recent_inq</th>\n",
              "      <td>176820</td>\n",
              "      <td>13.117</td>\n",
              "    </tr>\n",
              "    <tr>\n",
              "      <th>mths_since_last_delinq</th>\n",
              "      <td>679942</td>\n",
              "      <td>50.439</td>\n",
              "    </tr>\n",
              "    <tr>\n",
              "      <th>inq_fi</th>\n",
              "      <td>810461</td>\n",
              "      <td>60.121</td>\n",
              "    </tr>\n",
              "    <tr>\n",
              "      <th>inq_last_12m</th>\n",
              "      <td>810462</td>\n",
              "      <td>60.121</td>\n",
              "    </tr>\n",
              "    <tr>\n",
              "      <th>total_cu_tl</th>\n",
              "      <td>810462</td>\n",
              "      <td>60.121</td>\n",
              "    </tr>\n",
              "    <tr>\n",
              "      <th>open_acc_6m</th>\n",
              "      <td>810462</td>\n",
              "      <td>60.121</td>\n",
              "    </tr>\n",
              "    <tr>\n",
              "      <th>max_bal_bc</th>\n",
              "      <td>810461</td>\n",
              "      <td>60.121</td>\n",
              "    </tr>\n",
              "    <tr>\n",
              "      <th>open_rv_24m</th>\n",
              "      <td>810461</td>\n",
              "      <td>60.121</td>\n",
              "    </tr>\n",
              "    <tr>\n",
              "      <th>open_rv_12m</th>\n",
              "      <td>810461</td>\n",
              "      <td>60.121</td>\n",
              "    </tr>\n",
              "    <tr>\n",
              "      <th>total_bal_il</th>\n",
              "      <td>810461</td>\n",
              "      <td>60.121</td>\n",
              "    </tr>\n",
              "    <tr>\n",
              "      <th>open_act_il</th>\n",
              "      <td>810461</td>\n",
              "      <td>60.121</td>\n",
              "    </tr>\n",
              "    <tr>\n",
              "      <th>open_il_24m</th>\n",
              "      <td>810461</td>\n",
              "      <td>60.121</td>\n",
              "    </tr>\n",
              "    <tr>\n",
              "      <th>open_il_12m</th>\n",
              "      <td>810461</td>\n",
              "      <td>60.121</td>\n",
              "    </tr>\n",
              "    <tr>\n",
              "      <th>all_util</th>\n",
              "      <td>810514</td>\n",
              "      <td>60.125</td>\n",
              "    </tr>\n",
              "    <tr>\n",
              "      <th>mths_since_rcnt_il</th>\n",
              "      <td>824677</td>\n",
              "      <td>61.175</td>\n",
              "    </tr>\n",
              "    <tr>\n",
              "      <th>il_util</th>\n",
              "      <td>883043</td>\n",
              "      <td>65.505</td>\n",
              "    </tr>\n",
              "    <tr>\n",
              "      <th>mths_since_recent_revol_delinq</th>\n",
              "      <td>898097</td>\n",
              "      <td>66.621</td>\n",
              "    </tr>\n",
              "    <tr>\n",
              "      <th>mths_since_last_major_derog</th>\n",
              "      <td>994309</td>\n",
              "      <td>73.759</td>\n",
              "    </tr>\n",
              "    <tr>\n",
              "      <th>mths_since_recent_bc_dlq</th>\n",
              "      <td>1029039</td>\n",
              "      <td>76.335</td>\n",
              "    </tr>\n",
              "    <tr>\n",
              "      <th>mths_since_last_record</th>\n",
              "      <td>1118644</td>\n",
              "      <td>82.982</td>\n",
              "    </tr>\n",
              "    <tr>\n",
              "      <th>desc</th>\n",
              "      <td>1222104</td>\n",
              "      <td>90.657</td>\n",
              "    </tr>\n",
              "    <tr>\n",
              "      <th>settlement_amount</th>\n",
              "      <td>1314773</td>\n",
              "      <td>97.531</td>\n",
              "    </tr>\n",
              "    <tr>\n",
              "      <th>settlement_date</th>\n",
              "      <td>1314773</td>\n",
              "      <td>97.531</td>\n",
              "    </tr>\n",
              "    <tr>\n",
              "      <th>settlement_status</th>\n",
              "      <td>1314773</td>\n",
              "      <td>97.531</td>\n",
              "    </tr>\n",
              "    <tr>\n",
              "      <th>debt_settlement_flag_date</th>\n",
              "      <td>1314773</td>\n",
              "      <td>97.531</td>\n",
              "    </tr>\n",
              "    <tr>\n",
              "      <th>settlement_term</th>\n",
              "      <td>1314773</td>\n",
              "      <td>97.531</td>\n",
              "    </tr>\n",
              "    <tr>\n",
              "      <th>settlement_percentage</th>\n",
              "      <td>1314773</td>\n",
              "      <td>97.531</td>\n",
              "    </tr>\n",
              "    <tr>\n",
              "      <th>dti_joint</th>\n",
              "      <td>1322262</td>\n",
              "      <td>98.086</td>\n",
              "    </tr>\n",
              "    <tr>\n",
              "      <th>annual_inc_joint</th>\n",
              "      <td>1322259</td>\n",
              "      <td>98.086</td>\n",
              "    </tr>\n",
              "    <tr>\n",
              "      <th>verification_status_joint</th>\n",
              "      <td>1322464</td>\n",
              "      <td>98.101</td>\n",
              "    </tr>\n",
              "    <tr>\n",
              "      <th>sec_app_earliest_cr_line</th>\n",
              "      <td>1329429</td>\n",
              "      <td>98.618</td>\n",
              "    </tr>\n",
              "    <tr>\n",
              "      <th>sec_app_inq_last_6mths</th>\n",
              "      <td>1329429</td>\n",
              "      <td>98.618</td>\n",
              "    </tr>\n",
              "    <tr>\n",
              "      <th>sec_app_mort_acc</th>\n",
              "      <td>1329429</td>\n",
              "      <td>98.618</td>\n",
              "    </tr>\n",
              "    <tr>\n",
              "      <th>sec_app_open_acc</th>\n",
              "      <td>1329429</td>\n",
              "      <td>98.618</td>\n",
              "    </tr>\n",
              "    <tr>\n",
              "      <th>sec_app_fico_range_low</th>\n",
              "      <td>1329429</td>\n",
              "      <td>98.618</td>\n",
              "    </tr>\n",
              "    <tr>\n",
              "      <th>sec_app_open_act_il</th>\n",
              "      <td>1329429</td>\n",
              "      <td>98.618</td>\n",
              "    </tr>\n",
              "    <tr>\n",
              "      <th>sec_app_num_rev_accts</th>\n",
              "      <td>1329429</td>\n",
              "      <td>98.618</td>\n",
              "    </tr>\n",
              "    <tr>\n",
              "      <th>sec_app_chargeoff_within_12_mths</th>\n",
              "      <td>1329429</td>\n",
              "      <td>98.618</td>\n",
              "    </tr>\n",
              "    <tr>\n",
              "      <th>sec_app_collections_12_mths_ex_med</th>\n",
              "      <td>1329429</td>\n",
              "      <td>98.618</td>\n",
              "    </tr>\n",
              "    <tr>\n",
              "      <th>revol_bal_joint</th>\n",
              "      <td>1329430</td>\n",
              "      <td>98.618</td>\n",
              "    </tr>\n",
              "    <tr>\n",
              "      <th>sec_app_fico_range_high</th>\n",
              "      <td>1329429</td>\n",
              "      <td>98.618</td>\n",
              "    </tr>\n",
              "    <tr>\n",
              "      <th>sec_app_revol_util</th>\n",
              "      <td>1329757</td>\n",
              "      <td>98.642</td>\n",
              "    </tr>\n",
              "    <tr>\n",
              "      <th>sec_app_mths_since_last_major_derog</th>\n",
              "      <td>1341414</td>\n",
              "      <td>99.507</td>\n",
              "    </tr>\n",
              "    <tr>\n",
              "      <th>deferral_term</th>\n",
              "      <td>1342305</td>\n",
              "      <td>99.573</td>\n",
              "    </tr>\n",
              "    <tr>\n",
              "      <th>hardship_type</th>\n",
              "      <td>1342305</td>\n",
              "      <td>99.573</td>\n",
              "    </tr>\n",
              "    <tr>\n",
              "      <th>hardship_reason</th>\n",
              "      <td>1342305</td>\n",
              "      <td>99.573</td>\n",
              "    </tr>\n",
              "    <tr>\n",
              "      <th>hardship_status</th>\n",
              "      <td>1342305</td>\n",
              "      <td>99.573</td>\n",
              "    </tr>\n",
              "    <tr>\n",
              "      <th>hardship_amount</th>\n",
              "      <td>1342305</td>\n",
              "      <td>99.573</td>\n",
              "    </tr>\n",
              "    <tr>\n",
              "      <th>hardship_payoff_balance_amount</th>\n",
              "      <td>1342305</td>\n",
              "      <td>99.573</td>\n",
              "    </tr>\n",
              "    <tr>\n",
              "      <th>hardship_last_payment_amount</th>\n",
              "      <td>1342305</td>\n",
              "      <td>99.573</td>\n",
              "    </tr>\n",
              "    <tr>\n",
              "      <th>hardship_loan_status</th>\n",
              "      <td>1342305</td>\n",
              "      <td>99.573</td>\n",
              "    </tr>\n",
              "    <tr>\n",
              "      <th>hardship_dpd</th>\n",
              "      <td>1342305</td>\n",
              "      <td>99.573</td>\n",
              "    </tr>\n",
              "    <tr>\n",
              "      <th>hardship_length</th>\n",
              "      <td>1342305</td>\n",
              "      <td>99.573</td>\n",
              "    </tr>\n",
              "    <tr>\n",
              "      <th>payment_plan_start_date</th>\n",
              "      <td>1342305</td>\n",
              "      <td>99.573</td>\n",
              "    </tr>\n",
              "    <tr>\n",
              "      <th>hardship_end_date</th>\n",
              "      <td>1342305</td>\n",
              "      <td>99.573</td>\n",
              "    </tr>\n",
              "    <tr>\n",
              "      <th>hardship_start_date</th>\n",
              "      <td>1342305</td>\n",
              "      <td>99.573</td>\n",
              "    </tr>\n",
              "    <tr>\n",
              "      <th>orig_projected_additional_accrued_interest</th>\n",
              "      <td>1344300</td>\n",
              "      <td>99.721</td>\n",
              "    </tr>\n",
              "    <tr>\n",
              "      <th>next_pymnt_d</th>\n",
              "      <td>1345310</td>\n",
              "      <td>99.796</td>\n",
              "    </tr>\n",
              "    <tr>\n",
              "      <th>member_id</th>\n",
              "      <td>1348059</td>\n",
              "      <td>100.000</td>\n",
              "    </tr>\n",
              "  </tbody>\n",
              "</table>\n",
              "</div>\n",
              "    <div class=\"colab-df-buttons\">\n",
              "\n",
              "  <div class=\"colab-df-container\">\n",
              "    <button class=\"colab-df-convert\" onclick=\"convertToInteractive('df-79f004a9-2c6b-4bb9-a714-8b096de869a2')\"\n",
              "            title=\"Convert this dataframe to an interactive table.\"\n",
              "            style=\"display:none;\">\n",
              "\n",
              "  <svg xmlns=\"http://www.w3.org/2000/svg\" height=\"24px\" viewBox=\"0 -960 960 960\">\n",
              "    <path d=\"M120-120v-720h720v720H120Zm60-500h600v-160H180v160Zm220 220h160v-160H400v160Zm0 220h160v-160H400v160ZM180-400h160v-160H180v160Zm440 0h160v-160H620v160ZM180-180h160v-160H180v160Zm440 0h160v-160H620v160Z\"/>\n",
              "  </svg>\n",
              "    </button>\n",
              "\n",
              "  <style>\n",
              "    .colab-df-container {\n",
              "      display:flex;\n",
              "      gap: 12px;\n",
              "    }\n",
              "\n",
              "    .colab-df-convert {\n",
              "      background-color: #E8F0FE;\n",
              "      border: none;\n",
              "      border-radius: 50%;\n",
              "      cursor: pointer;\n",
              "      display: none;\n",
              "      fill: #1967D2;\n",
              "      height: 32px;\n",
              "      padding: 0 0 0 0;\n",
              "      width: 32px;\n",
              "    }\n",
              "\n",
              "    .colab-df-convert:hover {\n",
              "      background-color: #E2EBFA;\n",
              "      box-shadow: 0px 1px 2px rgba(60, 64, 67, 0.3), 0px 1px 3px 1px rgba(60, 64, 67, 0.15);\n",
              "      fill: #174EA6;\n",
              "    }\n",
              "\n",
              "    .colab-df-buttons div {\n",
              "      margin-bottom: 4px;\n",
              "    }\n",
              "\n",
              "    [theme=dark] .colab-df-convert {\n",
              "      background-color: #3B4455;\n",
              "      fill: #D2E3FC;\n",
              "    }\n",
              "\n",
              "    [theme=dark] .colab-df-convert:hover {\n",
              "      background-color: #434B5C;\n",
              "      box-shadow: 0px 1px 3px 1px rgba(0, 0, 0, 0.15);\n",
              "      filter: drop-shadow(0px 1px 2px rgba(0, 0, 0, 0.3));\n",
              "      fill: #FFFFFF;\n",
              "    }\n",
              "  </style>\n",
              "\n",
              "    <script>\n",
              "      const buttonEl =\n",
              "        document.querySelector('#df-79f004a9-2c6b-4bb9-a714-8b096de869a2 button.colab-df-convert');\n",
              "      buttonEl.style.display =\n",
              "        google.colab.kernel.accessAllowed ? 'block' : 'none';\n",
              "\n",
              "      async function convertToInteractive(key) {\n",
              "        const element = document.querySelector('#df-79f004a9-2c6b-4bb9-a714-8b096de869a2');\n",
              "        const dataTable =\n",
              "          await google.colab.kernel.invokeFunction('convertToInteractive',\n",
              "                                                    [key], {});\n",
              "        if (!dataTable) return;\n",
              "\n",
              "        const docLinkHtml = 'Like what you see? Visit the ' +\n",
              "          '<a target=\"_blank\" href=https://colab.research.google.com/notebooks/data_table.ipynb>data table notebook</a>'\n",
              "          + ' to learn more about interactive tables.';\n",
              "        element.innerHTML = '';\n",
              "        dataTable['output_type'] = 'display_data';\n",
              "        await google.colab.output.renderOutput(dataTable, element);\n",
              "        const docLink = document.createElement('div');\n",
              "        docLink.innerHTML = docLinkHtml;\n",
              "        element.appendChild(docLink);\n",
              "      }\n",
              "    </script>\n",
              "  </div>\n",
              "\n",
              "\n",
              "<div id=\"df-d82a3124-4a3f-4703-8cd5-4a24adf0b6cd\">\n",
              "  <button class=\"colab-df-quickchart\" onclick=\"quickchart('df-d82a3124-4a3f-4703-8cd5-4a24adf0b6cd')\"\n",
              "            title=\"Suggest charts\"\n",
              "            style=\"display:none;\">\n",
              "\n",
              "<svg xmlns=\"http://www.w3.org/2000/svg\" height=\"24px\"viewBox=\"0 0 24 24\"\n",
              "     width=\"24px\">\n",
              "    <g>\n",
              "        <path d=\"M19 3H5c-1.1 0-2 .9-2 2v14c0 1.1.9 2 2 2h14c1.1 0 2-.9 2-2V5c0-1.1-.9-2-2-2zM9 17H7v-7h2v7zm4 0h-2V7h2v10zm4 0h-2v-4h2v4z\"/>\n",
              "    </g>\n",
              "</svg>\n",
              "  </button>\n",
              "\n",
              "<style>\n",
              "  .colab-df-quickchart {\n",
              "      --bg-color: #E8F0FE;\n",
              "      --fill-color: #1967D2;\n",
              "      --hover-bg-color: #E2EBFA;\n",
              "      --hover-fill-color: #174EA6;\n",
              "      --disabled-fill-color: #AAA;\n",
              "      --disabled-bg-color: #DDD;\n",
              "  }\n",
              "\n",
              "  [theme=dark] .colab-df-quickchart {\n",
              "      --bg-color: #3B4455;\n",
              "      --fill-color: #D2E3FC;\n",
              "      --hover-bg-color: #434B5C;\n",
              "      --hover-fill-color: #FFFFFF;\n",
              "      --disabled-bg-color: #3B4455;\n",
              "      --disabled-fill-color: #666;\n",
              "  }\n",
              "\n",
              "  .colab-df-quickchart {\n",
              "    background-color: var(--bg-color);\n",
              "    border: none;\n",
              "    border-radius: 50%;\n",
              "    cursor: pointer;\n",
              "    display: none;\n",
              "    fill: var(--fill-color);\n",
              "    height: 32px;\n",
              "    padding: 0;\n",
              "    width: 32px;\n",
              "  }\n",
              "\n",
              "  .colab-df-quickchart:hover {\n",
              "    background-color: var(--hover-bg-color);\n",
              "    box-shadow: 0 1px 2px rgba(60, 64, 67, 0.3), 0 1px 3px 1px rgba(60, 64, 67, 0.15);\n",
              "    fill: var(--button-hover-fill-color);\n",
              "  }\n",
              "\n",
              "  .colab-df-quickchart-complete:disabled,\n",
              "  .colab-df-quickchart-complete:disabled:hover {\n",
              "    background-color: var(--disabled-bg-color);\n",
              "    fill: var(--disabled-fill-color);\n",
              "    box-shadow: none;\n",
              "  }\n",
              "\n",
              "  .colab-df-spinner {\n",
              "    border: 2px solid var(--fill-color);\n",
              "    border-color: transparent;\n",
              "    border-bottom-color: var(--fill-color);\n",
              "    animation:\n",
              "      spin 1s steps(1) infinite;\n",
              "  }\n",
              "\n",
              "  @keyframes spin {\n",
              "    0% {\n",
              "      border-color: transparent;\n",
              "      border-bottom-color: var(--fill-color);\n",
              "      border-left-color: var(--fill-color);\n",
              "    }\n",
              "    20% {\n",
              "      border-color: transparent;\n",
              "      border-left-color: var(--fill-color);\n",
              "      border-top-color: var(--fill-color);\n",
              "    }\n",
              "    30% {\n",
              "      border-color: transparent;\n",
              "      border-left-color: var(--fill-color);\n",
              "      border-top-color: var(--fill-color);\n",
              "      border-right-color: var(--fill-color);\n",
              "    }\n",
              "    40% {\n",
              "      border-color: transparent;\n",
              "      border-right-color: var(--fill-color);\n",
              "      border-top-color: var(--fill-color);\n",
              "    }\n",
              "    60% {\n",
              "      border-color: transparent;\n",
              "      border-right-color: var(--fill-color);\n",
              "    }\n",
              "    80% {\n",
              "      border-color: transparent;\n",
              "      border-right-color: var(--fill-color);\n",
              "      border-bottom-color: var(--fill-color);\n",
              "    }\n",
              "    90% {\n",
              "      border-color: transparent;\n",
              "      border-bottom-color: var(--fill-color);\n",
              "    }\n",
              "  }\n",
              "</style>\n",
              "\n",
              "  <script>\n",
              "    async function quickchart(key) {\n",
              "      const quickchartButtonEl =\n",
              "        document.querySelector('#' + key + ' button');\n",
              "      quickchartButtonEl.disabled = true;  // To prevent multiple clicks.\n",
              "      quickchartButtonEl.classList.add('colab-df-spinner');\n",
              "      try {\n",
              "        const charts = await google.colab.kernel.invokeFunction(\n",
              "            'suggestCharts', [key], {});\n",
              "      } catch (error) {\n",
              "        console.error('Error during call to suggestCharts:', error);\n",
              "      }\n",
              "      quickchartButtonEl.classList.remove('colab-df-spinner');\n",
              "      quickchartButtonEl.classList.add('colab-df-quickchart-complete');\n",
              "    }\n",
              "    (() => {\n",
              "      let quickchartButtonEl =\n",
              "        document.querySelector('#df-d82a3124-4a3f-4703-8cd5-4a24adf0b6cd button');\n",
              "      quickchartButtonEl.style.display =\n",
              "        google.colab.kernel.accessAllowed ? 'block' : 'none';\n",
              "    })();\n",
              "  </script>\n",
              "</div>\n",
              "\n",
              "    </div>\n",
              "  </div>\n"
            ]
          },
          "metadata": {},
          "execution_count": 22
        }
      ]
    },
    {
      "cell_type": "markdown",
      "source": [
        "Các cột này liên quan đến lịch sử tài chính, các thông tin khác trong quá trình vay mượn.\n",
        "\n",
        "Vì mục tiêu là dự đoán được khách hàng trước khi cho vay, nên có thể bỏ các cột trên."
      ],
      "metadata": {
        "id": "QsSyt3HUEQeR"
      }
    },
    {
      "cell_type": "code",
      "source": [
        "# Chọn mốc 50%\n",
        "acc_df.drop(columns=col_null[col_null.rate > 50].index, inplace=True)\n",
        "acc_df.shape"
      ],
      "metadata": {
        "colab": {
          "base_uri": "https://localhost:8080/"
        },
        "id": "4_KIX9eouyBb",
        "outputId": "5fd1d19a-2dfd-4782-9a99-ab1783625457"
      },
      "execution_count": null,
      "outputs": [
        {
          "output_type": "execute_result",
          "data": {
            "text/plain": [
              "(1348059, 93)"
            ]
          },
          "metadata": {},
          "execution_count": 23
        }
      ]
    },
    {
      "cell_type": "code",
      "source": [
        "# Xuất file tạm, khởi động và đọc lại tránh tràn bộ nhớ\n",
        "# acc_df.to_csv(root+'acc_df_drop_col.csv',index=False)\n",
        "# rj_sample.to_csv(root+'rj_df_samples.csv', index=False)"
      ],
      "metadata": {
        "id": "XYscwENMGYzE"
      },
      "execution_count": null,
      "outputs": []
    },
    {
      "cell_type": "code",
      "source": [
        "acc_df = pd.read_csv(root+'acc_df_drop_col.csv')\n",
        "rj_sample = pd.read_csv(root+'rj_df_samples.csv')"
      ],
      "metadata": {
        "id": "a1aceHGLHLm1"
      },
      "execution_count": 3,
      "outputs": []
    },
    {
      "cell_type": "code",
      "source": [
        "acc_df.shape"
      ],
      "metadata": {
        "colab": {
          "base_uri": "https://localhost:8080/"
        },
        "id": "6dib08pY29hx",
        "outputId": "27a5662c-ccdf-46ce-ca12-9e594bc2e508"
      },
      "execution_count": 4,
      "outputs": [
        {
          "output_type": "execute_result",
          "data": {
            "text/plain": [
              "(1348059, 93)"
            ]
          },
          "metadata": {},
          "execution_count": 4
        }
      ]
    },
    {
      "cell_type": "code",
      "source": [
        "acc_df.loan_status.value_counts()"
      ],
      "metadata": {
        "colab": {
          "base_uri": "https://localhost:8080/"
        },
        "id": "lY1P7-iNZNFX",
        "outputId": "385c534e-33ba-462a-b69d-b882e13aee9d"
      },
      "execution_count": 5,
      "outputs": [
        {
          "output_type": "execute_result",
          "data": {
            "text/plain": [
              "Fully Paid     1078739\n",
              "Charged Off     269320\n",
              "Name: loan_status, dtype: int64"
            ]
          },
          "metadata": {},
          "execution_count": 5
        }
      ]
    },
    {
      "cell_type": "code",
      "source": [
        "col_null = acc_df.groupby('loan_status').apply(lambda x: x.isnull().sum()).T.sort_values('Charged Off')\n",
        "col_null['null_rate'] = ((col_null['Charged Off']+col_null['Fully Paid'])/len(acc_df) * 100)\n",
        "col_null[(col_null['Charged Off'] > 0) | (col_null['Fully Paid'] > 0)]"
      ],
      "metadata": {
        "colab": {
          "base_uri": "https://localhost:8080/",
          "height": 1000
        },
        "id": "47fjwk0ZSeTg",
        "outputId": "b0d65cff-9e7f-4574-d434-7ae219469d1c"
      },
      "execution_count": 6,
      "outputs": [
        {
          "output_type": "execute_result",
          "data": {
            "text/plain": [
              "loan_status                 Charged Off  Fully Paid  null_rate\n",
              "zip_code                              0           1   0.000074\n",
              "annual_inc                            0           4   0.000297\n",
              "delinq_2yrs                           3          26   0.002151\n",
              "earliest_cr_line                      3          26   0.002151\n",
              "inq_last_6mths                        3          27   0.002225\n",
              "pub_rec                               3          26   0.002151\n",
              "delinq_amnt                           3          26   0.002151\n",
              "total_acc                             3          26   0.002151\n",
              "open_acc                              3          26   0.002151\n",
              "acc_now_delinq                        3          26   0.002151\n",
              "last_credit_pull_d                   10          47   0.004228\n",
              "tax_liens                            11          94   0.007789\n",
              "chargeoff_within_12_mths             28         117   0.010756\n",
              "collections_12_mths_ex_med           28         117   0.010756\n",
              "dti                                  71         303   0.027744\n",
              "revol_util                          186         711   0.066540\n",
              "pub_rec_bankruptcies                334        1031   0.101257\n",
              "last_pymnt_d                       2325           0   0.172470\n",
              "title                              4834       11827   1.235925\n",
              "acc_open_past_24mths               7647       42383   3.711262\n",
              "total_bc_limit                     7647       42383   3.711262\n",
              "total_bal_ex_mort                  7647       42383   3.711262\n",
              "mort_acc                           7647       42383   3.711262\n",
              "num_bc_sats                        9025       49565   4.346249\n",
              "num_sats                           9025       49565   4.346249\n",
              "mths_since_recent_bc              10389       52581   4.671161\n",
              "bc_open_to_buy                    10591       53301   4.739555\n",
              "percent_bc_gt_75                  10669       53635   4.770118\n",
              "bc_util                           10758       53903   4.796600\n",
              "num_rev_tl_bal_gt_0               11079       59197   5.213125\n",
              "tot_hi_cred_lim                   11079       59197   5.213125\n",
              "num_tl_op_past_12m                11079       59197   5.213125\n",
              "num_tl_90g_dpd_24m                11079       59197   5.213125\n",
              "num_tl_30dpd                      11079       59197   5.213125\n",
              "total_il_high_credit_limit        11079       59197   5.213125\n",
              "num_rev_accts                     11079       59198   5.213199\n",
              "tot_cur_bal                       11079       59197   5.213125\n",
              "num_il_tl                         11079       59197   5.213125\n",
              "total_rev_hi_lim                  11079       59197   5.213125\n",
              "num_op_rev_tl                     11079       59197   5.213125\n",
              "num_accts_ever_120_pd             11079       59197   5.213125\n",
              "mo_sin_rcnt_tl                    11079       59197   5.213125\n",
              "num_actv_rev_tl                   11079       59197   5.213125\n",
              "tot_coll_amt                      11079       59197   5.213125\n",
              "num_actv_bc_tl                    11079       59197   5.213125\n",
              "num_bc_tl                         11079       59197   5.213125\n",
              "mo_sin_rcnt_rev_tl_op             11080       59197   5.213199\n",
              "mo_sin_old_rev_tl_op              11080       59197   5.213199\n",
              "avg_cur_bal                       11086       59212   5.214757\n",
              "pct_tl_nvr_dlq                    11101       59329   5.224549\n",
              "mo_sin_old_il_acct                19288       89036   8.035553\n",
              "emp_length                        21145       57400   5.826525\n",
              "emp_title                         22511       63433   6.375389\n",
              "num_tl_120dpd_2m                  24683       95467   8.912815\n",
              "mths_since_recent_inq             26661      150159  13.116637"
            ],
            "text/html": [
              "\n",
              "  <div id=\"df-ab70eb71-5781-426b-a0fe-a13a567b8a3e\" class=\"colab-df-container\">\n",
              "    <div>\n",
              "<style scoped>\n",
              "    .dataframe tbody tr th:only-of-type {\n",
              "        vertical-align: middle;\n",
              "    }\n",
              "\n",
              "    .dataframe tbody tr th {\n",
              "        vertical-align: top;\n",
              "    }\n",
              "\n",
              "    .dataframe thead th {\n",
              "        text-align: right;\n",
              "    }\n",
              "</style>\n",
              "<table border=\"1\" class=\"dataframe\">\n",
              "  <thead>\n",
              "    <tr style=\"text-align: right;\">\n",
              "      <th>loan_status</th>\n",
              "      <th>Charged Off</th>\n",
              "      <th>Fully Paid</th>\n",
              "      <th>null_rate</th>\n",
              "    </tr>\n",
              "  </thead>\n",
              "  <tbody>\n",
              "    <tr>\n",
              "      <th>zip_code</th>\n",
              "      <td>0</td>\n",
              "      <td>1</td>\n",
              "      <td>0.000074</td>\n",
              "    </tr>\n",
              "    <tr>\n",
              "      <th>annual_inc</th>\n",
              "      <td>0</td>\n",
              "      <td>4</td>\n",
              "      <td>0.000297</td>\n",
              "    </tr>\n",
              "    <tr>\n",
              "      <th>delinq_2yrs</th>\n",
              "      <td>3</td>\n",
              "      <td>26</td>\n",
              "      <td>0.002151</td>\n",
              "    </tr>\n",
              "    <tr>\n",
              "      <th>earliest_cr_line</th>\n",
              "      <td>3</td>\n",
              "      <td>26</td>\n",
              "      <td>0.002151</td>\n",
              "    </tr>\n",
              "    <tr>\n",
              "      <th>inq_last_6mths</th>\n",
              "      <td>3</td>\n",
              "      <td>27</td>\n",
              "      <td>0.002225</td>\n",
              "    </tr>\n",
              "    <tr>\n",
              "      <th>pub_rec</th>\n",
              "      <td>3</td>\n",
              "      <td>26</td>\n",
              "      <td>0.002151</td>\n",
              "    </tr>\n",
              "    <tr>\n",
              "      <th>delinq_amnt</th>\n",
              "      <td>3</td>\n",
              "      <td>26</td>\n",
              "      <td>0.002151</td>\n",
              "    </tr>\n",
              "    <tr>\n",
              "      <th>total_acc</th>\n",
              "      <td>3</td>\n",
              "      <td>26</td>\n",
              "      <td>0.002151</td>\n",
              "    </tr>\n",
              "    <tr>\n",
              "      <th>open_acc</th>\n",
              "      <td>3</td>\n",
              "      <td>26</td>\n",
              "      <td>0.002151</td>\n",
              "    </tr>\n",
              "    <tr>\n",
              "      <th>acc_now_delinq</th>\n",
              "      <td>3</td>\n",
              "      <td>26</td>\n",
              "      <td>0.002151</td>\n",
              "    </tr>\n",
              "    <tr>\n",
              "      <th>last_credit_pull_d</th>\n",
              "      <td>10</td>\n",
              "      <td>47</td>\n",
              "      <td>0.004228</td>\n",
              "    </tr>\n",
              "    <tr>\n",
              "      <th>tax_liens</th>\n",
              "      <td>11</td>\n",
              "      <td>94</td>\n",
              "      <td>0.007789</td>\n",
              "    </tr>\n",
              "    <tr>\n",
              "      <th>chargeoff_within_12_mths</th>\n",
              "      <td>28</td>\n",
              "      <td>117</td>\n",
              "      <td>0.010756</td>\n",
              "    </tr>\n",
              "    <tr>\n",
              "      <th>collections_12_mths_ex_med</th>\n",
              "      <td>28</td>\n",
              "      <td>117</td>\n",
              "      <td>0.010756</td>\n",
              "    </tr>\n",
              "    <tr>\n",
              "      <th>dti</th>\n",
              "      <td>71</td>\n",
              "      <td>303</td>\n",
              "      <td>0.027744</td>\n",
              "    </tr>\n",
              "    <tr>\n",
              "      <th>revol_util</th>\n",
              "      <td>186</td>\n",
              "      <td>711</td>\n",
              "      <td>0.066540</td>\n",
              "    </tr>\n",
              "    <tr>\n",
              "      <th>pub_rec_bankruptcies</th>\n",
              "      <td>334</td>\n",
              "      <td>1031</td>\n",
              "      <td>0.101257</td>\n",
              "    </tr>\n",
              "    <tr>\n",
              "      <th>last_pymnt_d</th>\n",
              "      <td>2325</td>\n",
              "      <td>0</td>\n",
              "      <td>0.172470</td>\n",
              "    </tr>\n",
              "    <tr>\n",
              "      <th>title</th>\n",
              "      <td>4834</td>\n",
              "      <td>11827</td>\n",
              "      <td>1.235925</td>\n",
              "    </tr>\n",
              "    <tr>\n",
              "      <th>acc_open_past_24mths</th>\n",
              "      <td>7647</td>\n",
              "      <td>42383</td>\n",
              "      <td>3.711262</td>\n",
              "    </tr>\n",
              "    <tr>\n",
              "      <th>total_bc_limit</th>\n",
              "      <td>7647</td>\n",
              "      <td>42383</td>\n",
              "      <td>3.711262</td>\n",
              "    </tr>\n",
              "    <tr>\n",
              "      <th>total_bal_ex_mort</th>\n",
              "      <td>7647</td>\n",
              "      <td>42383</td>\n",
              "      <td>3.711262</td>\n",
              "    </tr>\n",
              "    <tr>\n",
              "      <th>mort_acc</th>\n",
              "      <td>7647</td>\n",
              "      <td>42383</td>\n",
              "      <td>3.711262</td>\n",
              "    </tr>\n",
              "    <tr>\n",
              "      <th>num_bc_sats</th>\n",
              "      <td>9025</td>\n",
              "      <td>49565</td>\n",
              "      <td>4.346249</td>\n",
              "    </tr>\n",
              "    <tr>\n",
              "      <th>num_sats</th>\n",
              "      <td>9025</td>\n",
              "      <td>49565</td>\n",
              "      <td>4.346249</td>\n",
              "    </tr>\n",
              "    <tr>\n",
              "      <th>mths_since_recent_bc</th>\n",
              "      <td>10389</td>\n",
              "      <td>52581</td>\n",
              "      <td>4.671161</td>\n",
              "    </tr>\n",
              "    <tr>\n",
              "      <th>bc_open_to_buy</th>\n",
              "      <td>10591</td>\n",
              "      <td>53301</td>\n",
              "      <td>4.739555</td>\n",
              "    </tr>\n",
              "    <tr>\n",
              "      <th>percent_bc_gt_75</th>\n",
              "      <td>10669</td>\n",
              "      <td>53635</td>\n",
              "      <td>4.770118</td>\n",
              "    </tr>\n",
              "    <tr>\n",
              "      <th>bc_util</th>\n",
              "      <td>10758</td>\n",
              "      <td>53903</td>\n",
              "      <td>4.796600</td>\n",
              "    </tr>\n",
              "    <tr>\n",
              "      <th>num_rev_tl_bal_gt_0</th>\n",
              "      <td>11079</td>\n",
              "      <td>59197</td>\n",
              "      <td>5.213125</td>\n",
              "    </tr>\n",
              "    <tr>\n",
              "      <th>tot_hi_cred_lim</th>\n",
              "      <td>11079</td>\n",
              "      <td>59197</td>\n",
              "      <td>5.213125</td>\n",
              "    </tr>\n",
              "    <tr>\n",
              "      <th>num_tl_op_past_12m</th>\n",
              "      <td>11079</td>\n",
              "      <td>59197</td>\n",
              "      <td>5.213125</td>\n",
              "    </tr>\n",
              "    <tr>\n",
              "      <th>num_tl_90g_dpd_24m</th>\n",
              "      <td>11079</td>\n",
              "      <td>59197</td>\n",
              "      <td>5.213125</td>\n",
              "    </tr>\n",
              "    <tr>\n",
              "      <th>num_tl_30dpd</th>\n",
              "      <td>11079</td>\n",
              "      <td>59197</td>\n",
              "      <td>5.213125</td>\n",
              "    </tr>\n",
              "    <tr>\n",
              "      <th>total_il_high_credit_limit</th>\n",
              "      <td>11079</td>\n",
              "      <td>59197</td>\n",
              "      <td>5.213125</td>\n",
              "    </tr>\n",
              "    <tr>\n",
              "      <th>num_rev_accts</th>\n",
              "      <td>11079</td>\n",
              "      <td>59198</td>\n",
              "      <td>5.213199</td>\n",
              "    </tr>\n",
              "    <tr>\n",
              "      <th>tot_cur_bal</th>\n",
              "      <td>11079</td>\n",
              "      <td>59197</td>\n",
              "      <td>5.213125</td>\n",
              "    </tr>\n",
              "    <tr>\n",
              "      <th>num_il_tl</th>\n",
              "      <td>11079</td>\n",
              "      <td>59197</td>\n",
              "      <td>5.213125</td>\n",
              "    </tr>\n",
              "    <tr>\n",
              "      <th>total_rev_hi_lim</th>\n",
              "      <td>11079</td>\n",
              "      <td>59197</td>\n",
              "      <td>5.213125</td>\n",
              "    </tr>\n",
              "    <tr>\n",
              "      <th>num_op_rev_tl</th>\n",
              "      <td>11079</td>\n",
              "      <td>59197</td>\n",
              "      <td>5.213125</td>\n",
              "    </tr>\n",
              "    <tr>\n",
              "      <th>num_accts_ever_120_pd</th>\n",
              "      <td>11079</td>\n",
              "      <td>59197</td>\n",
              "      <td>5.213125</td>\n",
              "    </tr>\n",
              "    <tr>\n",
              "      <th>mo_sin_rcnt_tl</th>\n",
              "      <td>11079</td>\n",
              "      <td>59197</td>\n",
              "      <td>5.213125</td>\n",
              "    </tr>\n",
              "    <tr>\n",
              "      <th>num_actv_rev_tl</th>\n",
              "      <td>11079</td>\n",
              "      <td>59197</td>\n",
              "      <td>5.213125</td>\n",
              "    </tr>\n",
              "    <tr>\n",
              "      <th>tot_coll_amt</th>\n",
              "      <td>11079</td>\n",
              "      <td>59197</td>\n",
              "      <td>5.213125</td>\n",
              "    </tr>\n",
              "    <tr>\n",
              "      <th>num_actv_bc_tl</th>\n",
              "      <td>11079</td>\n",
              "      <td>59197</td>\n",
              "      <td>5.213125</td>\n",
              "    </tr>\n",
              "    <tr>\n",
              "      <th>num_bc_tl</th>\n",
              "      <td>11079</td>\n",
              "      <td>59197</td>\n",
              "      <td>5.213125</td>\n",
              "    </tr>\n",
              "    <tr>\n",
              "      <th>mo_sin_rcnt_rev_tl_op</th>\n",
              "      <td>11080</td>\n",
              "      <td>59197</td>\n",
              "      <td>5.213199</td>\n",
              "    </tr>\n",
              "    <tr>\n",
              "      <th>mo_sin_old_rev_tl_op</th>\n",
              "      <td>11080</td>\n",
              "      <td>59197</td>\n",
              "      <td>5.213199</td>\n",
              "    </tr>\n",
              "    <tr>\n",
              "      <th>avg_cur_bal</th>\n",
              "      <td>11086</td>\n",
              "      <td>59212</td>\n",
              "      <td>5.214757</td>\n",
              "    </tr>\n",
              "    <tr>\n",
              "      <th>pct_tl_nvr_dlq</th>\n",
              "      <td>11101</td>\n",
              "      <td>59329</td>\n",
              "      <td>5.224549</td>\n",
              "    </tr>\n",
              "    <tr>\n",
              "      <th>mo_sin_old_il_acct</th>\n",
              "      <td>19288</td>\n",
              "      <td>89036</td>\n",
              "      <td>8.035553</td>\n",
              "    </tr>\n",
              "    <tr>\n",
              "      <th>emp_length</th>\n",
              "      <td>21145</td>\n",
              "      <td>57400</td>\n",
              "      <td>5.826525</td>\n",
              "    </tr>\n",
              "    <tr>\n",
              "      <th>emp_title</th>\n",
              "      <td>22511</td>\n",
              "      <td>63433</td>\n",
              "      <td>6.375389</td>\n",
              "    </tr>\n",
              "    <tr>\n",
              "      <th>num_tl_120dpd_2m</th>\n",
              "      <td>24683</td>\n",
              "      <td>95467</td>\n",
              "      <td>8.912815</td>\n",
              "    </tr>\n",
              "    <tr>\n",
              "      <th>mths_since_recent_inq</th>\n",
              "      <td>26661</td>\n",
              "      <td>150159</td>\n",
              "      <td>13.116637</td>\n",
              "    </tr>\n",
              "  </tbody>\n",
              "</table>\n",
              "</div>\n",
              "    <div class=\"colab-df-buttons\">\n",
              "\n",
              "  <div class=\"colab-df-container\">\n",
              "    <button class=\"colab-df-convert\" onclick=\"convertToInteractive('df-ab70eb71-5781-426b-a0fe-a13a567b8a3e')\"\n",
              "            title=\"Convert this dataframe to an interactive table.\"\n",
              "            style=\"display:none;\">\n",
              "\n",
              "  <svg xmlns=\"http://www.w3.org/2000/svg\" height=\"24px\" viewBox=\"0 -960 960 960\">\n",
              "    <path d=\"M120-120v-720h720v720H120Zm60-500h600v-160H180v160Zm220 220h160v-160H400v160Zm0 220h160v-160H400v160ZM180-400h160v-160H180v160Zm440 0h160v-160H620v160ZM180-180h160v-160H180v160Zm440 0h160v-160H620v160Z\"/>\n",
              "  </svg>\n",
              "    </button>\n",
              "\n",
              "  <style>\n",
              "    .colab-df-container {\n",
              "      display:flex;\n",
              "      gap: 12px;\n",
              "    }\n",
              "\n",
              "    .colab-df-convert {\n",
              "      background-color: #E8F0FE;\n",
              "      border: none;\n",
              "      border-radius: 50%;\n",
              "      cursor: pointer;\n",
              "      display: none;\n",
              "      fill: #1967D2;\n",
              "      height: 32px;\n",
              "      padding: 0 0 0 0;\n",
              "      width: 32px;\n",
              "    }\n",
              "\n",
              "    .colab-df-convert:hover {\n",
              "      background-color: #E2EBFA;\n",
              "      box-shadow: 0px 1px 2px rgba(60, 64, 67, 0.3), 0px 1px 3px 1px rgba(60, 64, 67, 0.15);\n",
              "      fill: #174EA6;\n",
              "    }\n",
              "\n",
              "    .colab-df-buttons div {\n",
              "      margin-bottom: 4px;\n",
              "    }\n",
              "\n",
              "    [theme=dark] .colab-df-convert {\n",
              "      background-color: #3B4455;\n",
              "      fill: #D2E3FC;\n",
              "    }\n",
              "\n",
              "    [theme=dark] .colab-df-convert:hover {\n",
              "      background-color: #434B5C;\n",
              "      box-shadow: 0px 1px 3px 1px rgba(0, 0, 0, 0.15);\n",
              "      filter: drop-shadow(0px 1px 2px rgba(0, 0, 0, 0.3));\n",
              "      fill: #FFFFFF;\n",
              "    }\n",
              "  </style>\n",
              "\n",
              "    <script>\n",
              "      const buttonEl =\n",
              "        document.querySelector('#df-ab70eb71-5781-426b-a0fe-a13a567b8a3e button.colab-df-convert');\n",
              "      buttonEl.style.display =\n",
              "        google.colab.kernel.accessAllowed ? 'block' : 'none';\n",
              "\n",
              "      async function convertToInteractive(key) {\n",
              "        const element = document.querySelector('#df-ab70eb71-5781-426b-a0fe-a13a567b8a3e');\n",
              "        const dataTable =\n",
              "          await google.colab.kernel.invokeFunction('convertToInteractive',\n",
              "                                                    [key], {});\n",
              "        if (!dataTable) return;\n",
              "\n",
              "        const docLinkHtml = 'Like what you see? Visit the ' +\n",
              "          '<a target=\"_blank\" href=https://colab.research.google.com/notebooks/data_table.ipynb>data table notebook</a>'\n",
              "          + ' to learn more about interactive tables.';\n",
              "        element.innerHTML = '';\n",
              "        dataTable['output_type'] = 'display_data';\n",
              "        await google.colab.output.renderOutput(dataTable, element);\n",
              "        const docLink = document.createElement('div');\n",
              "        docLink.innerHTML = docLinkHtml;\n",
              "        element.appendChild(docLink);\n",
              "      }\n",
              "    </script>\n",
              "  </div>\n",
              "\n",
              "\n",
              "<div id=\"df-96544035-2e83-446a-af29-0740d214ee38\">\n",
              "  <button class=\"colab-df-quickchart\" onclick=\"quickchart('df-96544035-2e83-446a-af29-0740d214ee38')\"\n",
              "            title=\"Suggest charts\"\n",
              "            style=\"display:none;\">\n",
              "\n",
              "<svg xmlns=\"http://www.w3.org/2000/svg\" height=\"24px\"viewBox=\"0 0 24 24\"\n",
              "     width=\"24px\">\n",
              "    <g>\n",
              "        <path d=\"M19 3H5c-1.1 0-2 .9-2 2v14c0 1.1.9 2 2 2h14c1.1 0 2-.9 2-2V5c0-1.1-.9-2-2-2zM9 17H7v-7h2v7zm4 0h-2V7h2v10zm4 0h-2v-4h2v4z\"/>\n",
              "    </g>\n",
              "</svg>\n",
              "  </button>\n",
              "\n",
              "<style>\n",
              "  .colab-df-quickchart {\n",
              "      --bg-color: #E8F0FE;\n",
              "      --fill-color: #1967D2;\n",
              "      --hover-bg-color: #E2EBFA;\n",
              "      --hover-fill-color: #174EA6;\n",
              "      --disabled-fill-color: #AAA;\n",
              "      --disabled-bg-color: #DDD;\n",
              "  }\n",
              "\n",
              "  [theme=dark] .colab-df-quickchart {\n",
              "      --bg-color: #3B4455;\n",
              "      --fill-color: #D2E3FC;\n",
              "      --hover-bg-color: #434B5C;\n",
              "      --hover-fill-color: #FFFFFF;\n",
              "      --disabled-bg-color: #3B4455;\n",
              "      --disabled-fill-color: #666;\n",
              "  }\n",
              "\n",
              "  .colab-df-quickchart {\n",
              "    background-color: var(--bg-color);\n",
              "    border: none;\n",
              "    border-radius: 50%;\n",
              "    cursor: pointer;\n",
              "    display: none;\n",
              "    fill: var(--fill-color);\n",
              "    height: 32px;\n",
              "    padding: 0;\n",
              "    width: 32px;\n",
              "  }\n",
              "\n",
              "  .colab-df-quickchart:hover {\n",
              "    background-color: var(--hover-bg-color);\n",
              "    box-shadow: 0 1px 2px rgba(60, 64, 67, 0.3), 0 1px 3px 1px rgba(60, 64, 67, 0.15);\n",
              "    fill: var(--button-hover-fill-color);\n",
              "  }\n",
              "\n",
              "  .colab-df-quickchart-complete:disabled,\n",
              "  .colab-df-quickchart-complete:disabled:hover {\n",
              "    background-color: var(--disabled-bg-color);\n",
              "    fill: var(--disabled-fill-color);\n",
              "    box-shadow: none;\n",
              "  }\n",
              "\n",
              "  .colab-df-spinner {\n",
              "    border: 2px solid var(--fill-color);\n",
              "    border-color: transparent;\n",
              "    border-bottom-color: var(--fill-color);\n",
              "    animation:\n",
              "      spin 1s steps(1) infinite;\n",
              "  }\n",
              "\n",
              "  @keyframes spin {\n",
              "    0% {\n",
              "      border-color: transparent;\n",
              "      border-bottom-color: var(--fill-color);\n",
              "      border-left-color: var(--fill-color);\n",
              "    }\n",
              "    20% {\n",
              "      border-color: transparent;\n",
              "      border-left-color: var(--fill-color);\n",
              "      border-top-color: var(--fill-color);\n",
              "    }\n",
              "    30% {\n",
              "      border-color: transparent;\n",
              "      border-left-color: var(--fill-color);\n",
              "      border-top-color: var(--fill-color);\n",
              "      border-right-color: var(--fill-color);\n",
              "    }\n",
              "    40% {\n",
              "      border-color: transparent;\n",
              "      border-right-color: var(--fill-color);\n",
              "      border-top-color: var(--fill-color);\n",
              "    }\n",
              "    60% {\n",
              "      border-color: transparent;\n",
              "      border-right-color: var(--fill-color);\n",
              "    }\n",
              "    80% {\n",
              "      border-color: transparent;\n",
              "      border-right-color: var(--fill-color);\n",
              "      border-bottom-color: var(--fill-color);\n",
              "    }\n",
              "    90% {\n",
              "      border-color: transparent;\n",
              "      border-bottom-color: var(--fill-color);\n",
              "    }\n",
              "  }\n",
              "</style>\n",
              "\n",
              "  <script>\n",
              "    async function quickchart(key) {\n",
              "      const quickchartButtonEl =\n",
              "        document.querySelector('#' + key + ' button');\n",
              "      quickchartButtonEl.disabled = true;  // To prevent multiple clicks.\n",
              "      quickchartButtonEl.classList.add('colab-df-spinner');\n",
              "      try {\n",
              "        const charts = await google.colab.kernel.invokeFunction(\n",
              "            'suggestCharts', [key], {});\n",
              "      } catch (error) {\n",
              "        console.error('Error during call to suggestCharts:', error);\n",
              "      }\n",
              "      quickchartButtonEl.classList.remove('colab-df-spinner');\n",
              "      quickchartButtonEl.classList.add('colab-df-quickchart-complete');\n",
              "    }\n",
              "    (() => {\n",
              "      let quickchartButtonEl =\n",
              "        document.querySelector('#df-96544035-2e83-446a-af29-0740d214ee38 button');\n",
              "      quickchartButtonEl.style.display =\n",
              "        google.colab.kernel.accessAllowed ? 'block' : 'none';\n",
              "    })();\n",
              "  </script>\n",
              "</div>\n",
              "\n",
              "    </div>\n",
              "  </div>\n"
            ]
          },
          "metadata": {},
          "execution_count": 6
        }
      ]
    },
    {
      "cell_type": "markdown",
      "source": [
        "Đa phần là các thông tin liên quan đến lịch sử tín dụng và tình trạng tài chính của người vay. Các thông tin này có thể được LendingClub thu thập được từ nhiều nguồn khác nhau trong quá trình xác thực hồ sơ.\n",
        "\n",
        "Có 1 số cột có giá trị null giống nhau, có thể là null trên 1 hàng giống nhau.\n",
        "\n",
        "*mths_since_recent_inq*: thời gian tính từ yêu cầu kiểm tra tín dụng gần nhất đến thời điểm hiện tại.\n",
        "\n",
        "*num_tl_120dpd_2m*: Số lần trễ nợ 120 ngày trong 2 tháng gần nhất. Đây là cột xuất hiện trong quá trình vay, khi LC cần kiểm tra thông tin trễ hạn của người vay.\n",
        "\n",
        "Có thể xoá 2 cột này vì có số lượng bản ghi null cao hơn nhiều so với các cột khác, và\n",
        "\n",
        "Vẫn còn một số cột tạo ra trong quá trình cho vay, chẳng hạn *last_pymnt_d* (lần cuối thanh toán)"
      ],
      "metadata": {
        "id": "g5PT-JE-MUMb"
      }
    },
    {
      "cell_type": "code",
      "source": [
        "col_null[(col_null['Fully Paid'] > 42380)].index"
      ],
      "metadata": {
        "colab": {
          "base_uri": "https://localhost:8080/"
        },
        "id": "JiwtGyfdDj3H",
        "outputId": "8fc7d6d4-b7c7-4048-d06b-5620df93af8a"
      },
      "execution_count": 7,
      "outputs": [
        {
          "output_type": "execute_result",
          "data": {
            "text/plain": [
              "Index(['acc_open_past_24mths', 'total_bc_limit', 'total_bal_ex_mort',\n",
              "       'mort_acc', 'num_bc_sats', 'num_sats', 'mths_since_recent_bc',\n",
              "       'bc_open_to_buy', 'percent_bc_gt_75', 'bc_util', 'num_rev_tl_bal_gt_0',\n",
              "       'tot_hi_cred_lim', 'num_tl_op_past_12m', 'num_tl_90g_dpd_24m',\n",
              "       'num_tl_30dpd', 'total_il_high_credit_limit', 'num_rev_accts',\n",
              "       'tot_cur_bal', 'num_il_tl', 'total_rev_hi_lim', 'num_op_rev_tl',\n",
              "       'num_accts_ever_120_pd', 'mo_sin_rcnt_tl', 'num_actv_rev_tl',\n",
              "       'tot_coll_amt', 'num_actv_bc_tl', 'num_bc_tl', 'mo_sin_rcnt_rev_tl_op',\n",
              "       'mo_sin_old_rev_tl_op', 'avg_cur_bal', 'pct_tl_nvr_dlq',\n",
              "       'mo_sin_old_il_acct', 'emp_length', 'emp_title', 'num_tl_120dpd_2m',\n",
              "       'mths_since_recent_inq'],\n",
              "      dtype='object')"
            ]
          },
          "metadata": {},
          "execution_count": 7
        }
      ]
    },
    {
      "cell_type": "code",
      "source": [
        "columns = col_null[(col_null['Fully Paid'] > 42380)].index.to_list()\n",
        "ncols = 4\n",
        "nrows = (len(columns) + ncols - 1) // ncols\n",
        "\n",
        "fig, axes = plt.subplots(nrows, ncols, figsize=(12, 12))\n",
        "for i, col in enumerate(columns):\n",
        "    ax = axes[i // ncols, i % ncols]\n",
        "    acc_df[col].hist(ax=ax, bins=15)\n",
        "    ax.set_xticks([])\n",
        "    ax.set_yticks([])\n",
        "    ax.set_xlabel(\"\")\n",
        "    ax.set_ylabel(\"\")\n",
        "plt.tight_layout()\n",
        "plt.show()"
      ],
      "metadata": {
        "colab": {
          "base_uri": "https://localhost:8080/",
          "height": 1000
        },
        "id": "TYxdzYUcE8uS",
        "outputId": "9a4d5548-bac7-463a-ab23-7ecd22bc90d5"
      },
      "execution_count": 8,
      "outputs": [
        {
          "output_type": "display_data",
          "data": {
            "text/plain": [
              "<Figure size 1200x1200 with 36 Axes>"
            ],
            "image/png": "[encoded data removed]"
          },
          "metadata": {}
        }
      ]
    },
    {
      "cell_type": "markdown",
      "source": [
        "Đa phần đều bị lệch, vì vậy:\n",
        "- Lựa chọn giá trị trung vị để điền vào các giá trị bị thiếu với các cột kiểu giá trị liên tục\n",
        "- Chọn giá trị mode với các cột kiểu giá trị categorical."
      ],
      "metadata": {
        "id": "UkuBnf4GFYwk"
      }
    },
    {
      "cell_type": "code",
      "source": [
        "# Xoá cột xuất hiện trong quá trình cho vay, null nhiều\n",
        "acc_df.drop(columns=['last_pymnt_d','mths_since_recent_inq','num_tl_120dpd_2m'],\n",
        "            inplace = True)"
      ],
      "metadata": {
        "id": "Z493Aafp86q4"
      },
      "execution_count": 9,
      "outputs": []
    },
    {
      "cell_type": "code",
      "source": [
        "acc_df.dropna().shape[0]/acc_df.shape[0]"
      ],
      "metadata": {
        "colab": {
          "base_uri": "https://localhost:8080/"
        },
        "id": "UbGhJXBQWqCu",
        "outputId": "cfaa4b58-8c1b-4138-ed80-ff7c7d4bd5a6"
      },
      "execution_count": 10,
      "outputs": [
        {
          "output_type": "execute_result",
          "data": {
            "text/plain": [
              "0.8428088088132641"
            ]
          },
          "metadata": {},
          "execution_count": 10
        }
      ]
    },
    {
      "cell_type": "markdown",
      "source": [
        "Nếu xoá sẽ mất đi ~16% khách hàng"
      ],
      "metadata": {
        "id": "QFLIEzgvadJj"
      }
    },
    {
      "cell_type": "code",
      "source": [
        "all_null_columns = acc_df.columns[acc_df.isna().any()].to_list()\n",
        "cols_object = acc_df[all_null_columns].select_dtypes(include=['object']).columns\n",
        "cols_num = acc_df[all_null_columns].select_dtypes(exclude=['object']).columns\n",
        "cols_object, cols_num"
      ],
      "metadata": {
        "id": "VSr9dDjmGk0a",
        "colab": {
          "base_uri": "https://localhost:8080/"
        },
        "outputId": "18679db8-2da8-4c7b-a62e-a5551c256913"
      },
      "execution_count": 11,
      "outputs": [
        {
          "output_type": "execute_result",
          "data": {
            "text/plain": [
              "(Index(['emp_title', 'emp_length', 'title', 'zip_code', 'earliest_cr_line',\n",
              "        'last_credit_pull_d'],\n",
              "       dtype='object'),\n",
              " Index(['annual_inc', 'dti', 'delinq_2yrs', 'inq_last_6mths', 'open_acc',\n",
              "        'pub_rec', 'revol_util', 'total_acc', 'collections_12_mths_ex_med',\n",
              "        'acc_now_delinq', 'tot_coll_amt', 'tot_cur_bal', 'total_rev_hi_lim',\n",
              "        'acc_open_past_24mths', 'avg_cur_bal', 'bc_open_to_buy', 'bc_util',\n",
              "        'chargeoff_within_12_mths', 'delinq_amnt', 'mo_sin_old_il_acct',\n",
              "        'mo_sin_old_rev_tl_op', 'mo_sin_rcnt_rev_tl_op', 'mo_sin_rcnt_tl',\n",
              "        'mort_acc', 'mths_since_recent_bc', 'num_accts_ever_120_pd',\n",
              "        'num_actv_bc_tl', 'num_actv_rev_tl', 'num_bc_sats', 'num_bc_tl',\n",
              "        'num_il_tl', 'num_op_rev_tl', 'num_rev_accts', 'num_rev_tl_bal_gt_0',\n",
              "        'num_sats', 'num_tl_30dpd', 'num_tl_90g_dpd_24m', 'num_tl_op_past_12m',\n",
              "        'pct_tl_nvr_dlq', 'percent_bc_gt_75', 'pub_rec_bankruptcies',\n",
              "        'tax_liens', 'tot_hi_cred_lim', 'total_bal_ex_mort', 'total_bc_limit',\n",
              "        'total_il_high_credit_limit'],\n",
              "       dtype='object'))"
            ]
          },
          "metadata": {},
          "execution_count": 11
        }
      ]
    },
    {
      "cell_type": "code",
      "source": [
        "len(all_null_columns), len(cols_object)+len(cols_num)"
      ],
      "metadata": {
        "colab": {
          "base_uri": "https://localhost:8080/"
        },
        "id": "Ea6HXsWd39KM",
        "outputId": "4d05ffdb-9e21-4d29-80c3-83b156b5129d"
      },
      "execution_count": 12,
      "outputs": [
        {
          "output_type": "execute_result",
          "data": {
            "text/plain": [
              "(52, 52)"
            ]
          },
          "metadata": {},
          "execution_count": 12
        }
      ]
    },
    {
      "cell_type": "code",
      "source": [
        "acc_df_copy = acc_df.copy()\n",
        "# Thay thế các cột giá trị liên tục bằng trung vị\n",
        "acc_df_copy[cols_num] = acc_df_copy[cols_num].fillna(acc_df_copy[cols_num].median())\n",
        "# Thay thế với mode\n",
        "acc_df_copy[cols_object] = acc_df_copy[cols_object].fillna(acc_df_copy[cols_object].mode().iloc[0])"
      ],
      "metadata": {
        "id": "NGnry9rZFYPg"
      },
      "execution_count": 20,
      "outputs": []
    },
    {
      "cell_type": "code",
      "source": [
        "acc_df_copy.isnull().sum().sum()"
      ],
      "metadata": {
        "colab": {
          "base_uri": "https://localhost:8080/"
        },
        "id": "GaK1Me9o3X_R",
        "outputId": "f47350fa-7648-405e-c059-7c75d3cfc608"
      },
      "execution_count": 21,
      "outputs": [
        {
          "output_type": "execute_result",
          "data": {
            "text/plain": [
              "0"
            ]
          },
          "metadata": {},
          "execution_count": 21
        }
      ]
    },
    {
      "cell_type": "markdown",
      "source": [
        "Không còn giá trị NaN nào nữa!"
      ],
      "metadata": {
        "id": "xN0-WZNf7D8_"
      }
    },
    {
      "cell_type": "code",
      "source": [
        "acc_df_copy.shape"
      ],
      "metadata": {
        "colab": {
          "base_uri": "https://localhost:8080/"
        },
        "id": "Z4oSCiNK2ZDd",
        "outputId": "5cbeb2d8-8bf4-4dbc-a732-d493eb0e3552"
      },
      "execution_count": 22,
      "outputs": [
        {
          "output_type": "execute_result",
          "data": {
            "text/plain": [
              "(1348059, 90)"
            ]
          },
          "metadata": {},
          "execution_count": 22
        }
      ]
    },
    {
      "cell_type": "code",
      "source": [
        "acc_df_copy.loan_status.value_counts()"
      ],
      "metadata": {
        "colab": {
          "base_uri": "https://localhost:8080/"
        },
        "id": "f4e-VCYScnLk",
        "outputId": "0ffae414-8f31-4f9d-cf8a-392beb3b0bd7"
      },
      "execution_count": 23,
      "outputs": [
        {
          "output_type": "execute_result",
          "data": {
            "text/plain": [
              "Fully Paid     1078739\n",
              "Charged Off     269320\n",
              "Name: loan_status, dtype: int64"
            ]
          },
          "metadata": {},
          "execution_count": 23
        }
      ]
    },
    {
      "cell_type": "markdown",
      "source": [
        "## 3. Kiểu dữ liệu"
      ],
      "metadata": {
        "id": "nxD1udqgc0uo"
      }
    },
    {
      "cell_type": "code",
      "source": [
        "acc_df_copy.dtypes"
      ],
      "metadata": {
        "colab": {
          "base_uri": "https://localhost:8080/"
        },
        "id": "nODkEX7qdgrq",
        "outputId": "bce6860a-1213-46c2-e304-e3d7781525a8"
      },
      "execution_count": 24,
      "outputs": [
        {
          "output_type": "execute_result",
          "data": {
            "text/plain": [
              "id                              int64\n",
              "loan_amnt                     float64\n",
              "funded_amnt                   float64\n",
              "funded_amnt_inv               float64\n",
              "term                           object\n",
              "                               ...   \n",
              "total_bc_limit                float64\n",
              "total_il_high_credit_limit    float64\n",
              "hardship_flag                  object\n",
              "disbursement_method            object\n",
              "debt_settlement_flag           object\n",
              "Length: 90, dtype: object"
            ]
          },
          "metadata": {},
          "execution_count": 24
        }
      ]
    },
    {
      "cell_type": "code",
      "source": [
        "acc_df_copy.select_dtypes('object').head()"
      ],
      "metadata": {
        "colab": {
          "base_uri": "https://localhost:8080/",
          "height": 342
        },
        "id": "u3YcXVJgcrzB",
        "outputId": "d197b0a2-a77d-42fe-cba7-605e93ce010f"
      },
      "execution_count": 25,
      "outputs": [
        {
          "output_type": "execute_result",
          "data": {
            "text/plain": [
              "         term grade sub_grade             emp_title emp_length home_ownership  \\\n",
              "0   36 months     C        C4               leadman  10+ years       MORTGAGE   \n",
              "1   36 months     C        C1              Engineer  10+ years       MORTGAGE   \n",
              "2   60 months     B        B4          truck driver  10+ years       MORTGAGE   \n",
              "3   60 months     F        F1   Contract Specialist    3 years       MORTGAGE   \n",
              "4   36 months     C        C3  Veterinary Tecnician    4 years           RENT   \n",
              "\n",
              "  verification_status   issue_d loan_status pymnt_plan  ...  \\\n",
              "0        Not Verified  Dec-2015  Fully Paid          n  ...   \n",
              "1        Not Verified  Dec-2015  Fully Paid          n  ...   \n",
              "2        Not Verified  Dec-2015  Fully Paid          n  ...   \n",
              "3     Source Verified  Dec-2015  Fully Paid          n  ...   \n",
              "4     Source Verified  Dec-2015  Fully Paid          n  ...   \n",
              "\n",
              "                title zip_code addr_state earliest_cr_line  \\\n",
              "0  Debt consolidation    190xx         PA         Aug-2003   \n",
              "1            Business    577xx         SD         Dec-1999   \n",
              "2  Debt consolidation    605xx         IL         Aug-2000   \n",
              "3      Major purchase    174xx         PA         Jun-1998   \n",
              "4  Debt consolidation    300xx         GA         Oct-1987   \n",
              "\n",
              "  initial_list_status last_credit_pull_d application_type hardship_flag  \\\n",
              "0                   w           Mar-2019       Individual             N   \n",
              "1                   w           Mar-2019       Individual             N   \n",
              "2                   w           Mar-2019        Joint App             N   \n",
              "3                   w           Mar-2018       Individual             N   \n",
              "4                   w           May-2017       Individual             N   \n",
              "\n",
              "  disbursement_method debt_settlement_flag  \n",
              "0                Cash                    N  \n",
              "1                Cash                    N  \n",
              "2                Cash                    N  \n",
              "3                Cash                    N  \n",
              "4                Cash                    N  \n",
              "\n",
              "[5 rows x 22 columns]"
            ],
            "text/html": [
              "\n",
              "  <div id=\"df-821dbc47-e8a0-4987-8859-f09b2662a067\" class=\"colab-df-container\">\n",
              "    <div>\n",
              "<style scoped>\n",
              "    .dataframe tbody tr th:only-of-type {\n",
              "        vertical-align: middle;\n",
              "    }\n",
              "\n",
              "    .dataframe tbody tr th {\n",
              "        vertical-align: top;\n",
              "    }\n",
              "\n",
              "    .dataframe thead th {\n",
              "        text-align: right;\n",
              "    }\n",
              "</style>\n",
              "<table border=\"1\" class=\"dataframe\">\n",
              "  <thead>\n",
              "    <tr style=\"text-align: right;\">\n",
              "      <th></th>\n",
              "      <th>term</th>\n",
              "      <th>grade</th>\n",
              "      <th>sub_grade</th>\n",
              "      <th>emp_title</th>\n",
              "      <th>emp_length</th>\n",
              "      <th>home_ownership</th>\n",
              "      <th>verification_status</th>\n",
              "      <th>issue_d</th>\n",
              "      <th>loan_status</th>\n",
              "      <th>pymnt_plan</th>\n",
              "      <th>...</th>\n",
              "      <th>title</th>\n",
              "      <th>zip_code</th>\n",
              "      <th>addr_state</th>\n",
              "      <th>earliest_cr_line</th>\n",
              "      <th>initial_list_status</th>\n",
              "      <th>last_credit_pull_d</th>\n",
              "      <th>application_type</th>\n",
              "      <th>hardship_flag</th>\n",
              "      <th>disbursement_method</th>\n",
              "      <th>debt_settlement_flag</th>\n",
              "    </tr>\n",
              "  </thead>\n",
              "  <tbody>\n",
              "    <tr>\n",
              "      <th>0</th>\n",
              "      <td>36 months</td>\n",
              "      <td>C</td>\n",
              "      <td>C4</td>\n",
              "      <td>leadman</td>\n",
              "      <td>10+ years</td>\n",
              "      <td>MORTGAGE</td>\n",
              "      <td>Not Verified</td>\n",
              "      <td>Dec-2015</td>\n",
              "      <td>Fully Paid</td>\n",
              "      <td>n</td>\n",
              "      <td>...</td>\n",
              "      <td>Debt consolidation</td>\n",
              "      <td>190xx</td>\n",
              "      <td>PA</td>\n",
              "      <td>Aug-2003</td>\n",
              "      <td>w</td>\n",
              "      <td>Mar-2019</td>\n",
              "      <td>Individual</td>\n",
              "      <td>N</td>\n",
              "      <td>Cash</td>\n",
              "      <td>N</td>\n",
              "    </tr>\n",
              "    <tr>\n",
              "      <th>1</th>\n",
              "      <td>36 months</td>\n",
              "      <td>C</td>\n",
              "      <td>C1</td>\n",
              "      <td>Engineer</td>\n",
              "      <td>10+ years</td>\n",
              "      <td>MORTGAGE</td>\n",
              "      <td>Not Verified</td>\n",
              "      <td>Dec-2015</td>\n",
              "      <td>Fully Paid</td>\n",
              "      <td>n</td>\n",
              "      <td>...</td>\n",
              "      <td>Business</td>\n",
              "      <td>577xx</td>\n",
              "      <td>SD</td>\n",
              "      <td>Dec-1999</td>\n",
              "      <td>w</td>\n",
              "      <td>Mar-2019</td>\n",
              "      <td>Individual</td>\n",
              "      <td>N</td>\n",
              "      <td>Cash</td>\n",
              "      <td>N</td>\n",
              "    </tr>\n",
              "    <tr>\n",
              "      <th>2</th>\n",
              "      <td>60 months</td>\n",
              "      <td>B</td>\n",
              "      <td>B4</td>\n",
              "      <td>truck driver</td>\n",
              "      <td>10+ years</td>\n",
              "      <td>MORTGAGE</td>\n",
              "      <td>Not Verified</td>\n",
              "      <td>Dec-2015</td>\n",
              "      <td>Fully Paid</td>\n",
              "      <td>n</td>\n",
              "      <td>...</td>\n",
              "      <td>Debt consolidation</td>\n",
              "      <td>605xx</td>\n",
              "      <td>IL</td>\n",
              "      <td>Aug-2000</td>\n",
              "      <td>w</td>\n",
              "      <td>Mar-2019</td>\n",
              "      <td>Joint App</td>\n",
              "      <td>N</td>\n",
              "      <td>Cash</td>\n",
              "      <td>N</td>\n",
              "    </tr>\n",
              "    <tr>\n",
              "      <th>3</th>\n",
              "      <td>60 months</td>\n",
              "      <td>F</td>\n",
              "      <td>F1</td>\n",
              "      <td>Contract Specialist</td>\n",
              "      <td>3 years</td>\n",
              "      <td>MORTGAGE</td>\n",
              "      <td>Source Verified</td>\n",
              "      <td>Dec-2015</td>\n",
              "      <td>Fully Paid</td>\n",
              "      <td>n</td>\n",
              "      <td>...</td>\n",
              "      <td>Major purchase</td>\n",
              "      <td>174xx</td>\n",
              "      <td>PA</td>\n",
              "      <td>Jun-1998</td>\n",
              "      <td>w</td>\n",
              "      <td>Mar-2018</td>\n",
              "      <td>Individual</td>\n",
              "      <td>N</td>\n",
              "      <td>Cash</td>\n",
              "      <td>N</td>\n",
              "    </tr>\n",
              "    <tr>\n",
              "      <th>4</th>\n",
              "      <td>36 months</td>\n",
              "      <td>C</td>\n",
              "      <td>C3</td>\n",
              "      <td>Veterinary Tecnician</td>\n",
              "      <td>4 years</td>\n",
              "      <td>RENT</td>\n",
              "      <td>Source Verified</td>\n",
              "      <td>Dec-2015</td>\n",
              "      <td>Fully Paid</td>\n",
              "      <td>n</td>\n",
              "      <td>...</td>\n",
              "      <td>Debt consolidation</td>\n",
              "      <td>300xx</td>\n",
              "      <td>GA</td>\n",
              "      <td>Oct-1987</td>\n",
              "      <td>w</td>\n",
              "      <td>May-2017</td>\n",
              "      <td>Individual</td>\n",
              "      <td>N</td>\n",
              "      <td>Cash</td>\n",
              "      <td>N</td>\n",
              "    </tr>\n",
              "  </tbody>\n",
              "</table>\n",
              "<p>5 rows × 22 columns</p>\n",
              "</div>\n",
              "    <div class=\"colab-df-buttons\">\n",
              "\n",
              "  <div class=\"colab-df-container\">\n",
              "    <button class=\"colab-df-convert\" onclick=\"convertToInteractive('df-821dbc47-e8a0-4987-8859-f09b2662a067')\"\n",
              "            title=\"Convert this dataframe to an interactive table.\"\n",
              "            style=\"display:none;\">\n",
              "\n",
              "  <svg xmlns=\"http://www.w3.org/2000/svg\" height=\"24px\" viewBox=\"0 -960 960 960\">\n",
              "    <path d=\"M120-120v-720h720v720H120Zm60-500h600v-160H180v160Zm220 220h160v-160H400v160Zm0 220h160v-160H400v160ZM180-400h160v-160H180v160Zm440 0h160v-160H620v160ZM180-180h160v-160H180v160Zm440 0h160v-160H620v160Z\"/>\n",
              "  </svg>\n",
              "    </button>\n",
              "\n",
              "  <style>\n",
              "    .colab-df-container {\n",
              "      display:flex;\n",
              "      gap: 12px;\n",
              "    }\n",
              "\n",
              "    .colab-df-convert {\n",
              "      background-color: #E8F0FE;\n",
              "      border: none;\n",
              "      border-radius: 50%;\n",
              "      cursor: pointer;\n",
              "      display: none;\n",
              "      fill: #1967D2;\n",
              "      height: 32px;\n",
              "      padding: 0 0 0 0;\n",
              "      width: 32px;\n",
              "    }\n",
              "\n",
              "    .colab-df-convert:hover {\n",
              "      background-color: #E2EBFA;\n",
              "      box-shadow: 0px 1px 2px rgba(60, 64, 67, 0.3), 0px 1px 3px 1px rgba(60, 64, 67, 0.15);\n",
              "      fill: #174EA6;\n",
              "    }\n",
              "\n",
              "    .colab-df-buttons div {\n",
              "      margin-bottom: 4px;\n",
              "    }\n",
              "\n",
              "    [theme=dark] .colab-df-convert {\n",
              "      background-color: #3B4455;\n",
              "      fill: #D2E3FC;\n",
              "    }\n",
              "\n",
              "    [theme=dark] .colab-df-convert:hover {\n",
              "      background-color: #434B5C;\n",
              "      box-shadow: 0px 1px 3px 1px rgba(0, 0, 0, 0.15);\n",
              "      filter: drop-shadow(0px 1px 2px rgba(0, 0, 0, 0.3));\n",
              "      fill: #FFFFFF;\n",
              "    }\n",
              "  </style>\n",
              "\n",
              "    <script>\n",
              "      const buttonEl =\n",
              "        document.querySelector('#df-821dbc47-e8a0-4987-8859-f09b2662a067 button.colab-df-convert');\n",
              "      buttonEl.style.display =\n",
              "        google.colab.kernel.accessAllowed ? 'block' : 'none';\n",
              "\n",
              "      async function convertToInteractive(key) {\n",
              "        const element = document.querySelector('#df-821dbc47-e8a0-4987-8859-f09b2662a067');\n",
              "        const dataTable =\n",
              "          await google.colab.kernel.invokeFunction('convertToInteractive',\n",
              "                                                    [key], {});\n",
              "        if (!dataTable) return;\n",
              "\n",
              "        const docLinkHtml = 'Like what you see? Visit the ' +\n",
              "          '<a target=\"_blank\" href=https://colab.research.google.com/notebooks/data_table.ipynb>data table notebook</a>'\n",
              "          + ' to learn more about interactive tables.';\n",
              "        element.innerHTML = '';\n",
              "        dataTable['output_type'] = 'display_data';\n",
              "        await google.colab.output.renderOutput(dataTable, element);\n",
              "        const docLink = document.createElement('div');\n",
              "        docLink.innerHTML = docLinkHtml;\n",
              "        element.appendChild(docLink);\n",
              "      }\n",
              "    </script>\n",
              "  </div>\n",
              "\n",
              "\n",
              "<div id=\"df-9aaac797-a39b-4000-9a4c-6e3a75c971a7\">\n",
              "  <button class=\"colab-df-quickchart\" onclick=\"quickchart('df-9aaac797-a39b-4000-9a4c-6e3a75c971a7')\"\n",
              "            title=\"Suggest charts\"\n",
              "            style=\"display:none;\">\n",
              "\n",
              "<svg xmlns=\"http://www.w3.org/2000/svg\" height=\"24px\"viewBox=\"0 0 24 24\"\n",
              "     width=\"24px\">\n",
              "    <g>\n",
              "        <path d=\"M19 3H5c-1.1 0-2 .9-2 2v14c0 1.1.9 2 2 2h14c1.1 0 2-.9 2-2V5c0-1.1-.9-2-2-2zM9 17H7v-7h2v7zm4 0h-2V7h2v10zm4 0h-2v-4h2v4z\"/>\n",
              "    </g>\n",
              "</svg>\n",
              "  </button>\n",
              "\n",
              "<style>\n",
              "  .colab-df-quickchart {\n",
              "      --bg-color: #E8F0FE;\n",
              "      --fill-color: #1967D2;\n",
              "      --hover-bg-color: #E2EBFA;\n",
              "      --hover-fill-color: #174EA6;\n",
              "      --disabled-fill-color: #AAA;\n",
              "      --disabled-bg-color: #DDD;\n",
              "  }\n",
              "\n",
              "  [theme=dark] .colab-df-quickchart {\n",
              "      --bg-color: #3B4455;\n",
              "      --fill-color: #D2E3FC;\n",
              "      --hover-bg-color: #434B5C;\n",
              "      --hover-fill-color: #FFFFFF;\n",
              "      --disabled-bg-color: #3B4455;\n",
              "      --disabled-fill-color: #666;\n",
              "  }\n",
              "\n",
              "  .colab-df-quickchart {\n",
              "    background-color: var(--bg-color);\n",
              "    border: none;\n",
              "    border-radius: 50%;\n",
              "    cursor: pointer;\n",
              "    display: none;\n",
              "    fill: var(--fill-color);\n",
              "    height: 32px;\n",
              "    padding: 0;\n",
              "    width: 32px;\n",
              "  }\n",
              "\n",
              "  .colab-df-quickchart:hover {\n",
              "    background-color: var(--hover-bg-color);\n",
              "    box-shadow: 0 1px 2px rgba(60, 64, 67, 0.3), 0 1px 3px 1px rgba(60, 64, 67, 0.15);\n",
              "    fill: var(--button-hover-fill-color);\n",
              "  }\n",
              "\n",
              "  .colab-df-quickchart-complete:disabled,\n",
              "  .colab-df-quickchart-complete:disabled:hover {\n",
              "    background-color: var(--disabled-bg-color);\n",
              "    fill: var(--disabled-fill-color);\n",
              "    box-shadow: none;\n",
              "  }\n",
              "\n",
              "  .colab-df-spinner {\n",
              "    border: 2px solid var(--fill-color);\n",
              "    border-color: transparent;\n",
              "    border-bottom-color: var(--fill-color);\n",
              "    animation:\n",
              "      spin 1s steps(1) infinite;\n",
              "  }\n",
              "\n",
              "  @keyframes spin {\n",
              "    0% {\n",
              "      border-color: transparent;\n",
              "      border-bottom-color: var(--fill-color);\n",
              "      border-left-color: var(--fill-color);\n",
              "    }\n",
              "    20% {\n",
              "      border-color: transparent;\n",
              "      border-left-color: var(--fill-color);\n",
              "      border-top-color: var(--fill-color);\n",
              "    }\n",
              "    30% {\n",
              "      border-color: transparent;\n",
              "      border-left-color: var(--fill-color);\n",
              "      border-top-color: var(--fill-color);\n",
              "      border-right-color: var(--fill-color);\n",
              "    }\n",
              "    40% {\n",
              "      border-color: transparent;\n",
              "      border-right-color: var(--fill-color);\n",
              "      border-top-color: var(--fill-color);\n",
              "    }\n",
              "    60% {\n",
              "      border-color: transparent;\n",
              "      border-right-color: var(--fill-color);\n",
              "    }\n",
              "    80% {\n",
              "      border-color: transparent;\n",
              "      border-right-color: var(--fill-color);\n",
              "      border-bottom-color: var(--fill-color);\n",
              "    }\n",
              "    90% {\n",
              "      border-color: transparent;\n",
              "      border-bottom-color: var(--fill-color);\n",
              "    }\n",
              "  }\n",
              "</style>\n",
              "\n",
              "  <script>\n",
              "    async function quickchart(key) {\n",
              "      const quickchartButtonEl =\n",
              "        document.querySelector('#' + key + ' button');\n",
              "      quickchartButtonEl.disabled = true;  // To prevent multiple clicks.\n",
              "      quickchartButtonEl.classList.add('colab-df-spinner');\n",
              "      try {\n",
              "        const charts = await google.colab.kernel.invokeFunction(\n",
              "            'suggestCharts', [key], {});\n",
              "      } catch (error) {\n",
              "        console.error('Error during call to suggestCharts:', error);\n",
              "      }\n",
              "      quickchartButtonEl.classList.remove('colab-df-spinner');\n",
              "      quickchartButtonEl.classList.add('colab-df-quickchart-complete');\n",
              "    }\n",
              "    (() => {\n",
              "      let quickchartButtonEl =\n",
              "        document.querySelector('#df-9aaac797-a39b-4000-9a4c-6e3a75c971a7 button');\n",
              "      quickchartButtonEl.style.display =\n",
              "        google.colab.kernel.accessAllowed ? 'block' : 'none';\n",
              "    })();\n",
              "  </script>\n",
              "</div>\n",
              "\n",
              "    </div>\n",
              "  </div>\n"
            ]
          },
          "metadata": {},
          "execution_count": 25
        }
      ]
    },
    {
      "cell_type": "markdown",
      "source": [
        "- term: Bỏ 'months'\n",
        "- emp_length: Bỏ 'years'\n",
        "- issue_d, earliest_cr_line, last_pymnt_d, last_credit_pull_d: Chuyển về datetime\n",
        "- zip_code: Do bảo mật nên không cho xem cụ thể nên có thể vẫn để lại.\n",
        "\n",
        "Khi xây dựng mô hình, nếu cột được chọn là object, có thể chuyển thành kiểu số hoặc xử lý thêm (gán 0,1 hoặc gán giá trị theo thứ bậc)"
      ],
      "metadata": {
        "id": "tvgxoCQhdYYm"
      }
    },
    {
      "cell_type": "code",
      "source": [
        "acc_df_copy['term'] = acc_df_copy['term'].str.replace('months', '').astype(int)\n",
        "acc_df_copy['emp_length'] = acc_df_copy['emp_length'].str.extract('(\\d+)').astype(int)\n",
        "acc_df_copy['issue_d'] = pd.to_datetime(acc_df_copy['issue_d'])\n",
        "acc_df_copy['earliest_cr_line'] = pd.to_datetime(acc_df_copy['earliest_cr_line'])\n",
        "acc_df_copy['last_credit_pull_d'] = pd.to_datetime(acc_df_copy['last_credit_pull_d'])"
      ],
      "metadata": {
        "id": "l8WJ1P7VggpS"
      },
      "execution_count": 26,
      "outputs": []
    },
    {
      "cell_type": "markdown",
      "source": [
        "## 4. Lọc cột\n",
        "- Bỏ cột chỉ có 1 giá trị\n",
        "- Giữ các một vài cột từ tập rejected.\n",
        "- Cột tương quan cao với nhau hoặc trùng lặp, có thể do quá trình thu thập từ 2 bảng cùng giá trị nhưng khác tên cột.\n",
        "- Các cột có thể có khi trong quá trình xử lý hồ sơ.\n",
        "\n"
      ],
      "metadata": {
        "id": "baWsBJLBoE0J"
      }
    },
    {
      "cell_type": "code",
      "source": [
        "acc_df_copy.shape"
      ],
      "metadata": {
        "colab": {
          "base_uri": "https://localhost:8080/"
        },
        "id": "u5EcRS7g-erG",
        "outputId": "57071621-4de3-497b-a861-b89426153e7e"
      },
      "execution_count": 27,
      "outputs": [
        {
          "output_type": "execute_result",
          "data": {
            "text/plain": [
              "(1348059, 90)"
            ]
          },
          "metadata": {},
          "execution_count": 27
        }
      ]
    },
    {
      "cell_type": "code",
      "source": [
        "df = acc_df_copy.copy()\n",
        "df.shape"
      ],
      "metadata": {
        "id": "_Hf5dFw9pC7A",
        "colab": {
          "base_uri": "https://localhost:8080/"
        },
        "outputId": "1d0ebf72-8198-4205-936d-4dff22e95cd9"
      },
      "execution_count": 28,
      "outputs": [
        {
          "output_type": "execute_result",
          "data": {
            "text/plain": [
              "(1348059, 90)"
            ]
          },
          "metadata": {},
          "execution_count": 28
        }
      ]
    },
    {
      "cell_type": "code",
      "source": [
        "for c in df.columns:\n",
        "    num_uni = len(df[c].unique())\n",
        "    if num_uni == 1:\n",
        "        print(f\"'{c}',\")"
      ],
      "metadata": {
        "colab": {
          "base_uri": "https://localhost:8080/"
        },
        "id": "ajtW77P-p722",
        "outputId": "d918f75a-f7fd-44fd-ba17-631a8d7734cb"
      },
      "execution_count": 29,
      "outputs": [
        {
          "output_type": "stream",
          "name": "stdout",
          "text": [
            "'pymnt_plan',\n",
            "'out_prncp',\n",
            "'out_prncp_inv',\n",
            "'policy_code',\n",
            "'hardship_flag',\n"
          ]
        }
      ]
    },
    {
      "cell_type": "markdown",
      "source": [
        "Xoá 5 cột trên vì chỉ có 1 giá trị duy nhất"
      ],
      "metadata": {
        "id": "5TjLPL3qqS13"
      }
    },
    {
      "cell_type": "code",
      "source": [
        "df.drop(columns=['pymnt_plan',\n",
        "                'out_prncp',\n",
        "                'out_prncp_inv',\n",
        "                'policy_code',\n",
        "                'hardship_flag',],\n",
        "        inplace = True)\n",
        "df.shape"
      ],
      "metadata": {
        "id": "cPrL_W_NqOx8",
        "colab": {
          "base_uri": "https://localhost:8080/"
        },
        "outputId": "f3fa9f02-8da8-4507-b697-0915f895267a"
      },
      "execution_count": 30,
      "outputs": [
        {
          "output_type": "execute_result",
          "data": {
            "text/plain": [
              "(1348059, 85)"
            ]
          },
          "metadata": {},
          "execution_count": 30
        }
      ]
    },
    {
      "cell_type": "code",
      "source": [
        "df.columns"
      ],
      "metadata": {
        "colab": {
          "base_uri": "https://localhost:8080/"
        },
        "id": "QIGpnSbztcvi",
        "outputId": "ae10afb4-6f99-41d4-b097-d329dd2e65f3"
      },
      "execution_count": 31,
      "outputs": [
        {
          "output_type": "execute_result",
          "data": {
            "text/plain": [
              "Index(['id', 'loan_amnt', 'funded_amnt', 'funded_amnt_inv', 'term', 'int_rate',\n",
              "       'installment', 'grade', 'sub_grade', 'emp_title', 'emp_length',\n",
              "       'home_ownership', 'annual_inc', 'verification_status', 'issue_d',\n",
              "       'loan_status', 'url', 'purpose', 'title', 'zip_code', 'addr_state',\n",
              "       'dti', 'delinq_2yrs', 'earliest_cr_line', 'fico_range_low',\n",
              "       'fico_range_high', 'inq_last_6mths', 'open_acc', 'pub_rec', 'revol_bal',\n",
              "       'revol_util', 'total_acc', 'initial_list_status', 'total_pymnt',\n",
              "       'total_pymnt_inv', 'total_rec_prncp', 'total_rec_int',\n",
              "       'total_rec_late_fee', 'recoveries', 'collection_recovery_fee',\n",
              "       'last_pymnt_amnt', 'last_credit_pull_d', 'last_fico_range_high',\n",
              "       'last_fico_range_low', 'collections_12_mths_ex_med', 'application_type',\n",
              "       'acc_now_delinq', 'tot_coll_amt', 'tot_cur_bal', 'total_rev_hi_lim',\n",
              "       'acc_open_past_24mths', 'avg_cur_bal', 'bc_open_to_buy', 'bc_util',\n",
              "       'chargeoff_within_12_mths', 'delinq_amnt', 'mo_sin_old_il_acct',\n",
              "       'mo_sin_old_rev_tl_op', 'mo_sin_rcnt_rev_tl_op', 'mo_sin_rcnt_tl',\n",
              "       'mort_acc', 'mths_since_recent_bc', 'num_accts_ever_120_pd',\n",
              "       'num_actv_bc_tl', 'num_actv_rev_tl', 'num_bc_sats', 'num_bc_tl',\n",
              "       'num_il_tl', 'num_op_rev_tl', 'num_rev_accts', 'num_rev_tl_bal_gt_0',\n",
              "       'num_sats', 'num_tl_30dpd', 'num_tl_90g_dpd_24m', 'num_tl_op_past_12m',\n",
              "       'pct_tl_nvr_dlq', 'percent_bc_gt_75', 'pub_rec_bankruptcies',\n",
              "       'tax_liens', 'tot_hi_cred_lim', 'total_bal_ex_mort', 'total_bc_limit',\n",
              "       'total_il_high_credit_limit', 'disbursement_method',\n",
              "       'debt_settlement_flag'],\n",
              "      dtype='object')"
            ]
          },
          "metadata": {},
          "execution_count": 31
        }
      ]
    },
    {
      "cell_type": "markdown",
      "source": [
        "Có những cột khách hàng có thể khai gian. Dựa trên các cột tập rejected, có thể chọn được 3 cột: loan_amnt, dti, addr_state"
      ],
      "metadata": {
        "id": "8ev_KVzWzaHJ"
      }
    },
    {
      "cell_type": "markdown",
      "source": [
        "**grade, sub_grade**"
      ],
      "metadata": {
        "id": "c7tBN9NXpaIP"
      }
    },
    {
      "cell_type": "code",
      "source": [
        "sorted(df['grade'].unique())"
      ],
      "metadata": {
        "colab": {
          "base_uri": "https://localhost:8080/"
        },
        "id": "wvc-EfN9sHhr",
        "outputId": "ce98223b-44cf-475c-81b4-0596d5c5fe2f"
      },
      "execution_count": 32,
      "outputs": [
        {
          "output_type": "execute_result",
          "data": {
            "text/plain": [
              "['A', 'B', 'C', 'D', 'E', 'F', 'G']"
            ]
          },
          "metadata": {},
          "execution_count": 32
        }
      ]
    },
    {
      "cell_type": "code",
      "source": [
        "df['sub_grade'].unique()"
      ],
      "metadata": {
        "colab": {
          "base_uri": "https://localhost:8080/"
        },
        "id": "2u7A6OJQsUu2",
        "outputId": "8d49b45f-09b4-4f46-bdea-9ae03ba7b56a"
      },
      "execution_count": 33,
      "outputs": [
        {
          "output_type": "execute_result",
          "data": {
            "text/plain": [
              "array(['C4', 'C1', 'B4', 'F1', 'C3', 'B2', 'B1', 'A2', 'B5', 'C2', 'E2',\n",
              "       'A4', 'E3', 'C5', 'A1', 'D4', 'F3', 'D1', 'B3', 'D3', 'D5', 'A5',\n",
              "       'F2', 'E4', 'D2', 'E1', 'F5', 'E5', 'A3', 'G2', 'G1', 'G3', 'G4',\n",
              "       'F4', 'G5'], dtype=object)"
            ]
          },
          "metadata": {},
          "execution_count": 33
        }
      ]
    },
    {
      "cell_type": "markdown",
      "source": [
        "Các giá trị sub_title thêm các số từ 1-5 sau grade"
      ],
      "metadata": {
        "id": "KILZ_5wXsqzN"
      }
    },
    {
      "cell_type": "markdown",
      "source": [
        "**purpose, title**"
      ],
      "metadata": {
        "id": "xXrd8jYssIoU"
      }
    },
    {
      "cell_type": "code",
      "source": [
        "print(df.purpose.value_counts())\n",
        "print()\n",
        "df.title.value_counts()"
      ],
      "metadata": {
        "colab": {
          "base_uri": "https://localhost:8080/"
        },
        "id": "U3JGkWmLoRUS",
        "outputId": "7a58c2b7-e0c1-42c6-8bfb-258417c339fb"
      },
      "execution_count": 34,
      "outputs": [
        {
          "output_type": "stream",
          "name": "stdout",
          "text": [
            "debt_consolidation    781421\n",
            "credit_card           295619\n",
            "home_improvement       87718\n",
            "other                  78299\n",
            "major_purchase         29548\n",
            "medical                15612\n",
            "small_business         15577\n",
            "car                    14649\n",
            "moving                  9526\n",
            "vacation                9084\n",
            "house                   7297\n",
            "wedding                 2350\n",
            "renewable_energy         936\n",
            "educational              423\n",
            "Name: purpose, dtype: int64\n",
            "\n"
          ]
        },
        {
          "output_type": "execute_result",
          "data": {
            "text/plain": [
              "Debt consolidation             677634\n",
              "Credit card refinancing        249911\n",
              "Home improvement                75080\n",
              "Other                           66778\n",
              "Major purchase                  24045\n",
              "                                ...  \n",
              "Great Vegas Borrower                1\n",
              "personal deb consolidation          1\n",
              "Home Loan Downpayment               1\n",
              "HeatingAndAirConditioning           1\n",
              "debt reduction/hone updates         1\n",
              "Name: title, Length: 63152, dtype: int64"
            ]
          },
          "metadata": {},
          "execution_count": 34
        }
      ]
    },
    {
      "cell_type": "markdown",
      "source": [
        "Gần như giống nhau, có thể purpose là trong quá trình xử lý và được phân loại; title là nội dung mà khách hàng khai trong đơn vay.\n"
      ],
      "metadata": {
        "id": "xoyNn245s2o4"
      }
    },
    {
      "cell_type": "markdown",
      "source": [
        "**zip_code, addr_state**\n",
        "\n",
        "Có thể giữ lại addr_state, bỏ zip_code\n"
      ],
      "metadata": {
        "id": "0rdgiGH8v4q2"
      }
    },
    {
      "cell_type": "code",
      "source": [
        "df.addr_state.unique(), len(df.addr_state.unique())"
      ],
      "metadata": {
        "colab": {
          "base_uri": "https://localhost:8080/"
        },
        "id": "YNTg3sFmwCdp",
        "outputId": "61b11173-44db-45a4-bd2c-34677a2316f7"
      },
      "execution_count": 35,
      "outputs": [
        {
          "output_type": "execute_result",
          "data": {
            "text/plain": [
              "(array(['PA', 'SD', 'IL', 'GA', 'MN', 'SC', 'RI', 'NC', 'CA', 'VA', 'AZ',\n",
              "        'IN', 'MD', 'NY', 'TX', 'KS', 'NM', 'AL', 'WA', 'OH', 'LA', 'FL',\n",
              "        'CO', 'MI', 'MO', 'DC', 'MA', 'WI', 'HI', 'VT', 'NJ', 'DE', 'TN',\n",
              "        'NH', 'NE', 'OR', 'CT', 'AR', 'NV', 'WV', 'MT', 'WY', 'OK', 'KY',\n",
              "        'MS', 'UT', 'ND', 'ME', 'AK', 'ID', 'IA'], dtype=object),\n",
              " 51)"
            ]
          },
          "metadata": {},
          "execution_count": 35
        }
      ]
    },
    {
      "cell_type": "markdown",
      "source": [
        "**Loại bỏ 1 số cột kiểu object không cần thiết**"
      ],
      "metadata": {
        "id": "aDmwwLH0vr-E"
      }
    },
    {
      "cell_type": "code",
      "source": [
        "df.select_dtypes('object').head()"
      ],
      "metadata": {
        "colab": {
          "base_uri": "https://localhost:8080/",
          "height": 295
        },
        "id": "TtEzQcdvweA7",
        "outputId": "34e7c49c-bfd1-477c-a233-f225810826d6"
      },
      "execution_count": 36,
      "outputs": [
        {
          "output_type": "execute_result",
          "data": {
            "text/plain": [
              "  grade sub_grade             emp_title home_ownership verification_status  \\\n",
              "0     C        C4               leadman       MORTGAGE        Not Verified   \n",
              "1     C        C1              Engineer       MORTGAGE        Not Verified   \n",
              "2     B        B4          truck driver       MORTGAGE        Not Verified   \n",
              "3     F        F1   Contract Specialist       MORTGAGE     Source Verified   \n",
              "4     C        C3  Veterinary Tecnician           RENT     Source Verified   \n",
              "\n",
              "  loan_status                                                url  \\\n",
              "0  Fully Paid  https://lendingclub.com/browse/loanDetail.acti...   \n",
              "1  Fully Paid  https://lendingclub.com/browse/loanDetail.acti...   \n",
              "2  Fully Paid  https://lendingclub.com/browse/loanDetail.acti...   \n",
              "3  Fully Paid  https://lendingclub.com/browse/loanDetail.acti...   \n",
              "4  Fully Paid  https://lendingclub.com/browse/loanDetail.acti...   \n",
              "\n",
              "              purpose               title zip_code addr_state  \\\n",
              "0  debt_consolidation  Debt consolidation    190xx         PA   \n",
              "1      small_business            Business    577xx         SD   \n",
              "2    home_improvement  Debt consolidation    605xx         IL   \n",
              "3      major_purchase      Major purchase    174xx         PA   \n",
              "4  debt_consolidation  Debt consolidation    300xx         GA   \n",
              "\n",
              "  initial_list_status application_type disbursement_method  \\\n",
              "0                   w       Individual                Cash   \n",
              "1                   w       Individual                Cash   \n",
              "2                   w        Joint App                Cash   \n",
              "3                   w       Individual                Cash   \n",
              "4                   w       Individual                Cash   \n",
              "\n",
              "  debt_settlement_flag  \n",
              "0                    N  \n",
              "1                    N  \n",
              "2                    N  \n",
              "3                    N  \n",
              "4                    N  "
            ],
            "text/html": [
              "\n",
              "  <div id=\"df-9acf3010-7d12-4ef3-8704-157130304bf2\" class=\"colab-df-container\">\n",
              "    <div>\n",
              "<style scoped>\n",
              "    .dataframe tbody tr th:only-of-type {\n",
              "        vertical-align: middle;\n",
              "    }\n",
              "\n",
              "    .dataframe tbody tr th {\n",
              "        vertical-align: top;\n",
              "    }\n",
              "\n",
              "    .dataframe thead th {\n",
              "        text-align: right;\n",
              "    }\n",
              "</style>\n",
              "<table border=\"1\" class=\"dataframe\">\n",
              "  <thead>\n",
              "    <tr style=\"text-align: right;\">\n",
              "      <th></th>\n",
              "      <th>grade</th>\n",
              "      <th>sub_grade</th>\n",
              "      <th>emp_title</th>\n",
              "      <th>home_ownership</th>\n",
              "      <th>verification_status</th>\n",
              "      <th>loan_status</th>\n",
              "      <th>url</th>\n",
              "      <th>purpose</th>\n",
              "      <th>title</th>\n",
              "      <th>zip_code</th>\n",
              "      <th>addr_state</th>\n",
              "      <th>initial_list_status</th>\n",
              "      <th>application_type</th>\n",
              "      <th>disbursement_method</th>\n",
              "      <th>debt_settlement_flag</th>\n",
              "    </tr>\n",
              "  </thead>\n",
              "  <tbody>\n",
              "    <tr>\n",
              "      <th>0</th>\n",
              "      <td>C</td>\n",
              "      <td>C4</td>\n",
              "      <td>leadman</td>\n",
              "      <td>MORTGAGE</td>\n",
              "      <td>Not Verified</td>\n",
              "      <td>Fully Paid</td>\n",
              "      <td>https://lendingclub.com/browse/loanDetail.acti...</td>\n",
              "      <td>debt_consolidation</td>\n",
              "      <td>Debt consolidation</td>\n",
              "      <td>190xx</td>\n",
              "      <td>PA</td>\n",
              "      <td>w</td>\n",
              "      <td>Individual</td>\n",
              "      <td>Cash</td>\n",
              "      <td>N</td>\n",
              "    </tr>\n",
              "    <tr>\n",
              "      <th>1</th>\n",
              "      <td>C</td>\n",
              "      <td>C1</td>\n",
              "      <td>Engineer</td>\n",
              "      <td>MORTGAGE</td>\n",
              "      <td>Not Verified</td>\n",
              "      <td>Fully Paid</td>\n",
              "      <td>https://lendingclub.com/browse/loanDetail.acti...</td>\n",
              "      <td>small_business</td>\n",
              "      <td>Business</td>\n",
              "      <td>577xx</td>\n",
              "      <td>SD</td>\n",
              "      <td>w</td>\n",
              "      <td>Individual</td>\n",
              "      <td>Cash</td>\n",
              "      <td>N</td>\n",
              "    </tr>\n",
              "    <tr>\n",
              "      <th>2</th>\n",
              "      <td>B</td>\n",
              "      <td>B4</td>\n",
              "      <td>truck driver</td>\n",
              "      <td>MORTGAGE</td>\n",
              "      <td>Not Verified</td>\n",
              "      <td>Fully Paid</td>\n",
              "      <td>https://lendingclub.com/browse/loanDetail.acti...</td>\n",
              "      <td>home_improvement</td>\n",
              "      <td>Debt consolidation</td>\n",
              "      <td>605xx</td>\n",
              "      <td>IL</td>\n",
              "      <td>w</td>\n",
              "      <td>Joint App</td>\n",
              "      <td>Cash</td>\n",
              "      <td>N</td>\n",
              "    </tr>\n",
              "    <tr>\n",
              "      <th>3</th>\n",
              "      <td>F</td>\n",
              "      <td>F1</td>\n",
              "      <td>Contract Specialist</td>\n",
              "      <td>MORTGAGE</td>\n",
              "      <td>Source Verified</td>\n",
              "      <td>Fully Paid</td>\n",
              "      <td>https://lendingclub.com/browse/loanDetail.acti...</td>\n",
              "      <td>major_purchase</td>\n",
              "      <td>Major purchase</td>\n",
              "      <td>174xx</td>\n",
              "      <td>PA</td>\n",
              "      <td>w</td>\n",
              "      <td>Individual</td>\n",
              "      <td>Cash</td>\n",
              "      <td>N</td>\n",
              "    </tr>\n",
              "    <tr>\n",
              "      <th>4</th>\n",
              "      <td>C</td>\n",
              "      <td>C3</td>\n",
              "      <td>Veterinary Tecnician</td>\n",
              "      <td>RENT</td>\n",
              "      <td>Source Verified</td>\n",
              "      <td>Fully Paid</td>\n",
              "      <td>https://lendingclub.com/browse/loanDetail.acti...</td>\n",
              "      <td>debt_consolidation</td>\n",
              "      <td>Debt consolidation</td>\n",
              "      <td>300xx</td>\n",
              "      <td>GA</td>\n",
              "      <td>w</td>\n",
              "      <td>Individual</td>\n",
              "      <td>Cash</td>\n",
              "      <td>N</td>\n",
              "    </tr>\n",
              "  </tbody>\n",
              "</table>\n",
              "</div>\n",
              "    <div class=\"colab-df-buttons\">\n",
              "\n",
              "  <div class=\"colab-df-container\">\n",
              "    <button class=\"colab-df-convert\" onclick=\"convertToInteractive('df-9acf3010-7d12-4ef3-8704-157130304bf2')\"\n",
              "            title=\"Convert this dataframe to an interactive table.\"\n",
              "            style=\"display:none;\">\n",
              "\n",
              "  <svg xmlns=\"http://www.w3.org/2000/svg\" height=\"24px\" viewBox=\"0 -960 960 960\">\n",
              "    <path d=\"M120-120v-720h720v720H120Zm60-500h600v-160H180v160Zm220 220h160v-160H400v160Zm0 220h160v-160H400v160ZM180-400h160v-160H180v160Zm440 0h160v-160H620v160ZM180-180h160v-160H180v160Zm440 0h160v-160H620v160Z\"/>\n",
              "  </svg>\n",
              "    </button>\n",
              "\n",
              "  <style>\n",
              "    .colab-df-container {\n",
              "      display:flex;\n",
              "      gap: 12px;\n",
              "    }\n",
              "\n",
              "    .colab-df-convert {\n",
              "      background-color: #E8F0FE;\n",
              "      border: none;\n",
              "      border-radius: 50%;\n",
              "      cursor: pointer;\n",
              "      display: none;\n",
              "      fill: #1967D2;\n",
              "      height: 32px;\n",
              "      padding: 0 0 0 0;\n",
              "      width: 32px;\n",
              "    }\n",
              "\n",
              "    .colab-df-convert:hover {\n",
              "      background-color: #E2EBFA;\n",
              "      box-shadow: 0px 1px 2px rgba(60, 64, 67, 0.3), 0px 1px 3px 1px rgba(60, 64, 67, 0.15);\n",
              "      fill: #174EA6;\n",
              "    }\n",
              "\n",
              "    .colab-df-buttons div {\n",
              "      margin-bottom: 4px;\n",
              "    }\n",
              "\n",
              "    [theme=dark] .colab-df-convert {\n",
              "      background-color: #3B4455;\n",
              "      fill: #D2E3FC;\n",
              "    }\n",
              "\n",
              "    [theme=dark] .colab-df-convert:hover {\n",
              "      background-color: #434B5C;\n",
              "      box-shadow: 0px 1px 3px 1px rgba(0, 0, 0, 0.15);\n",
              "      filter: drop-shadow(0px 1px 2px rgba(0, 0, 0, 0.3));\n",
              "      fill: #FFFFFF;\n",
              "    }\n",
              "  </style>\n",
              "\n",
              "    <script>\n",
              "      const buttonEl =\n",
              "        document.querySelector('#df-9acf3010-7d12-4ef3-8704-157130304bf2 button.colab-df-convert');\n",
              "      buttonEl.style.display =\n",
              "        google.colab.kernel.accessAllowed ? 'block' : 'none';\n",
              "\n",
              "      async function convertToInteractive(key) {\n",
              "        const element = document.querySelector('#df-9acf3010-7d12-4ef3-8704-157130304bf2');\n",
              "        const dataTable =\n",
              "          await google.colab.kernel.invokeFunction('convertToInteractive',\n",
              "                                                    [key], {});\n",
              "        if (!dataTable) return;\n",
              "\n",
              "        const docLinkHtml = 'Like what you see? Visit the ' +\n",
              "          '<a target=\"_blank\" href=https://colab.research.google.com/notebooks/data_table.ipynb>data table notebook</a>'\n",
              "          + ' to learn more about interactive tables.';\n",
              "        element.innerHTML = '';\n",
              "        dataTable['output_type'] = 'display_data';\n",
              "        await google.colab.output.renderOutput(dataTable, element);\n",
              "        const docLink = document.createElement('div');\n",
              "        docLink.innerHTML = docLinkHtml;\n",
              "        element.appendChild(docLink);\n",
              "      }\n",
              "    </script>\n",
              "  </div>\n",
              "\n",
              "\n",
              "<div id=\"df-03571f10-3eed-4ecc-a7d9-274096e41de1\">\n",
              "  <button class=\"colab-df-quickchart\" onclick=\"quickchart('df-03571f10-3eed-4ecc-a7d9-274096e41de1')\"\n",
              "            title=\"Suggest charts\"\n",
              "            style=\"display:none;\">\n",
              "\n",
              "<svg xmlns=\"http://www.w3.org/2000/svg\" height=\"24px\"viewBox=\"0 0 24 24\"\n",
              "     width=\"24px\">\n",
              "    <g>\n",
              "        <path d=\"M19 3H5c-1.1 0-2 .9-2 2v14c0 1.1.9 2 2 2h14c1.1 0 2-.9 2-2V5c0-1.1-.9-2-2-2zM9 17H7v-7h2v7zm4 0h-2V7h2v10zm4 0h-2v-4h2v4z\"/>\n",
              "    </g>\n",
              "</svg>\n",
              "  </button>\n",
              "\n",
              "<style>\n",
              "  .colab-df-quickchart {\n",
              "      --bg-color: #E8F0FE;\n",
              "      --fill-color: #1967D2;\n",
              "      --hover-bg-color: #E2EBFA;\n",
              "      --hover-fill-color: #174EA6;\n",
              "      --disabled-fill-color: #AAA;\n",
              "      --disabled-bg-color: #DDD;\n",
              "  }\n",
              "\n",
              "  [theme=dark] .colab-df-quickchart {\n",
              "      --bg-color: #3B4455;\n",
              "      --fill-color: #D2E3FC;\n",
              "      --hover-bg-color: #434B5C;\n",
              "      --hover-fill-color: #FFFFFF;\n",
              "      --disabled-bg-color: #3B4455;\n",
              "      --disabled-fill-color: #666;\n",
              "  }\n",
              "\n",
              "  .colab-df-quickchart {\n",
              "    background-color: var(--bg-color);\n",
              "    border: none;\n",
              "    border-radius: 50%;\n",
              "    cursor: pointer;\n",
              "    display: none;\n",
              "    fill: var(--fill-color);\n",
              "    height: 32px;\n",
              "    padding: 0;\n",
              "    width: 32px;\n",
              "  }\n",
              "\n",
              "  .colab-df-quickchart:hover {\n",
              "    background-color: var(--hover-bg-color);\n",
              "    box-shadow: 0 1px 2px rgba(60, 64, 67, 0.3), 0 1px 3px 1px rgba(60, 64, 67, 0.15);\n",
              "    fill: var(--button-hover-fill-color);\n",
              "  }\n",
              "\n",
              "  .colab-df-quickchart-complete:disabled,\n",
              "  .colab-df-quickchart-complete:disabled:hover {\n",
              "    background-color: var(--disabled-bg-color);\n",
              "    fill: var(--disabled-fill-color);\n",
              "    box-shadow: none;\n",
              "  }\n",
              "\n",
              "  .colab-df-spinner {\n",
              "    border: 2px solid var(--fill-color);\n",
              "    border-color: transparent;\n",
              "    border-bottom-color: var(--fill-color);\n",
              "    animation:\n",
              "      spin 1s steps(1) infinite;\n",
              "  }\n",
              "\n",
              "  @keyframes spin {\n",
              "    0% {\n",
              "      border-color: transparent;\n",
              "      border-bottom-color: var(--fill-color);\n",
              "      border-left-color: var(--fill-color);\n",
              "    }\n",
              "    20% {\n",
              "      border-color: transparent;\n",
              "      border-left-color: var(--fill-color);\n",
              "      border-top-color: var(--fill-color);\n",
              "    }\n",
              "    30% {\n",
              "      border-color: transparent;\n",
              "      border-left-color: var(--fill-color);\n",
              "      border-top-color: var(--fill-color);\n",
              "      border-right-color: var(--fill-color);\n",
              "    }\n",
              "    40% {\n",
              "      border-color: transparent;\n",
              "      border-right-color: var(--fill-color);\n",
              "      border-top-color: var(--fill-color);\n",
              "    }\n",
              "    60% {\n",
              "      border-color: transparent;\n",
              "      border-right-color: var(--fill-color);\n",
              "    }\n",
              "    80% {\n",
              "      border-color: transparent;\n",
              "      border-right-color: var(--fill-color);\n",
              "      border-bottom-color: var(--fill-color);\n",
              "    }\n",
              "    90% {\n",
              "      border-color: transparent;\n",
              "      border-bottom-color: var(--fill-color);\n",
              "    }\n",
              "  }\n",
              "</style>\n",
              "\n",
              "  <script>\n",
              "    async function quickchart(key) {\n",
              "      const quickchartButtonEl =\n",
              "        document.querySelector('#' + key + ' button');\n",
              "      quickchartButtonEl.disabled = true;  // To prevent multiple clicks.\n",
              "      quickchartButtonEl.classList.add('colab-df-spinner');\n",
              "      try {\n",
              "        const charts = await google.colab.kernel.invokeFunction(\n",
              "            'suggestCharts', [key], {});\n",
              "      } catch (error) {\n",
              "        console.error('Error during call to suggestCharts:', error);\n",
              "      }\n",
              "      quickchartButtonEl.classList.remove('colab-df-spinner');\n",
              "      quickchartButtonEl.classList.add('colab-df-quickchart-complete');\n",
              "    }\n",
              "    (() => {\n",
              "      let quickchartButtonEl =\n",
              "        document.querySelector('#df-03571f10-3eed-4ecc-a7d9-274096e41de1 button');\n",
              "      quickchartButtonEl.style.display =\n",
              "        google.colab.kernel.accessAllowed ? 'block' : 'none';\n",
              "    })();\n",
              "  </script>\n",
              "</div>\n",
              "\n",
              "    </div>\n",
              "  </div>\n"
            ]
          },
          "metadata": {},
          "execution_count": 36
        }
      ]
    },
    {
      "cell_type": "code",
      "source": [
        "df.debt_settlement_flag.value_counts()"
      ],
      "metadata": {
        "id": "zHjxmwJc11QF",
        "colab": {
          "base_uri": "https://localhost:8080/"
        },
        "outputId": "f29c30e8-937c-4a69-b913-940cf86ae2fc"
      },
      "execution_count": 37,
      "outputs": [
        {
          "output_type": "execute_result",
          "data": {
            "text/plain": [
              "N    1314773\n",
              "Y      33286\n",
              "Name: debt_settlement_flag, dtype: int64"
            ]
          },
          "metadata": {},
          "execution_count": 37
        }
      ]
    },
    {
      "cell_type": "code",
      "source": [
        "df.drop(columns=['grade','title','zip_code','url','emp_title',\n",
        "                 'disbursement_method','debt_settlement_flag'], inplace=True)"
      ],
      "metadata": {
        "id": "deeretcftIM0"
      },
      "execution_count": 38,
      "outputs": []
    },
    {
      "cell_type": "markdown",
      "source": [
        "**Độ tương quan**"
      ],
      "metadata": {
        "id": "HnmlRNuo2OB3"
      }
    },
    {
      "cell_type": "code",
      "source": [
        "corr = abs(df.corr())\n",
        "pairs = corr.unstack().sort_values(ascending=False)\n",
        "\n",
        "corr_df = pd.DataFrame(pairs).drop_duplicates().reset_index()\n",
        "corr_df.columns = ['col1', 'col2', 'corr']"
      ],
      "metadata": {
        "colab": {
          "base_uri": "https://localhost:8080/"
        },
        "id": "gd8k6fg-4bvd",
        "outputId": "d50cc1e1-52d9-4688-8fc2-e576cc8ddd0a"
      },
      "execution_count": 39,
      "outputs": [
        {
          "output_type": "stream",
          "name": "stderr",
          "text": [
            "<ipython-input-39-c68abdeac3b5>:1: FutureWarning: The default value of numeric_only in DataFrame.corr is deprecated. In a future version, it will default to False. Select only valid columns or specify the value of numeric_only to silence this warning.\n",
            "  corr = abs(df.corr())\n"
          ]
        }
      ]
    },
    {
      "cell_type": "code",
      "source": [
        "df_corr_high = corr_df[(corr_df.col1 != corr_df.col2) & (corr_df['corr']>0.6)]\n",
        "df_corr_high"
      ],
      "metadata": {
        "colab": {
          "base_uri": "https://localhost:8080/",
          "height": 423
        },
        "id": "biTVxuGk9hac",
        "outputId": "7a081349-acbc-4911-99d2-328172ad0b98"
      },
      "execution_count": 40,
      "outputs": [
        {
          "output_type": "execute_result",
          "data": {
            "text/plain": [
              "               col1                   col2      corr\n",
              "1   fico_range_high         fico_range_low  1.000000\n",
              "2         loan_amnt            funded_amnt  0.999545\n",
              "3   total_pymnt_inv            total_pymnt  0.999076\n",
              "4   funded_amnt_inv            funded_amnt  0.998777\n",
              "5         loan_amnt        funded_amnt_inv  0.998214\n",
              "..              ...                    ...       ...\n",
              "72    num_op_rev_tl              num_bc_tl  0.620820\n",
              "73      num_bc_sats               num_sats  0.614483\n",
              "74   mo_sin_rcnt_tl  mo_sin_rcnt_rev_tl_op  0.612736\n",
              "75        total_acc              num_bc_tl  0.610402\n",
              "76         open_acc            num_bc_sats  0.610302\n",
              "\n",
              "[76 rows x 3 columns]"
            ],
            "text/html": [
              "\n",
              "  <div id=\"df-677a1a42-1ed2-405b-af92-f513e675500e\" class=\"colab-df-container\">\n",
              "    <div>\n",
              "<style scoped>\n",
              "    .dataframe tbody tr th:only-of-type {\n",
              "        vertical-align: middle;\n",
              "    }\n",
              "\n",
              "    .dataframe tbody tr th {\n",
              "        vertical-align: top;\n",
              "    }\n",
              "\n",
              "    .dataframe thead th {\n",
              "        text-align: right;\n",
              "    }\n",
              "</style>\n",
              "<table border=\"1\" class=\"dataframe\">\n",
              "  <thead>\n",
              "    <tr style=\"text-align: right;\">\n",
              "      <th></th>\n",
              "      <th>col1</th>\n",
              "      <th>col2</th>\n",
              "      <th>corr</th>\n",
              "    </tr>\n",
              "  </thead>\n",
              "  <tbody>\n",
              "    <tr>\n",
              "      <th>1</th>\n",
              "      <td>fico_range_high</td>\n",
              "      <td>fico_range_low</td>\n",
              "      <td>1.000000</td>\n",
              "    </tr>\n",
              "    <tr>\n",
              "      <th>2</th>\n",
              "      <td>loan_amnt</td>\n",
              "      <td>funded_amnt</td>\n",
              "      <td>0.999545</td>\n",
              "    </tr>\n",
              "    <tr>\n",
              "      <th>3</th>\n",
              "      <td>total_pymnt_inv</td>\n",
              "      <td>total_pymnt</td>\n",
              "      <td>0.999076</td>\n",
              "    </tr>\n",
              "    <tr>\n",
              "      <th>4</th>\n",
              "      <td>funded_amnt_inv</td>\n",
              "      <td>funded_amnt</td>\n",
              "      <td>0.998777</td>\n",
              "    </tr>\n",
              "    <tr>\n",
              "      <th>5</th>\n",
              "      <td>loan_amnt</td>\n",
              "      <td>funded_amnt_inv</td>\n",
              "      <td>0.998214</td>\n",
              "    </tr>\n",
              "    <tr>\n",
              "      <th>...</th>\n",
              "      <td>...</td>\n",
              "      <td>...</td>\n",
              "      <td>...</td>\n",
              "    </tr>\n",
              "    <tr>\n",
              "      <th>72</th>\n",
              "      <td>num_op_rev_tl</td>\n",
              "      <td>num_bc_tl</td>\n",
              "      <td>0.620820</td>\n",
              "    </tr>\n",
              "    <tr>\n",
              "      <th>73</th>\n",
              "      <td>num_bc_sats</td>\n",
              "      <td>num_sats</td>\n",
              "      <td>0.614483</td>\n",
              "    </tr>\n",
              "    <tr>\n",
              "      <th>74</th>\n",
              "      <td>mo_sin_rcnt_tl</td>\n",
              "      <td>mo_sin_rcnt_rev_tl_op</td>\n",
              "      <td>0.612736</td>\n",
              "    </tr>\n",
              "    <tr>\n",
              "      <th>75</th>\n",
              "      <td>total_acc</td>\n",
              "      <td>num_bc_tl</td>\n",
              "      <td>0.610402</td>\n",
              "    </tr>\n",
              "    <tr>\n",
              "      <th>76</th>\n",
              "      <td>open_acc</td>\n",
              "      <td>num_bc_sats</td>\n",
              "      <td>0.610302</td>\n",
              "    </tr>\n",
              "  </tbody>\n",
              "</table>\n",
              "<p>76 rows × 3 columns</p>\n",
              "</div>\n",
              "    <div class=\"colab-df-buttons\">\n",
              "\n",
              "  <div class=\"colab-df-container\">\n",
              "    <button class=\"colab-df-convert\" onclick=\"convertToInteractive('df-677a1a42-1ed2-405b-af92-f513e675500e')\"\n",
              "            title=\"Convert this dataframe to an interactive table.\"\n",
              "            style=\"display:none;\">\n",
              "\n",
              "  <svg xmlns=\"http://www.w3.org/2000/svg\" height=\"24px\" viewBox=\"0 -960 960 960\">\n",
              "    <path d=\"M120-120v-720h720v720H120Zm60-500h600v-160H180v160Zm220 220h160v-160H400v160Zm0 220h160v-160H400v160ZM180-400h160v-160H180v160Zm440 0h160v-160H620v160ZM180-180h160v-160H180v160Zm440 0h160v-160H620v160Z\"/>\n",
              "  </svg>\n",
              "    </button>\n",
              "\n",
              "  <style>\n",
              "    .colab-df-container {\n",
              "      display:flex;\n",
              "      gap: 12px;\n",
              "    }\n",
              "\n",
              "    .colab-df-convert {\n",
              "      background-color: #E8F0FE;\n",
              "      border: none;\n",
              "      border-radius: 50%;\n",
              "      cursor: pointer;\n",
              "      display: none;\n",
              "      fill: #1967D2;\n",
              "      height: 32px;\n",
              "      padding: 0 0 0 0;\n",
              "      width: 32px;\n",
              "    }\n",
              "\n",
              "    .colab-df-convert:hover {\n",
              "      background-color: #E2EBFA;\n",
              "      box-shadow: 0px 1px 2px rgba(60, 64, 67, 0.3), 0px 1px 3px 1px rgba(60, 64, 67, 0.15);\n",
              "      fill: #174EA6;\n",
              "    }\n",
              "\n",
              "    .colab-df-buttons div {\n",
              "      margin-bottom: 4px;\n",
              "    }\n",
              "\n",
              "    [theme=dark] .colab-df-convert {\n",
              "      background-color: #3B4455;\n",
              "      fill: #D2E3FC;\n",
              "    }\n",
              "\n",
              "    [theme=dark] .colab-df-convert:hover {\n",
              "      background-color: #434B5C;\n",
              "      box-shadow: 0px 1px 3px 1px rgba(0, 0, 0, 0.15);\n",
              "      filter: drop-shadow(0px 1px 2px rgba(0, 0, 0, 0.3));\n",
              "      fill: #FFFFFF;\n",
              "    }\n",
              "  </style>\n",
              "\n",
              "    <script>\n",
              "      const buttonEl =\n",
              "        document.querySelector('#df-677a1a42-1ed2-405b-af92-f513e675500e button.colab-df-convert');\n",
              "      buttonEl.style.display =\n",
              "        google.colab.kernel.accessAllowed ? 'block' : 'none';\n",
              "\n",
              "      async function convertToInteractive(key) {\n",
              "        const element = document.querySelector('#df-677a1a42-1ed2-405b-af92-f513e675500e');\n",
              "        const dataTable =\n",
              "          await google.colab.kernel.invokeFunction('convertToInteractive',\n",
              "                                                    [key], {});\n",
              "        if (!dataTable) return;\n",
              "\n",
              "        const docLinkHtml = 'Like what you see? Visit the ' +\n",
              "          '<a target=\"_blank\" href=https://colab.research.google.com/notebooks/data_table.ipynb>data table notebook</a>'\n",
              "          + ' to learn more about interactive tables.';\n",
              "        element.innerHTML = '';\n",
              "        dataTable['output_type'] = 'display_data';\n",
              "        await google.colab.output.renderOutput(dataTable, element);\n",
              "        const docLink = document.createElement('div');\n",
              "        docLink.innerHTML = docLinkHtml;\n",
              "        element.appendChild(docLink);\n",
              "      }\n",
              "    </script>\n",
              "  </div>\n",
              "\n",
              "\n",
              "<div id=\"df-e3d3d954-287e-48f8-9056-6225e9fde97e\">\n",
              "  <button class=\"colab-df-quickchart\" onclick=\"quickchart('df-e3d3d954-287e-48f8-9056-6225e9fde97e')\"\n",
              "            title=\"Suggest charts\"\n",
              "            style=\"display:none;\">\n",
              "\n",
              "<svg xmlns=\"http://www.w3.org/2000/svg\" height=\"24px\"viewBox=\"0 0 24 24\"\n",
              "     width=\"24px\">\n",
              "    <g>\n",
              "        <path d=\"M19 3H5c-1.1 0-2 .9-2 2v14c0 1.1.9 2 2 2h14c1.1 0 2-.9 2-2V5c0-1.1-.9-2-2-2zM9 17H7v-7h2v7zm4 0h-2V7h2v10zm4 0h-2v-4h2v4z\"/>\n",
              "    </g>\n",
              "</svg>\n",
              "  </button>\n",
              "\n",
              "<style>\n",
              "  .colab-df-quickchart {\n",
              "      --bg-color: #E8F0FE;\n",
              "      --fill-color: #1967D2;\n",
              "      --hover-bg-color: #E2EBFA;\n",
              "      --hover-fill-color: #174EA6;\n",
              "      --disabled-fill-color: #AAA;\n",
              "      --disabled-bg-color: #DDD;\n",
              "  }\n",
              "\n",
              "  [theme=dark] .colab-df-quickchart {\n",
              "      --bg-color: #3B4455;\n",
              "      --fill-color: #D2E3FC;\n",
              "      --hover-bg-color: #434B5C;\n",
              "      --hover-fill-color: #FFFFFF;\n",
              "      --disabled-bg-color: #3B4455;\n",
              "      --disabled-fill-color: #666;\n",
              "  }\n",
              "\n",
              "  .colab-df-quickchart {\n",
              "    background-color: var(--bg-color);\n",
              "    border: none;\n",
              "    border-radius: 50%;\n",
              "    cursor: pointer;\n",
              "    display: none;\n",
              "    fill: var(--fill-color);\n",
              "    height: 32px;\n",
              "    padding: 0;\n",
              "    width: 32px;\n",
              "  }\n",
              "\n",
              "  .colab-df-quickchart:hover {\n",
              "    background-color: var(--hover-bg-color);\n",
              "    box-shadow: 0 1px 2px rgba(60, 64, 67, 0.3), 0 1px 3px 1px rgba(60, 64, 67, 0.15);\n",
              "    fill: var(--button-hover-fill-color);\n",
              "  }\n",
              "\n",
              "  .colab-df-quickchart-complete:disabled,\n",
              "  .colab-df-quickchart-complete:disabled:hover {\n",
              "    background-color: var(--disabled-bg-color);\n",
              "    fill: var(--disabled-fill-color);\n",
              "    box-shadow: none;\n",
              "  }\n",
              "\n",
              "  .colab-df-spinner {\n",
              "    border: 2px solid var(--fill-color);\n",
              "    border-color: transparent;\n",
              "    border-bottom-color: var(--fill-color);\n",
              "    animation:\n",
              "      spin 1s steps(1) infinite;\n",
              "  }\n",
              "\n",
              "  @keyframes spin {\n",
              "    0% {\n",
              "      border-color: transparent;\n",
              "      border-bottom-color: var(--fill-color);\n",
              "      border-left-color: var(--fill-color);\n",
              "    }\n",
              "    20% {\n",
              "      border-color: transparent;\n",
              "      border-left-color: var(--fill-color);\n",
              "      border-top-color: var(--fill-color);\n",
              "    }\n",
              "    30% {\n",
              "      border-color: transparent;\n",
              "      border-left-color: var(--fill-color);\n",
              "      border-top-color: var(--fill-color);\n",
              "      border-right-color: var(--fill-color);\n",
              "    }\n",
              "    40% {\n",
              "      border-color: transparent;\n",
              "      border-right-color: var(--fill-color);\n",
              "      border-top-color: var(--fill-color);\n",
              "    }\n",
              "    60% {\n",
              "      border-color: transparent;\n",
              "      border-right-color: var(--fill-color);\n",
              "    }\n",
              "    80% {\n",
              "      border-color: transparent;\n",
              "      border-right-color: var(--fill-color);\n",
              "      border-bottom-color: var(--fill-color);\n",
              "    }\n",
              "    90% {\n",
              "      border-color: transparent;\n",
              "      border-bottom-color: var(--fill-color);\n",
              "    }\n",
              "  }\n",
              "</style>\n",
              "\n",
              "  <script>\n",
              "    async function quickchart(key) {\n",
              "      const quickchartButtonEl =\n",
              "        document.querySelector('#' + key + ' button');\n",
              "      quickchartButtonEl.disabled = true;  // To prevent multiple clicks.\n",
              "      quickchartButtonEl.classList.add('colab-df-spinner');\n",
              "      try {\n",
              "        const charts = await google.colab.kernel.invokeFunction(\n",
              "            'suggestCharts', [key], {});\n",
              "      } catch (error) {\n",
              "        console.error('Error during call to suggestCharts:', error);\n",
              "      }\n",
              "      quickchartButtonEl.classList.remove('colab-df-spinner');\n",
              "      quickchartButtonEl.classList.add('colab-df-quickchart-complete');\n",
              "    }\n",
              "    (() => {\n",
              "      let quickchartButtonEl =\n",
              "        document.querySelector('#df-e3d3d954-287e-48f8-9056-6225e9fde97e button');\n",
              "      quickchartButtonEl.style.display =\n",
              "        google.colab.kernel.accessAllowed ? 'block' : 'none';\n",
              "    })();\n",
              "  </script>\n",
              "</div>\n",
              "\n",
              "  <div id=\"id_49e9a171-5c49-4901-8961-2cd9f24a622c\">\n",
              "    <style>\n",
              "      .colab-df-generate {\n",
              "        background-color: #E8F0FE;\n",
              "        border: none;\n",
              "        border-radius: 50%;\n",
              "        cursor: pointer;\n",
              "        display: none;\n",
              "        fill: #1967D2;\n",
              "        height: 32px;\n",
              "        padding: 0 0 0 0;\n",
              "        width: 32px;\n",
              "      }\n",
              "\n",
              "      .colab-df-generate:hover {\n",
              "        background-color: #E2EBFA;\n",
              "        box-shadow: 0px 1px 2px rgba(60, 64, 67, 0.3), 0px 1px 3px 1px rgba(60, 64, 67, 0.15);\n",
              "        fill: #174EA6;\n",
              "      }\n",
              "\n",
              "      [theme=dark] .colab-df-generate {\n",
              "        background-color: #3B4455;\n",
              "        fill: #D2E3FC;\n",
              "      }\n",
              "\n",
              "      [theme=dark] .colab-df-generate:hover {\n",
              "        background-color: #434B5C;\n",
              "        box-shadow: 0px 1px 3px 1px rgba(0, 0, 0, 0.15);\n",
              "        filter: drop-shadow(0px 1px 2px rgba(0, 0, 0, 0.3));\n",
              "        fill: #FFFFFF;\n",
              "      }\n",
              "    </style>\n",
              "    <button class=\"colab-df-generate\" onclick=\"generateWithVariable('df_corr_high')\"\n",
              "            title=\"Generate code using this dataframe.\"\n",
              "            style=\"display:none;\">\n",
              "\n",
              "  <svg xmlns=\"http://www.w3.org/2000/svg\" height=\"24px\"viewBox=\"0 0 24 24\"\n",
              "       width=\"24px\">\n",
              "    <path d=\"M7,19H8.4L18.45,9,17,7.55,7,17.6ZM5,21V16.75L18.45,3.32a2,2,0,0,1,2.83,0l1.4,1.43a1.91,1.91,0,0,1,.58,1.4,1.91,1.91,0,0,1-.58,1.4L9.25,21ZM18.45,9,17,7.55Zm-12,3A5.31,5.31,0,0,0,4.9,8.1,5.31,5.31,0,0,0,1,6.5,5.31,5.31,0,0,0,4.9,4.9,5.31,5.31,0,0,0,6.5,1,5.31,5.31,0,0,0,8.1,4.9,5.31,5.31,0,0,0,12,6.5,5.46,5.46,0,0,0,6.5,12Z\"/>\n",
              "  </svg>\n",
              "    </button>\n",
              "    <script>\n",
              "      (() => {\n",
              "      const buttonEl =\n",
              "        document.querySelector('#id_49e9a171-5c49-4901-8961-2cd9f24a622c button.colab-df-generate');\n",
              "      buttonEl.style.display =\n",
              "        google.colab.kernel.accessAllowed ? 'block' : 'none';\n",
              "\n",
              "      buttonEl.onclick = () => {\n",
              "        google.colab.notebook.generateWithVariable('df_corr_high');\n",
              "      }\n",
              "      })();\n",
              "    </script>\n",
              "  </div>\n",
              "\n",
              "    </div>\n",
              "  </div>\n"
            ]
          },
          "metadata": {},
          "execution_count": 40
        }
      ]
    },
    {
      "cell_type": "code",
      "source": [
        "rs_df = df_corr_high.groupby('col1').apply(lambda group: group['col2'].tolist()).reset_index(name='col2_values')\n",
        "cols_del = []\n",
        "for col2 in rs_df.col2_values:\n",
        "    for x in col2:\n",
        "        cols_del.append(x)\n",
        "cols_del = set(cols_del)\n",
        "cols_del.remove('loan_amnt')\n",
        "\n",
        "df.drop(cols_del, axis=1, inplace=True)"
      ],
      "metadata": {
        "id": "k4ZrRlZS3O_g"
      },
      "execution_count": 41,
      "outputs": []
    },
    {
      "cell_type": "code",
      "source": [
        "df.columns"
      ],
      "metadata": {
        "colab": {
          "base_uri": "https://localhost:8080/"
        },
        "id": "QMbyxvbgGiti",
        "outputId": "a90952e9-2617-4a97-b1d2-d6a57a07b020"
      },
      "execution_count": 42,
      "outputs": [
        {
          "output_type": "execute_result",
          "data": {
            "text/plain": [
              "Index(['id', 'loan_amnt', 'term', 'int_rate', 'sub_grade', 'emp_length',\n",
              "       'home_ownership', 'annual_inc', 'verification_status', 'issue_d',\n",
              "       'loan_status', 'purpose', 'addr_state', 'dti', 'delinq_2yrs',\n",
              "       'earliest_cr_line', 'fico_range_high', 'inq_last_6mths', 'pub_rec',\n",
              "       'initial_list_status', 'total_rec_late_fee', 'recoveries',\n",
              "       'last_credit_pull_d', 'last_fico_range_low',\n",
              "       'collections_12_mths_ex_med', 'application_type', 'tot_coll_amt',\n",
              "       'chargeoff_within_12_mths', 'delinq_amnt', 'mo_sin_old_il_acct',\n",
              "       'mo_sin_old_rev_tl_op', 'mo_sin_rcnt_tl', 'mort_acc',\n",
              "       'mths_since_recent_bc', 'num_accts_ever_120_pd', 'num_il_tl',\n",
              "       'num_tl_30dpd', 'num_tl_op_past_12m', 'pct_tl_nvr_dlq',\n",
              "       'percent_bc_gt_75', 'tot_hi_cred_lim', 'total_bal_ex_mort',\n",
              "       'total_bc_limit'],\n",
              "      dtype='object')"
            ]
          },
          "metadata": {},
          "execution_count": 42
        }
      ]
    },
    {
      "cell_type": "code",
      "source": [
        "# Loại bỏ các cột có trong lịch sử vay, thời gian sau lúc đăng ký\n",
        "col_drop=['total_rec_late_fee','chargeoff_within_12_mths',\n",
        "        'issue_d','last_credit_pull_d','collections_12_mths_ex_med','tot_coll_amt','delinq_amnt',\n",
        "        'recoveries']\n",
        "df.drop(columns=col_drop,inplace=True)"
      ],
      "metadata": {
        "id": "S8eyiru4SUjY"
      },
      "execution_count": 44,
      "outputs": []
    },
    {
      "cell_type": "code",
      "source": [
        "df.shape"
      ],
      "metadata": {
        "colab": {
          "base_uri": "https://localhost:8080/"
        },
        "id": "AjDQmXRLAGnj",
        "outputId": "0bba331d-8b49-4c8d-82c7-ee22a5f81471"
      },
      "execution_count": 45,
      "outputs": [
        {
          "output_type": "execute_result",
          "data": {
            "text/plain": [
              "(1348059, 35)"
            ]
          },
          "metadata": {},
          "execution_count": 45
        }
      ]
    },
    {
      "cell_type": "markdown",
      "source": [
        "## Bất thường"
      ],
      "metadata": {
        "id": "yC8tRaRPmTTX"
      }
    },
    {
      "cell_type": "code",
      "source": [
        "df.describe().T"
      ],
      "metadata": {
        "colab": {
          "base_uri": "https://localhost:8080/",
          "height": 864
        },
        "id": "f5V8CKAI9CFN",
        "outputId": "ee8a266d-0f2d-4bc6-e67d-16bd8aa99569"
      },
      "execution_count": 46,
      "outputs": [
        {
          "output_type": "execute_result",
          "data": {
            "text/plain": [
              "                           count          mean           std       min  \\\n",
              "id                     1348059.0  5.623089e+07  3.840504e+07  54734.00   \n",
              "loan_amnt              1348059.0  1.440900e+04  8.716090e+03    500.00   \n",
              "term                   1348059.0  4.178392e+01  1.026453e+01     36.00   \n",
              "int_rate               1348059.0  1.324148e+01  4.765619e+00      5.31   \n",
              "emp_length             1348059.0  6.277861e+00  3.578571e+00      1.00   \n",
              "annual_inc             1348059.0  7.623777e+04  6.992289e+04      0.00   \n",
              "dti                    1348059.0  1.827410e+01  1.115398e+01     -1.00   \n",
              "delinq_2yrs            1348059.0  3.176285e-01  8.777452e-01      0.00   \n",
              "fico_range_high        1348059.0  7.001622e+02  3.185115e+01    614.00   \n",
              "inq_last_6mths         1348059.0  6.621943e-01  9.600707e-01      0.00   \n",
              "pub_rec                1348059.0  2.150433e-01  6.014664e-01      0.00   \n",
              "last_fico_range_low    1348059.0  6.601164e+02  1.328030e+02      0.00   \n",
              "mo_sin_old_il_acct     1348059.0  1.260549e+02  5.009836e+01      0.00   \n",
              "mo_sin_old_rev_tl_op   1348059.0  1.805650e+02  9.209076e+01      2.00   \n",
              "mo_sin_rcnt_tl         1348059.0  7.705931e+00  8.522071e+00      0.00   \n",
              "mort_acc               1348059.0  1.645889e+00  1.967064e+00      0.00   \n",
              "mths_since_recent_bc   1348059.0  2.331243e+01  3.009344e+01      0.00   \n",
              "num_accts_ever_120_pd  1348059.0  4.830093e-01  1.295536e+00      0.00   \n",
              "num_il_tl              1348059.0  8.486155e+00  7.199867e+00      0.00   \n",
              "num_tl_30dpd           1348059.0  3.240214e-03  6.070575e-02      0.00   \n",
              "num_tl_op_past_12m     1348059.0  2.169562e+00  1.796743e+00      0.00   \n",
              "pct_tl_nvr_dlq         1348059.0  9.436505e+01  8.555314e+00      0.00   \n",
              "percent_bc_gt_75       1348059.0  4.504837e+01  3.514123e+01      0.00   \n",
              "tot_hi_cred_lim        1348059.0  1.711549e+05  1.739389e+05      0.00   \n",
              "total_bal_ex_mort      1348059.0  4.920725e+04  4.690763e+04      0.00   \n",
              "total_bc_limit         1348059.0  2.139151e+04  2.118705e+04      0.00   \n",
              "\n",
              "                                25%          50%          75%           max  \n",
              "id                     1.972664e+07  57673953.00  84505285.50  1.456364e+08  \n",
              "loan_amnt              7.975000e+03     12000.00     20000.00  4.000000e+04  \n",
              "term                   3.600000e+01        36.00        36.00  6.000000e+01  \n",
              "int_rate               9.750000e+00        12.74        15.99  3.099000e+01  \n",
              "emp_length             3.000000e+00         7.00        10.00  1.000000e+01  \n",
              "annual_inc             4.575023e+04     65000.00     90000.00  1.099920e+07  \n",
              "dti                    1.179000e+01        17.61        24.05  9.990000e+02  \n",
              "delinq_2yrs            0.000000e+00         0.00         0.00  3.900000e+01  \n",
              "fico_range_high        6.740000e+02       694.00       714.00  8.500000e+02  \n",
              "inq_last_6mths         0.000000e+00         0.00         1.00  3.300000e+01  \n",
              "pub_rec                0.000000e+00         0.00         0.00  8.600000e+01  \n",
              "last_fico_range_low    6.250000e+02       690.00       730.00  8.450000e+02  \n",
              "mo_sin_old_il_acct     1.020000e+02       129.00       150.00  9.990000e+02  \n",
              "mo_sin_old_rev_tl_op   1.200000e+02       164.00       225.00  8.520000e+02  \n",
              "mo_sin_rcnt_tl         3.000000e+00         5.00        10.00  3.140000e+02  \n",
              "mort_acc               0.000000e+00         1.00         3.00  5.100000e+01  \n",
              "mths_since_recent_bc   6.000000e+00        13.00        27.00  6.390000e+02  \n",
              "num_accts_ever_120_pd  0.000000e+00         0.00         0.00  5.100000e+01  \n",
              "num_il_tl              4.000000e+00         7.00        11.00  1.590000e+02  \n",
              "num_tl_30dpd           0.000000e+00         0.00         0.00  4.000000e+00  \n",
              "num_tl_op_past_12m     1.000000e+00         2.00         3.00  3.200000e+01  \n",
              "pct_tl_nvr_dlq         9.190000e+01        98.00       100.00  1.000000e+02  \n",
              "percent_bc_gt_75       1.250000e+01        42.90        75.00  1.000000e+02  \n",
              "tot_hi_cred_lim        5.172800e+04    112373.00    242990.50  9.999999e+06  \n",
              "total_bal_ex_mort      2.149600e+04     37296.00     61148.00  3.408095e+06  \n",
              "total_bc_limit         8.000000e+03     15100.00     27400.00  1.105500e+06  "
            ],
            "text/html": [
              "\n",
              "  <div id=\"df-fc7459e5-950b-4e89-b0cb-9dd5c496f559\" class=\"colab-df-container\">\n",
              "    <div>\n",
              "<style scoped>\n",
              "    .dataframe tbody tr th:only-of-type {\n",
              "        vertical-align: middle;\n",
              "    }\n",
              "\n",
              "    .dataframe tbody tr th {\n",
              "        vertical-align: top;\n",
              "    }\n",
              "\n",
              "    .dataframe thead th {\n",
              "        text-align: right;\n",
              "    }\n",
              "</style>\n",
              "<table border=\"1\" class=\"dataframe\">\n",
              "  <thead>\n",
              "    <tr style=\"text-align: right;\">\n",
              "      <th></th>\n",
              "      <th>count</th>\n",
              "      <th>mean</th>\n",
              "      <th>std</th>\n",
              "      <th>min</th>\n",
              "      <th>25%</th>\n",
              "      <th>50%</th>\n",
              "      <th>75%</th>\n",
              "      <th>max</th>\n",
              "    </tr>\n",
              "  </thead>\n",
              "  <tbody>\n",
              "    <tr>\n",
              "      <th>id</th>\n",
              "      <td>1348059.0</td>\n",
              "      <td>5.623089e+07</td>\n",
              "      <td>3.840504e+07</td>\n",
              "      <td>54734.00</td>\n",
              "      <td>1.972664e+07</td>\n",
              "      <td>57673953.00</td>\n",
              "      <td>84505285.50</td>\n",
              "      <td>1.456364e+08</td>\n",
              "    </tr>\n",
              "    <tr>\n",
              "      <th>loan_amnt</th>\n",
              "      <td>1348059.0</td>\n",
              "      <td>1.440900e+04</td>\n",
              "      <td>8.716090e+03</td>\n",
              "      <td>500.00</td>\n",
              "      <td>7.975000e+03</td>\n",
              "      <td>12000.00</td>\n",
              "      <td>20000.00</td>\n",
              "      <td>4.000000e+04</td>\n",
              "    </tr>\n",
              "    <tr>\n",
              "      <th>term</th>\n",
              "      <td>1348059.0</td>\n",
              "      <td>4.178392e+01</td>\n",
              "      <td>1.026453e+01</td>\n",
              "      <td>36.00</td>\n",
              "      <td>3.600000e+01</td>\n",
              "      <td>36.00</td>\n",
              "      <td>36.00</td>\n",
              "      <td>6.000000e+01</td>\n",
              "    </tr>\n",
              "    <tr>\n",
              "      <th>int_rate</th>\n",
              "      <td>1348059.0</td>\n",
              "      <td>1.324148e+01</td>\n",
              "      <td>4.765619e+00</td>\n",
              "      <td>5.31</td>\n",
              "      <td>9.750000e+00</td>\n",
              "      <td>12.74</td>\n",
              "      <td>15.99</td>\n",
              "      <td>3.099000e+01</td>\n",
              "    </tr>\n",
              "    <tr>\n",
              "      <th>emp_length</th>\n",
              "      <td>1348059.0</td>\n",
              "      <td>6.277861e+00</td>\n",
              "      <td>3.578571e+00</td>\n",
              "      <td>1.00</td>\n",
              "      <td>3.000000e+00</td>\n",
              "      <td>7.00</td>\n",
              "      <td>10.00</td>\n",
              "      <td>1.000000e+01</td>\n",
              "    </tr>\n",
              "    <tr>\n",
              "      <th>annual_inc</th>\n",
              "      <td>1348059.0</td>\n",
              "      <td>7.623777e+04</td>\n",
              "      <td>6.992289e+04</td>\n",
              "      <td>0.00</td>\n",
              "      <td>4.575023e+04</td>\n",
              "      <td>65000.00</td>\n",
              "      <td>90000.00</td>\n",
              "      <td>1.099920e+07</td>\n",
              "    </tr>\n",
              "    <tr>\n",
              "      <th>dti</th>\n",
              "      <td>1348059.0</td>\n",
              "      <td>1.827410e+01</td>\n",
              "      <td>1.115398e+01</td>\n",
              "      <td>-1.00</td>\n",
              "      <td>1.179000e+01</td>\n",
              "      <td>17.61</td>\n",
              "      <td>24.05</td>\n",
              "      <td>9.990000e+02</td>\n",
              "    </tr>\n",
              "    <tr>\n",
              "      <th>delinq_2yrs</th>\n",
              "      <td>1348059.0</td>\n",
              "      <td>3.176285e-01</td>\n",
              "      <td>8.777452e-01</td>\n",
              "      <td>0.00</td>\n",
              "      <td>0.000000e+00</td>\n",
              "      <td>0.00</td>\n",
              "      <td>0.00</td>\n",
              "      <td>3.900000e+01</td>\n",
              "    </tr>\n",
              "    <tr>\n",
              "      <th>fico_range_high</th>\n",
              "      <td>1348059.0</td>\n",
              "      <td>7.001622e+02</td>\n",
              "      <td>3.185115e+01</td>\n",
              "      <td>614.00</td>\n",
              "      <td>6.740000e+02</td>\n",
              "      <td>694.00</td>\n",
              "      <td>714.00</td>\n",
              "      <td>8.500000e+02</td>\n",
              "    </tr>\n",
              "    <tr>\n",
              "      <th>inq_last_6mths</th>\n",
              "      <td>1348059.0</td>\n",
              "      <td>6.621943e-01</td>\n",
              "      <td>9.600707e-01</td>\n",
              "      <td>0.00</td>\n",
              "      <td>0.000000e+00</td>\n",
              "      <td>0.00</td>\n",
              "      <td>1.00</td>\n",
              "      <td>3.300000e+01</td>\n",
              "    </tr>\n",
              "    <tr>\n",
              "      <th>pub_rec</th>\n",
              "      <td>1348059.0</td>\n",
              "      <td>2.150433e-01</td>\n",
              "      <td>6.014664e-01</td>\n",
              "      <td>0.00</td>\n",
              "      <td>0.000000e+00</td>\n",
              "      <td>0.00</td>\n",
              "      <td>0.00</td>\n",
              "      <td>8.600000e+01</td>\n",
              "    </tr>\n",
              "    <tr>\n",
              "      <th>last_fico_range_low</th>\n",
              "      <td>1348059.0</td>\n",
              "      <td>6.601164e+02</td>\n",
              "      <td>1.328030e+02</td>\n",
              "      <td>0.00</td>\n",
              "      <td>6.250000e+02</td>\n",
              "      <td>690.00</td>\n",
              "      <td>730.00</td>\n",
              "      <td>8.450000e+02</td>\n",
              "    </tr>\n",
              "    <tr>\n",
              "      <th>mo_sin_old_il_acct</th>\n",
              "      <td>1348059.0</td>\n",
              "      <td>1.260549e+02</td>\n",
              "      <td>5.009836e+01</td>\n",
              "      <td>0.00</td>\n",
              "      <td>1.020000e+02</td>\n",
              "      <td>129.00</td>\n",
              "      <td>150.00</td>\n",
              "      <td>9.990000e+02</td>\n",
              "    </tr>\n",
              "    <tr>\n",
              "      <th>mo_sin_old_rev_tl_op</th>\n",
              "      <td>1348059.0</td>\n",
              "      <td>1.805650e+02</td>\n",
              "      <td>9.209076e+01</td>\n",
              "      <td>2.00</td>\n",
              "      <td>1.200000e+02</td>\n",
              "      <td>164.00</td>\n",
              "      <td>225.00</td>\n",
              "      <td>8.520000e+02</td>\n",
              "    </tr>\n",
              "    <tr>\n",
              "      <th>mo_sin_rcnt_tl</th>\n",
              "      <td>1348059.0</td>\n",
              "      <td>7.705931e+00</td>\n",
              "      <td>8.522071e+00</td>\n",
              "      <td>0.00</td>\n",
              "      <td>3.000000e+00</td>\n",
              "      <td>5.00</td>\n",
              "      <td>10.00</td>\n",
              "      <td>3.140000e+02</td>\n",
              "    </tr>\n",
              "    <tr>\n",
              "      <th>mort_acc</th>\n",
              "      <td>1348059.0</td>\n",
              "      <td>1.645889e+00</td>\n",
              "      <td>1.967064e+00</td>\n",
              "      <td>0.00</td>\n",
              "      <td>0.000000e+00</td>\n",
              "      <td>1.00</td>\n",
              "      <td>3.00</td>\n",
              "      <td>5.100000e+01</td>\n",
              "    </tr>\n",
              "    <tr>\n",
              "      <th>mths_since_recent_bc</th>\n",
              "      <td>1348059.0</td>\n",
              "      <td>2.331243e+01</td>\n",
              "      <td>3.009344e+01</td>\n",
              "      <td>0.00</td>\n",
              "      <td>6.000000e+00</td>\n",
              "      <td>13.00</td>\n",
              "      <td>27.00</td>\n",
              "      <td>6.390000e+02</td>\n",
              "    </tr>\n",
              "    <tr>\n",
              "      <th>num_accts_ever_120_pd</th>\n",
              "      <td>1348059.0</td>\n",
              "      <td>4.830093e-01</td>\n",
              "      <td>1.295536e+00</td>\n",
              "      <td>0.00</td>\n",
              "      <td>0.000000e+00</td>\n",
              "      <td>0.00</td>\n",
              "      <td>0.00</td>\n",
              "      <td>5.100000e+01</td>\n",
              "    </tr>\n",
              "    <tr>\n",
              "      <th>num_il_tl</th>\n",
              "      <td>1348059.0</td>\n",
              "      <td>8.486155e+00</td>\n",
              "      <td>7.199867e+00</td>\n",
              "      <td>0.00</td>\n",
              "      <td>4.000000e+00</td>\n",
              "      <td>7.00</td>\n",
              "      <td>11.00</td>\n",
              "      <td>1.590000e+02</td>\n",
              "    </tr>\n",
              "    <tr>\n",
              "      <th>num_tl_30dpd</th>\n",
              "      <td>1348059.0</td>\n",
              "      <td>3.240214e-03</td>\n",
              "      <td>6.070575e-02</td>\n",
              "      <td>0.00</td>\n",
              "      <td>0.000000e+00</td>\n",
              "      <td>0.00</td>\n",
              "      <td>0.00</td>\n",
              "      <td>4.000000e+00</td>\n",
              "    </tr>\n",
              "    <tr>\n",
              "      <th>num_tl_op_past_12m</th>\n",
              "      <td>1348059.0</td>\n",
              "      <td>2.169562e+00</td>\n",
              "      <td>1.796743e+00</td>\n",
              "      <td>0.00</td>\n",
              "      <td>1.000000e+00</td>\n",
              "      <td>2.00</td>\n",
              "      <td>3.00</td>\n",
              "      <td>3.200000e+01</td>\n",
              "    </tr>\n",
              "    <tr>\n",
              "      <th>pct_tl_nvr_dlq</th>\n",
              "      <td>1348059.0</td>\n",
              "      <td>9.436505e+01</td>\n",
              "      <td>8.555314e+00</td>\n",
              "      <td>0.00</td>\n",
              "      <td>9.190000e+01</td>\n",
              "      <td>98.00</td>\n",
              "      <td>100.00</td>\n",
              "      <td>1.000000e+02</td>\n",
              "    </tr>\n",
              "    <tr>\n",
              "      <th>percent_bc_gt_75</th>\n",
              "      <td>1348059.0</td>\n",
              "      <td>4.504837e+01</td>\n",
              "      <td>3.514123e+01</td>\n",
              "      <td>0.00</td>\n",
              "      <td>1.250000e+01</td>\n",
              "      <td>42.90</td>\n",
              "      <td>75.00</td>\n",
              "      <td>1.000000e+02</td>\n",
              "    </tr>\n",
              "    <tr>\n",
              "      <th>tot_hi_cred_lim</th>\n",
              "      <td>1348059.0</td>\n",
              "      <td>1.711549e+05</td>\n",
              "      <td>1.739389e+05</td>\n",
              "      <td>0.00</td>\n",
              "      <td>5.172800e+04</td>\n",
              "      <td>112373.00</td>\n",
              "      <td>242990.50</td>\n",
              "      <td>9.999999e+06</td>\n",
              "    </tr>\n",
              "    <tr>\n",
              "      <th>total_bal_ex_mort</th>\n",
              "      <td>1348059.0</td>\n",
              "      <td>4.920725e+04</td>\n",
              "      <td>4.690763e+04</td>\n",
              "      <td>0.00</td>\n",
              "      <td>2.149600e+04</td>\n",
              "      <td>37296.00</td>\n",
              "      <td>61148.00</td>\n",
              "      <td>3.408095e+06</td>\n",
              "    </tr>\n",
              "    <tr>\n",
              "      <th>total_bc_limit</th>\n",
              "      <td>1348059.0</td>\n",
              "      <td>2.139151e+04</td>\n",
              "      <td>2.118705e+04</td>\n",
              "      <td>0.00</td>\n",
              "      <td>8.000000e+03</td>\n",
              "      <td>15100.00</td>\n",
              "      <td>27400.00</td>\n",
              "      <td>1.105500e+06</td>\n",
              "    </tr>\n",
              "  </tbody>\n",
              "</table>\n",
              "</div>\n",
              "    <div class=\"colab-df-buttons\">\n",
              "\n",
              "  <div class=\"colab-df-container\">\n",
              "    <button class=\"colab-df-convert\" onclick=\"convertToInteractive('df-fc7459e5-950b-4e89-b0cb-9dd5c496f559')\"\n",
              "            title=\"Convert this dataframe to an interactive table.\"\n",
              "            style=\"display:none;\">\n",
              "\n",
              "  <svg xmlns=\"http://www.w3.org/2000/svg\" height=\"24px\" viewBox=\"0 -960 960 960\">\n",
              "    <path d=\"M120-120v-720h720v720H120Zm60-500h600v-160H180v160Zm220 220h160v-160H400v160Zm0 220h160v-160H400v160ZM180-400h160v-160H180v160Zm440 0h160v-160H620v160ZM180-180h160v-160H180v160Zm440 0h160v-160H620v160Z\"/>\n",
              "  </svg>\n",
              "    </button>\n",
              "\n",
              "  <style>\n",
              "    .colab-df-container {\n",
              "      display:flex;\n",
              "      gap: 12px;\n",
              "    }\n",
              "\n",
              "    .colab-df-convert {\n",
              "      background-color: #E8F0FE;\n",
              "      border: none;\n",
              "      border-radius: 50%;\n",
              "      cursor: pointer;\n",
              "      display: none;\n",
              "      fill: #1967D2;\n",
              "      height: 32px;\n",
              "      padding: 0 0 0 0;\n",
              "      width: 32px;\n",
              "    }\n",
              "\n",
              "    .colab-df-convert:hover {\n",
              "      background-color: #E2EBFA;\n",
              "      box-shadow: 0px 1px 2px rgba(60, 64, 67, 0.3), 0px 1px 3px 1px rgba(60, 64, 67, 0.15);\n",
              "      fill: #174EA6;\n",
              "    }\n",
              "\n",
              "    .colab-df-buttons div {\n",
              "      margin-bottom: 4px;\n",
              "    }\n",
              "\n",
              "    [theme=dark] .colab-df-convert {\n",
              "      background-color: #3B4455;\n",
              "      fill: #D2E3FC;\n",
              "    }\n",
              "\n",
              "    [theme=dark] .colab-df-convert:hover {\n",
              "      background-color: #434B5C;\n",
              "      box-shadow: 0px 1px 3px 1px rgba(0, 0, 0, 0.15);\n",
              "      filter: drop-shadow(0px 1px 2px rgba(0, 0, 0, 0.3));\n",
              "      fill: #FFFFFF;\n",
              "    }\n",
              "  </style>\n",
              "\n",
              "    <script>\n",
              "      const buttonEl =\n",
              "        document.querySelector('#df-fc7459e5-950b-4e89-b0cb-9dd5c496f559 button.colab-df-convert');\n",
              "      buttonEl.style.display =\n",
              "        google.colab.kernel.accessAllowed ? 'block' : 'none';\n",
              "\n",
              "      async function convertToInteractive(key) {\n",
              "        const element = document.querySelector('#df-fc7459e5-950b-4e89-b0cb-9dd5c496f559');\n",
              "        const dataTable =\n",
              "          await google.colab.kernel.invokeFunction('convertToInteractive',\n",
              "                                                    [key], {});\n",
              "        if (!dataTable) return;\n",
              "\n",
              "        const docLinkHtml = 'Like what you see? Visit the ' +\n",
              "          '<a target=\"_blank\" href=https://colab.research.google.com/notebooks/data_table.ipynb>data table notebook</a>'\n",
              "          + ' to learn more about interactive tables.';\n",
              "        element.innerHTML = '';\n",
              "        dataTable['output_type'] = 'display_data';\n",
              "        await google.colab.output.renderOutput(dataTable, element);\n",
              "        const docLink = document.createElement('div');\n",
              "        docLink.innerHTML = docLinkHtml;\n",
              "        element.appendChild(docLink);\n",
              "      }\n",
              "    </script>\n",
              "  </div>\n",
              "\n",
              "\n",
              "<div id=\"df-77905244-d047-43f0-9ed9-cfc471433088\">\n",
              "  <button class=\"colab-df-quickchart\" onclick=\"quickchart('df-77905244-d047-43f0-9ed9-cfc471433088')\"\n",
              "            title=\"Suggest charts\"\n",
              "            style=\"display:none;\">\n",
              "\n",
              "<svg xmlns=\"http://www.w3.org/2000/svg\" height=\"24px\"viewBox=\"0 0 24 24\"\n",
              "     width=\"24px\">\n",
              "    <g>\n",
              "        <path d=\"M19 3H5c-1.1 0-2 .9-2 2v14c0 1.1.9 2 2 2h14c1.1 0 2-.9 2-2V5c0-1.1-.9-2-2-2zM9 17H7v-7h2v7zm4 0h-2V7h2v10zm4 0h-2v-4h2v4z\"/>\n",
              "    </g>\n",
              "</svg>\n",
              "  </button>\n",
              "\n",
              "<style>\n",
              "  .colab-df-quickchart {\n",
              "      --bg-color: #E8F0FE;\n",
              "      --fill-color: #1967D2;\n",
              "      --hover-bg-color: #E2EBFA;\n",
              "      --hover-fill-color: #174EA6;\n",
              "      --disabled-fill-color: #AAA;\n",
              "      --disabled-bg-color: #DDD;\n",
              "  }\n",
              "\n",
              "  [theme=dark] .colab-df-quickchart {\n",
              "      --bg-color: #3B4455;\n",
              "      --fill-color: #D2E3FC;\n",
              "      --hover-bg-color: #434B5C;\n",
              "      --hover-fill-color: #FFFFFF;\n",
              "      --disabled-bg-color: #3B4455;\n",
              "      --disabled-fill-color: #666;\n",
              "  }\n",
              "\n",
              "  .colab-df-quickchart {\n",
              "    background-color: var(--bg-color);\n",
              "    border: none;\n",
              "    border-radius: 50%;\n",
              "    cursor: pointer;\n",
              "    display: none;\n",
              "    fill: var(--fill-color);\n",
              "    height: 32px;\n",
              "    padding: 0;\n",
              "    width: 32px;\n",
              "  }\n",
              "\n",
              "  .colab-df-quickchart:hover {\n",
              "    background-color: var(--hover-bg-color);\n",
              "    box-shadow: 0 1px 2px rgba(60, 64, 67, 0.3), 0 1px 3px 1px rgba(60, 64, 67, 0.15);\n",
              "    fill: var(--button-hover-fill-color);\n",
              "  }\n",
              "\n",
              "  .colab-df-quickchart-complete:disabled,\n",
              "  .colab-df-quickchart-complete:disabled:hover {\n",
              "    background-color: var(--disabled-bg-color);\n",
              "    fill: var(--disabled-fill-color);\n",
              "    box-shadow: none;\n",
              "  }\n",
              "\n",
              "  .colab-df-spinner {\n",
              "    border: 2px solid var(--fill-color);\n",
              "    border-color: transparent;\n",
              "    border-bottom-color: var(--fill-color);\n",
              "    animation:\n",
              "      spin 1s steps(1) infinite;\n",
              "  }\n",
              "\n",
              "  @keyframes spin {\n",
              "    0% {\n",
              "      border-color: transparent;\n",
              "      border-bottom-color: var(--fill-color);\n",
              "      border-left-color: var(--fill-color);\n",
              "    }\n",
              "    20% {\n",
              "      border-color: transparent;\n",
              "      border-left-color: var(--fill-color);\n",
              "      border-top-color: var(--fill-color);\n",
              "    }\n",
              "    30% {\n",
              "      border-color: transparent;\n",
              "      border-left-color: var(--fill-color);\n",
              "      border-top-color: var(--fill-color);\n",
              "      border-right-color: var(--fill-color);\n",
              "    }\n",
              "    40% {\n",
              "      border-color: transparent;\n",
              "      border-right-color: var(--fill-color);\n",
              "      border-top-color: var(--fill-color);\n",
              "    }\n",
              "    60% {\n",
              "      border-color: transparent;\n",
              "      border-right-color: var(--fill-color);\n",
              "    }\n",
              "    80% {\n",
              "      border-color: transparent;\n",
              "      border-right-color: var(--fill-color);\n",
              "      border-bottom-color: var(--fill-color);\n",
              "    }\n",
              "    90% {\n",
              "      border-color: transparent;\n",
              "      border-bottom-color: var(--fill-color);\n",
              "    }\n",
              "  }\n",
              "</style>\n",
              "\n",
              "  <script>\n",
              "    async function quickchart(key) {\n",
              "      const quickchartButtonEl =\n",
              "        document.querySelector('#' + key + ' button');\n",
              "      quickchartButtonEl.disabled = true;  // To prevent multiple clicks.\n",
              "      quickchartButtonEl.classList.add('colab-df-spinner');\n",
              "      try {\n",
              "        const charts = await google.colab.kernel.invokeFunction(\n",
              "            'suggestCharts', [key], {});\n",
              "      } catch (error) {\n",
              "        console.error('Error during call to suggestCharts:', error);\n",
              "      }\n",
              "      quickchartButtonEl.classList.remove('colab-df-spinner');\n",
              "      quickchartButtonEl.classList.add('colab-df-quickchart-complete');\n",
              "    }\n",
              "    (() => {\n",
              "      let quickchartButtonEl =\n",
              "        document.querySelector('#df-77905244-d047-43f0-9ed9-cfc471433088 button');\n",
              "      quickchartButtonEl.style.display =\n",
              "        google.colab.kernel.accessAllowed ? 'block' : 'none';\n",
              "    })();\n",
              "  </script>\n",
              "</div>\n",
              "\n",
              "    </div>\n",
              "  </div>\n"
            ]
          },
          "metadata": {},
          "execution_count": 46
        }
      ]
    },
    {
      "cell_type": "markdown",
      "source": [
        "dti có giá trị = -1?"
      ],
      "metadata": {
        "id": "oA20ZhgH9H70"
      }
    },
    {
      "cell_type": "code",
      "source": [
        "df[df.dti < 0]"
      ],
      "metadata": {
        "colab": {
          "base_uri": "https://localhost:8080/",
          "height": 161
        },
        "id": "ZuOMXo9c9Jet",
        "outputId": "c98ac3eb-2927-47c5-8546-69a21b0195ff"
      },
      "execution_count": 47,
      "outputs": [
        {
          "output_type": "execute_result",
          "data": {
            "text/plain": [
              "              id  loan_amnt  term  int_rate sub_grade  emp_length  \\\n",
              "582670  74636850    15000.0    36      9.75        B3           5   \n",
              "972939  99827944    17000.0    60     13.49        C2          10   \n",
              "\n",
              "       home_ownership  annual_inc verification_status loan_status  ...  \\\n",
              "582670       MORTGAGE     94000.0     Source Verified  Fully Paid  ...   \n",
              "972939       MORTGAGE     75000.0        Not Verified  Fully Paid  ...   \n",
              "\n",
              "       mths_since_recent_bc num_accts_ever_120_pd  num_il_tl  num_tl_30dpd  \\\n",
              "582670                 15.0                   0.0       10.0           0.0   \n",
              "972939                 27.0                   0.0        9.0           0.0   \n",
              "\n",
              "       num_tl_op_past_12m  pct_tl_nvr_dlq  percent_bc_gt_75  tot_hi_cred_lim  \\\n",
              "582670                3.0            95.8              33.3         127743.0   \n",
              "972939                1.0            91.2              40.0         333184.0   \n",
              "\n",
              "       total_bal_ex_mort  total_bc_limit  \n",
              "582670           93070.0         10300.0  \n",
              "972939           84919.0         31100.0  \n",
              "\n",
              "[2 rows x 35 columns]"
            ],
            "text/html": [
              "\n",
              "  <div id=\"df-cd7dcf51-e4d1-4be5-bd8f-7ee14ab4af98\" class=\"colab-df-container\">\n",
              "    <div>\n",
              "<style scoped>\n",
              "    .dataframe tbody tr th:only-of-type {\n",
              "        vertical-align: middle;\n",
              "    }\n",
              "\n",
              "    .dataframe tbody tr th {\n",
              "        vertical-align: top;\n",
              "    }\n",
              "\n",
              "    .dataframe thead th {\n",
              "        text-align: right;\n",
              "    }\n",
              "</style>\n",
              "<table border=\"1\" class=\"dataframe\">\n",
              "  <thead>\n",
              "    <tr style=\"text-align: right;\">\n",
              "      <th></th>\n",
              "      <th>id</th>\n",
              "      <th>loan_amnt</th>\n",
              "      <th>term</th>\n",
              "      <th>int_rate</th>\n",
              "      <th>sub_grade</th>\n",
              "      <th>emp_length</th>\n",
              "      <th>home_ownership</th>\n",
              "      <th>annual_inc</th>\n",
              "      <th>verification_status</th>\n",
              "      <th>loan_status</th>\n",
              "      <th>...</th>\n",
              "      <th>mths_since_recent_bc</th>\n",
              "      <th>num_accts_ever_120_pd</th>\n",
              "      <th>num_il_tl</th>\n",
              "      <th>num_tl_30dpd</th>\n",
              "      <th>num_tl_op_past_12m</th>\n",
              "      <th>pct_tl_nvr_dlq</th>\n",
              "      <th>percent_bc_gt_75</th>\n",
              "      <th>tot_hi_cred_lim</th>\n",
              "      <th>total_bal_ex_mort</th>\n",
              "      <th>total_bc_limit</th>\n",
              "    </tr>\n",
              "  </thead>\n",
              "  <tbody>\n",
              "    <tr>\n",
              "      <th>582670</th>\n",
              "      <td>74636850</td>\n",
              "      <td>15000.0</td>\n",
              "      <td>36</td>\n",
              "      <td>9.75</td>\n",
              "      <td>B3</td>\n",
              "      <td>5</td>\n",
              "      <td>MORTGAGE</td>\n",
              "      <td>94000.0</td>\n",
              "      <td>Source Verified</td>\n",
              "      <td>Fully Paid</td>\n",
              "      <td>...</td>\n",
              "      <td>15.0</td>\n",
              "      <td>0.0</td>\n",
              "      <td>10.0</td>\n",
              "      <td>0.0</td>\n",
              "      <td>3.0</td>\n",
              "      <td>95.8</td>\n",
              "      <td>33.3</td>\n",
              "      <td>127743.0</td>\n",
              "      <td>93070.0</td>\n",
              "      <td>10300.0</td>\n",
              "    </tr>\n",
              "    <tr>\n",
              "      <th>972939</th>\n",
              "      <td>99827944</td>\n",
              "      <td>17000.0</td>\n",
              "      <td>60</td>\n",
              "      <td>13.49</td>\n",
              "      <td>C2</td>\n",
              "      <td>10</td>\n",
              "      <td>MORTGAGE</td>\n",
              "      <td>75000.0</td>\n",
              "      <td>Not Verified</td>\n",
              "      <td>Fully Paid</td>\n",
              "      <td>...</td>\n",
              "      <td>27.0</td>\n",
              "      <td>0.0</td>\n",
              "      <td>9.0</td>\n",
              "      <td>0.0</td>\n",
              "      <td>1.0</td>\n",
              "      <td>91.2</td>\n",
              "      <td>40.0</td>\n",
              "      <td>333184.0</td>\n",
              "      <td>84919.0</td>\n",
              "      <td>31100.0</td>\n",
              "    </tr>\n",
              "  </tbody>\n",
              "</table>\n",
              "<p>2 rows × 35 columns</p>\n",
              "</div>\n",
              "    <div class=\"colab-df-buttons\">\n",
              "\n",
              "  <div class=\"colab-df-container\">\n",
              "    <button class=\"colab-df-convert\" onclick=\"convertToInteractive('df-cd7dcf51-e4d1-4be5-bd8f-7ee14ab4af98')\"\n",
              "            title=\"Convert this dataframe to an interactive table.\"\n",
              "            style=\"display:none;\">\n",
              "\n",
              "  <svg xmlns=\"http://www.w3.org/2000/svg\" height=\"24px\" viewBox=\"0 -960 960 960\">\n",
              "    <path d=\"M120-120v-720h720v720H120Zm60-500h600v-160H180v160Zm220 220h160v-160H400v160Zm0 220h160v-160H400v160ZM180-400h160v-160H180v160Zm440 0h160v-160H620v160ZM180-180h160v-160H180v160Zm440 0h160v-160H620v160Z\"/>\n",
              "  </svg>\n",
              "    </button>\n",
              "\n",
              "  <style>\n",
              "    .colab-df-container {\n",
              "      display:flex;\n",
              "      gap: 12px;\n",
              "    }\n",
              "\n",
              "    .colab-df-convert {\n",
              "      background-color: #E8F0FE;\n",
              "      border: none;\n",
              "      border-radius: 50%;\n",
              "      cursor: pointer;\n",
              "      display: none;\n",
              "      fill: #1967D2;\n",
              "      height: 32px;\n",
              "      padding: 0 0 0 0;\n",
              "      width: 32px;\n",
              "    }\n",
              "\n",
              "    .colab-df-convert:hover {\n",
              "      background-color: #E2EBFA;\n",
              "      box-shadow: 0px 1px 2px rgba(60, 64, 67, 0.3), 0px 1px 3px 1px rgba(60, 64, 67, 0.15);\n",
              "      fill: #174EA6;\n",
              "    }\n",
              "\n",
              "    .colab-df-buttons div {\n",
              "      margin-bottom: 4px;\n",
              "    }\n",
              "\n",
              "    [theme=dark] .colab-df-convert {\n",
              "      background-color: #3B4455;\n",
              "      fill: #D2E3FC;\n",
              "    }\n",
              "\n",
              "    [theme=dark] .colab-df-convert:hover {\n",
              "      background-color: #434B5C;\n",
              "      box-shadow: 0px 1px 3px 1px rgba(0, 0, 0, 0.15);\n",
              "      filter: drop-shadow(0px 1px 2px rgba(0, 0, 0, 0.3));\n",
              "      fill: #FFFFFF;\n",
              "    }\n",
              "  </style>\n",
              "\n",
              "    <script>\n",
              "      const buttonEl =\n",
              "        document.querySelector('#df-cd7dcf51-e4d1-4be5-bd8f-7ee14ab4af98 button.colab-df-convert');\n",
              "      buttonEl.style.display =\n",
              "        google.colab.kernel.accessAllowed ? 'block' : 'none';\n",
              "\n",
              "      async function convertToInteractive(key) {\n",
              "        const element = document.querySelector('#df-cd7dcf51-e4d1-4be5-bd8f-7ee14ab4af98');\n",
              "        const dataTable =\n",
              "          await google.colab.kernel.invokeFunction('convertToInteractive',\n",
              "                                                    [key], {});\n",
              "        if (!dataTable) return;\n",
              "\n",
              "        const docLinkHtml = 'Like what you see? Visit the ' +\n",
              "          '<a target=\"_blank\" href=https://colab.research.google.com/notebooks/data_table.ipynb>data table notebook</a>'\n",
              "          + ' to learn more about interactive tables.';\n",
              "        element.innerHTML = '';\n",
              "        dataTable['output_type'] = 'display_data';\n",
              "        await google.colab.output.renderOutput(dataTable, element);\n",
              "        const docLink = document.createElement('div');\n",
              "        docLink.innerHTML = docLinkHtml;\n",
              "        element.appendChild(docLink);\n",
              "      }\n",
              "    </script>\n",
              "  </div>\n",
              "\n",
              "\n",
              "<div id=\"df-a4c5b8ea-c000-422e-8a9d-4b493f1e69e0\">\n",
              "  <button class=\"colab-df-quickchart\" onclick=\"quickchart('df-a4c5b8ea-c000-422e-8a9d-4b493f1e69e0')\"\n",
              "            title=\"Suggest charts\"\n",
              "            style=\"display:none;\">\n",
              "\n",
              "<svg xmlns=\"http://www.w3.org/2000/svg\" height=\"24px\"viewBox=\"0 0 24 24\"\n",
              "     width=\"24px\">\n",
              "    <g>\n",
              "        <path d=\"M19 3H5c-1.1 0-2 .9-2 2v14c0 1.1.9 2 2 2h14c1.1 0 2-.9 2-2V5c0-1.1-.9-2-2-2zM9 17H7v-7h2v7zm4 0h-2V7h2v10zm4 0h-2v-4h2v4z\"/>\n",
              "    </g>\n",
              "</svg>\n",
              "  </button>\n",
              "\n",
              "<style>\n",
              "  .colab-df-quickchart {\n",
              "      --bg-color: #E8F0FE;\n",
              "      --fill-color: #1967D2;\n",
              "      --hover-bg-color: #E2EBFA;\n",
              "      --hover-fill-color: #174EA6;\n",
              "      --disabled-fill-color: #AAA;\n",
              "      --disabled-bg-color: #DDD;\n",
              "  }\n",
              "\n",
              "  [theme=dark] .colab-df-quickchart {\n",
              "      --bg-color: #3B4455;\n",
              "      --fill-color: #D2E3FC;\n",
              "      --hover-bg-color: #434B5C;\n",
              "      --hover-fill-color: #FFFFFF;\n",
              "      --disabled-bg-color: #3B4455;\n",
              "      --disabled-fill-color: #666;\n",
              "  }\n",
              "\n",
              "  .colab-df-quickchart {\n",
              "    background-color: var(--bg-color);\n",
              "    border: none;\n",
              "    border-radius: 50%;\n",
              "    cursor: pointer;\n",
              "    display: none;\n",
              "    fill: var(--fill-color);\n",
              "    height: 32px;\n",
              "    padding: 0;\n",
              "    width: 32px;\n",
              "  }\n",
              "\n",
              "  .colab-df-quickchart:hover {\n",
              "    background-color: var(--hover-bg-color);\n",
              "    box-shadow: 0 1px 2px rgba(60, 64, 67, 0.3), 0 1px 3px 1px rgba(60, 64, 67, 0.15);\n",
              "    fill: var(--button-hover-fill-color);\n",
              "  }\n",
              "\n",
              "  .colab-df-quickchart-complete:disabled,\n",
              "  .colab-df-quickchart-complete:disabled:hover {\n",
              "    background-color: var(--disabled-bg-color);\n",
              "    fill: var(--disabled-fill-color);\n",
              "    box-shadow: none;\n",
              "  }\n",
              "\n",
              "  .colab-df-spinner {\n",
              "    border: 2px solid var(--fill-color);\n",
              "    border-color: transparent;\n",
              "    border-bottom-color: var(--fill-color);\n",
              "    animation:\n",
              "      spin 1s steps(1) infinite;\n",
              "  }\n",
              "\n",
              "  @keyframes spin {\n",
              "    0% {\n",
              "      border-color: transparent;\n",
              "      border-bottom-color: var(--fill-color);\n",
              "      border-left-color: var(--fill-color);\n",
              "    }\n",
              "    20% {\n",
              "      border-color: transparent;\n",
              "      border-left-color: var(--fill-color);\n",
              "      border-top-color: var(--fill-color);\n",
              "    }\n",
              "    30% {\n",
              "      border-color: transparent;\n",
              "      border-left-color: var(--fill-color);\n",
              "      border-top-color: var(--fill-color);\n",
              "      border-right-color: var(--fill-color);\n",
              "    }\n",
              "    40% {\n",
              "      border-color: transparent;\n",
              "      border-right-color: var(--fill-color);\n",
              "      border-top-color: var(--fill-color);\n",
              "    }\n",
              "    60% {\n",
              "      border-color: transparent;\n",
              "      border-right-color: var(--fill-color);\n",
              "    }\n",
              "    80% {\n",
              "      border-color: transparent;\n",
              "      border-right-color: var(--fill-color);\n",
              "      border-bottom-color: var(--fill-color);\n",
              "    }\n",
              "    90% {\n",
              "      border-color: transparent;\n",
              "      border-bottom-color: var(--fill-color);\n",
              "    }\n",
              "  }\n",
              "</style>\n",
              "\n",
              "  <script>\n",
              "    async function quickchart(key) {\n",
              "      const quickchartButtonEl =\n",
              "        document.querySelector('#' + key + ' button');\n",
              "      quickchartButtonEl.disabled = true;  // To prevent multiple clicks.\n",
              "      quickchartButtonEl.classList.add('colab-df-spinner');\n",
              "      try {\n",
              "        const charts = await google.colab.kernel.invokeFunction(\n",
              "            'suggestCharts', [key], {});\n",
              "      } catch (error) {\n",
              "        console.error('Error during call to suggestCharts:', error);\n",
              "      }\n",
              "      quickchartButtonEl.classList.remove('colab-df-spinner');\n",
              "      quickchartButtonEl.classList.add('colab-df-quickchart-complete');\n",
              "    }\n",
              "    (() => {\n",
              "      let quickchartButtonEl =\n",
              "        document.querySelector('#df-a4c5b8ea-c000-422e-8a9d-4b493f1e69e0 button');\n",
              "      quickchartButtonEl.style.display =\n",
              "        google.colab.kernel.accessAllowed ? 'block' : 'none';\n",
              "    })();\n",
              "  </script>\n",
              "</div>\n",
              "\n",
              "    </div>\n",
              "  </div>\n"
            ]
          },
          "metadata": {},
          "execution_count": 47
        }
      ]
    },
    {
      "cell_type": "markdown",
      "source": [
        "Chỉ có 2 giá trị, có thể LC chưa xác nhận được thông tin. Xoá 2 dòng này"
      ],
      "metadata": {
        "id": "MUvF-z9Z9Smp"
      }
    },
    {
      "cell_type": "code",
      "source": [
        "df.drop(df[df.dti < 0].index, inplace=True)"
      ],
      "metadata": {
        "id": "xujS9PwR9Uqt"
      },
      "execution_count": 48,
      "outputs": []
    },
    {
      "cell_type": "markdown",
      "source": [
        "# Lưu file làm sạch\n",
        "\n"
      ],
      "metadata": {
        "id": "EoG96UvVBYys"
      }
    },
    {
      "cell_type": "code",
      "source": [
        "df.shape"
      ],
      "metadata": {
        "colab": {
          "base_uri": "https://localhost:8080/"
        },
        "id": "0Rv8aeCKZE8G",
        "outputId": "542da1f4-1ee4-4b7b-fbf9-5665b11fb36b"
      },
      "execution_count": 49,
      "outputs": [
        {
          "output_type": "execute_result",
          "data": {
            "text/plain": [
              "(1348057, 35)"
            ]
          },
          "metadata": {},
          "execution_count": 49
        }
      ]
    },
    {
      "cell_type": "code",
      "source": [
        "df.loan_status.value_counts()"
      ],
      "metadata": {
        "colab": {
          "base_uri": "https://localhost:8080/"
        },
        "id": "Ke-dFCEeZNY9",
        "outputId": "2d632b6a-8e81-46ba-ef73-984babaee596"
      },
      "execution_count": 50,
      "outputs": [
        {
          "output_type": "execute_result",
          "data": {
            "text/plain": [
              "Fully Paid     1078737\n",
              "Charged Off     269320\n",
              "Name: loan_status, dtype: int64"
            ]
          },
          "metadata": {},
          "execution_count": 50
        }
      ]
    },
    {
      "cell_type": "code",
      "source": [
        "df.to_csv(root+\"cleaned.csv\", index=False)"
      ],
      "metadata": {
        "id": "nkUxDGP3BNkp"
      },
      "execution_count": 51,
      "outputs": []
    },
    {
      "cell_type": "markdown",
      "source": [
        "# Phân tích dữ liệu\n",
        "Trước khi xây dựng mô hình học máy, chúng ta cần tìm hiểu rõ về tính chất, tương quan lẫn nhau của một vài thuộc tính có trong dữ liệu."
      ],
      "metadata": {
        "id": "OynYGQuooyJb"
      }
    },
    {
      "cell_type": "code",
      "source": [
        "acc_df = pd.read_csv(root+\"cleaned.csv\")"
      ],
      "metadata": {
        "id": "WwX4-RXd_L4q"
      },
      "execution_count": 55,
      "outputs": []
    },
    {
      "cell_type": "code",
      "source": [
        "acc_df.sample(5)"
      ],
      "metadata": {
        "colab": {
          "base_uri": "https://localhost:8080/",
          "height": 255
        },
        "id": "bLCZYCbDApeJ",
        "outputId": "2fe09d7b-1676-4212-d214-bac2f1435f48"
      },
      "execution_count": 56,
      "outputs": [
        {
          "output_type": "execute_result",
          "data": {
            "text/plain": [
              "               id  loan_amnt  term  int_rate sub_grade  emp_length  \\\n",
              "529593  110085747     9600.0    36      9.93        B2          10   \n",
              "995152   96485667    36000.0    60     10.49        B2          10   \n",
              "786977   20488823    24000.0    36      8.39        A5           7   \n",
              "743000   27340193     3600.0    36      6.49        A2           1   \n",
              "93377    61903114    10400.0    36     12.69        C2           8   \n",
              "\n",
              "       home_ownership  annual_inc verification_status  loan_status  ...  \\\n",
              "529593            OWN     36000.0        Not Verified   Fully Paid  ...   \n",
              "995152       MORTGAGE    120000.0     Source Verified   Fully Paid  ...   \n",
              "786977           RENT     85000.0     Source Verified   Fully Paid  ...   \n",
              "743000           RENT     25000.0        Not Verified   Fully Paid  ...   \n",
              "93377            RENT     75000.0        Not Verified  Charged Off  ...   \n",
              "\n",
              "       mths_since_recent_bc num_accts_ever_120_pd  num_il_tl  num_tl_30dpd  \\\n",
              "529593                177.0                   0.0       13.0           0.0   \n",
              "995152                 20.0                   0.0        5.0           0.0   \n",
              "786977                 74.0                   0.0        4.0           0.0   \n",
              "743000                 14.0                   0.0        8.0           0.0   \n",
              "93377                   8.0                   5.0        6.0           0.0   \n",
              "\n",
              "       num_tl_op_past_12m  pct_tl_nvr_dlq  percent_bc_gt_75  tot_hi_cred_lim  \\\n",
              "529593                1.0           100.0               0.0          68250.0   \n",
              "995152                0.0            96.0              25.0         423825.0   \n",
              "786977                0.0           100.0              20.0          83005.0   \n",
              "743000                0.0           100.0               0.0          73838.0   \n",
              "93377                 3.0            64.7              60.0          47388.0   \n",
              "\n",
              "       total_bal_ex_mort  total_bc_limit  \n",
              "529593           13647.0         24000.0  \n",
              "995152           35878.0         53700.0  \n",
              "786977           44319.0         51600.0  \n",
              "743000           15756.0         60200.0  \n",
              "93377            23192.0         20600.0  \n",
              "\n",
              "[5 rows x 35 columns]"
            ],
            "text/html": [
              "\n",
              "  <div id=\"df-f3473415-9c42-44ea-98a3-0a4e9289e1a7\" class=\"colab-df-container\">\n",
              "    <div>\n",
              "<style scoped>\n",
              "    .dataframe tbody tr th:only-of-type {\n",
              "        vertical-align: middle;\n",
              "    }\n",
              "\n",
              "    .dataframe tbody tr th {\n",
              "        vertical-align: top;\n",
              "    }\n",
              "\n",
              "    .dataframe thead th {\n",
              "        text-align: right;\n",
              "    }\n",
              "</style>\n",
              "<table border=\"1\" class=\"dataframe\">\n",
              "  <thead>\n",
              "    <tr style=\"text-align: right;\">\n",
              "      <th></th>\n",
              "      <th>id</th>\n",
              "      <th>loan_amnt</th>\n",
              "      <th>term</th>\n",
              "      <th>int_rate</th>\n",
              "      <th>sub_grade</th>\n",
              "      <th>emp_length</th>\n",
              "      <th>home_ownership</th>\n",
              "      <th>annual_inc</th>\n",
              "      <th>verification_status</th>\n",
              "      <th>loan_status</th>\n",
              "      <th>...</th>\n",
              "      <th>mths_since_recent_bc</th>\n",
              "      <th>num_accts_ever_120_pd</th>\n",
              "      <th>num_il_tl</th>\n",
              "      <th>num_tl_30dpd</th>\n",
              "      <th>num_tl_op_past_12m</th>\n",
              "      <th>pct_tl_nvr_dlq</th>\n",
              "      <th>percent_bc_gt_75</th>\n",
              "      <th>tot_hi_cred_lim</th>\n",
              "      <th>total_bal_ex_mort</th>\n",
              "      <th>total_bc_limit</th>\n",
              "    </tr>\n",
              "  </thead>\n",
              "  <tbody>\n",
              "    <tr>\n",
              "      <th>529593</th>\n",
              "      <td>110085747</td>\n",
              "      <td>9600.0</td>\n",
              "      <td>36</td>\n",
              "      <td>9.93</td>\n",
              "      <td>B2</td>\n",
              "      <td>10</td>\n",
              "      <td>OWN</td>\n",
              "      <td>36000.0</td>\n",
              "      <td>Not Verified</td>\n",
              "      <td>Fully Paid</td>\n",
              "      <td>...</td>\n",
              "      <td>177.0</td>\n",
              "      <td>0.0</td>\n",
              "      <td>13.0</td>\n",
              "      <td>0.0</td>\n",
              "      <td>1.0</td>\n",
              "      <td>100.0</td>\n",
              "      <td>0.0</td>\n",
              "      <td>68250.0</td>\n",
              "      <td>13647.0</td>\n",
              "      <td>24000.0</td>\n",
              "    </tr>\n",
              "    <tr>\n",
              "      <th>995152</th>\n",
              "      <td>96485667</td>\n",
              "      <td>36000.0</td>\n",
              "      <td>60</td>\n",
              "      <td>10.49</td>\n",
              "      <td>B2</td>\n",
              "      <td>10</td>\n",
              "      <td>MORTGAGE</td>\n",
              "      <td>120000.0</td>\n",
              "      <td>Source Verified</td>\n",
              "      <td>Fully Paid</td>\n",
              "      <td>...</td>\n",
              "      <td>20.0</td>\n",
              "      <td>0.0</td>\n",
              "      <td>5.0</td>\n",
              "      <td>0.0</td>\n",
              "      <td>0.0</td>\n",
              "      <td>96.0</td>\n",
              "      <td>25.0</td>\n",
              "      <td>423825.0</td>\n",
              "      <td>35878.0</td>\n",
              "      <td>53700.0</td>\n",
              "    </tr>\n",
              "    <tr>\n",
              "      <th>786977</th>\n",
              "      <td>20488823</td>\n",
              "      <td>24000.0</td>\n",
              "      <td>36</td>\n",
              "      <td>8.39</td>\n",
              "      <td>A5</td>\n",
              "      <td>7</td>\n",
              "      <td>RENT</td>\n",
              "      <td>85000.0</td>\n",
              "      <td>Source Verified</td>\n",
              "      <td>Fully Paid</td>\n",
              "      <td>...</td>\n",
              "      <td>74.0</td>\n",
              "      <td>0.0</td>\n",
              "      <td>4.0</td>\n",
              "      <td>0.0</td>\n",
              "      <td>0.0</td>\n",
              "      <td>100.0</td>\n",
              "      <td>20.0</td>\n",
              "      <td>83005.0</td>\n",
              "      <td>44319.0</td>\n",
              "      <td>51600.0</td>\n",
              "    </tr>\n",
              "    <tr>\n",
              "      <th>743000</th>\n",
              "      <td>27340193</td>\n",
              "      <td>3600.0</td>\n",
              "      <td>36</td>\n",
              "      <td>6.49</td>\n",
              "      <td>A2</td>\n",
              "      <td>1</td>\n",
              "      <td>RENT</td>\n",
              "      <td>25000.0</td>\n",
              "      <td>Not Verified</td>\n",
              "      <td>Fully Paid</td>\n",
              "      <td>...</td>\n",
              "      <td>14.0</td>\n",
              "      <td>0.0</td>\n",
              "      <td>8.0</td>\n",
              "      <td>0.0</td>\n",
              "      <td>0.0</td>\n",
              "      <td>100.0</td>\n",
              "      <td>0.0</td>\n",
              "      <td>73838.0</td>\n",
              "      <td>15756.0</td>\n",
              "      <td>60200.0</td>\n",
              "    </tr>\n",
              "    <tr>\n",
              "      <th>93377</th>\n",
              "      <td>61903114</td>\n",
              "      <td>10400.0</td>\n",
              "      <td>36</td>\n",
              "      <td>12.69</td>\n",
              "      <td>C2</td>\n",
              "      <td>8</td>\n",
              "      <td>RENT</td>\n",
              "      <td>75000.0</td>\n",
              "      <td>Not Verified</td>\n",
              "      <td>Charged Off</td>\n",
              "      <td>...</td>\n",
              "      <td>8.0</td>\n",
              "      <td>5.0</td>\n",
              "      <td>6.0</td>\n",
              "      <td>0.0</td>\n",
              "      <td>3.0</td>\n",
              "      <td>64.7</td>\n",
              "      <td>60.0</td>\n",
              "      <td>47388.0</td>\n",
              "      <td>23192.0</td>\n",
              "      <td>20600.0</td>\n",
              "    </tr>\n",
              "  </tbody>\n",
              "</table>\n",
              "<p>5 rows × 35 columns</p>\n",
              "</div>\n",
              "    <div class=\"colab-df-buttons\">\n",
              "\n",
              "  <div class=\"colab-df-container\">\n",
              "    <button class=\"colab-df-convert\" onclick=\"convertToInteractive('df-f3473415-9c42-44ea-98a3-0a4e9289e1a7')\"\n",
              "            title=\"Convert this dataframe to an interactive table.\"\n",
              "            style=\"display:none;\">\n",
              "\n",
              "  <svg xmlns=\"http://www.w3.org/2000/svg\" height=\"24px\" viewBox=\"0 -960 960 960\">\n",
              "    <path d=\"M120-120v-720h720v720H120Zm60-500h600v-160H180v160Zm220 220h160v-160H400v160Zm0 220h160v-160H400v160ZM180-400h160v-160H180v160Zm440 0h160v-160H620v160ZM180-180h160v-160H180v160Zm440 0h160v-160H620v160Z\"/>\n",
              "  </svg>\n",
              "    </button>\n",
              "\n",
              "  <style>\n",
              "    .colab-df-container {\n",
              "      display:flex;\n",
              "      gap: 12px;\n",
              "    }\n",
              "\n",
              "    .colab-df-convert {\n",
              "      background-color: #E8F0FE;\n",
              "      border: none;\n",
              "      border-radius: 50%;\n",
              "      cursor: pointer;\n",
              "      display: none;\n",
              "      fill: #1967D2;\n",
              "      height: 32px;\n",
              "      padding: 0 0 0 0;\n",
              "      width: 32px;\n",
              "    }\n",
              "\n",
              "    .colab-df-convert:hover {\n",
              "      background-color: #E2EBFA;\n",
              "      box-shadow: 0px 1px 2px rgba(60, 64, 67, 0.3), 0px 1px 3px 1px rgba(60, 64, 67, 0.15);\n",
              "      fill: #174EA6;\n",
              "    }\n",
              "\n",
              "    .colab-df-buttons div {\n",
              "      margin-bottom: 4px;\n",
              "    }\n",
              "\n",
              "    [theme=dark] .colab-df-convert {\n",
              "      background-color: #3B4455;\n",
              "      fill: #D2E3FC;\n",
              "    }\n",
              "\n",
              "    [theme=dark] .colab-df-convert:hover {\n",
              "      background-color: #434B5C;\n",
              "      box-shadow: 0px 1px 3px 1px rgba(0, 0, 0, 0.15);\n",
              "      filter: drop-shadow(0px 1px 2px rgba(0, 0, 0, 0.3));\n",
              "      fill: #FFFFFF;\n",
              "    }\n",
              "  </style>\n",
              "\n",
              "    <script>\n",
              "      const buttonEl =\n",
              "        document.querySelector('#df-f3473415-9c42-44ea-98a3-0a4e9289e1a7 button.colab-df-convert');\n",
              "      buttonEl.style.display =\n",
              "        google.colab.kernel.accessAllowed ? 'block' : 'none';\n",
              "\n",
              "      async function convertToInteractive(key) {\n",
              "        const element = document.querySelector('#df-f3473415-9c42-44ea-98a3-0a4e9289e1a7');\n",
              "        const dataTable =\n",
              "          await google.colab.kernel.invokeFunction('convertToInteractive',\n",
              "                                                    [key], {});\n",
              "        if (!dataTable) return;\n",
              "\n",
              "        const docLinkHtml = 'Like what you see? Visit the ' +\n",
              "          '<a target=\"_blank\" href=https://colab.research.google.com/notebooks/data_table.ipynb>data table notebook</a>'\n",
              "          + ' to learn more about interactive tables.';\n",
              "        element.innerHTML = '';\n",
              "        dataTable['output_type'] = 'display_data';\n",
              "        await google.colab.output.renderOutput(dataTable, element);\n",
              "        const docLink = document.createElement('div');\n",
              "        docLink.innerHTML = docLinkHtml;\n",
              "        element.appendChild(docLink);\n",
              "      }\n",
              "    </script>\n",
              "  </div>\n",
              "\n",
              "\n",
              "<div id=\"df-a81ea491-a30d-42e5-89a6-3ffc2c679569\">\n",
              "  <button class=\"colab-df-quickchart\" onclick=\"quickchart('df-a81ea491-a30d-42e5-89a6-3ffc2c679569')\"\n",
              "            title=\"Suggest charts\"\n",
              "            style=\"display:none;\">\n",
              "\n",
              "<svg xmlns=\"http://www.w3.org/2000/svg\" height=\"24px\"viewBox=\"0 0 24 24\"\n",
              "     width=\"24px\">\n",
              "    <g>\n",
              "        <path d=\"M19 3H5c-1.1 0-2 .9-2 2v14c0 1.1.9 2 2 2h14c1.1 0 2-.9 2-2V5c0-1.1-.9-2-2-2zM9 17H7v-7h2v7zm4 0h-2V7h2v10zm4 0h-2v-4h2v4z\"/>\n",
              "    </g>\n",
              "</svg>\n",
              "  </button>\n",
              "\n",
              "<style>\n",
              "  .colab-df-quickchart {\n",
              "      --bg-color: #E8F0FE;\n",
              "      --fill-color: #1967D2;\n",
              "      --hover-bg-color: #E2EBFA;\n",
              "      --hover-fill-color: #174EA6;\n",
              "      --disabled-fill-color: #AAA;\n",
              "      --disabled-bg-color: #DDD;\n",
              "  }\n",
              "\n",
              "  [theme=dark] .colab-df-quickchart {\n",
              "      --bg-color: #3B4455;\n",
              "      --fill-color: #D2E3FC;\n",
              "      --hover-bg-color: #434B5C;\n",
              "      --hover-fill-color: #FFFFFF;\n",
              "      --disabled-bg-color: #3B4455;\n",
              "      --disabled-fill-color: #666;\n",
              "  }\n",
              "\n",
              "  .colab-df-quickchart {\n",
              "    background-color: var(--bg-color);\n",
              "    border: none;\n",
              "    border-radius: 50%;\n",
              "    cursor: pointer;\n",
              "    display: none;\n",
              "    fill: var(--fill-color);\n",
              "    height: 32px;\n",
              "    padding: 0;\n",
              "    width: 32px;\n",
              "  }\n",
              "\n",
              "  .colab-df-quickchart:hover {\n",
              "    background-color: var(--hover-bg-color);\n",
              "    box-shadow: 0 1px 2px rgba(60, 64, 67, 0.3), 0 1px 3px 1px rgba(60, 64, 67, 0.15);\n",
              "    fill: var(--button-hover-fill-color);\n",
              "  }\n",
              "\n",
              "  .colab-df-quickchart-complete:disabled,\n",
              "  .colab-df-quickchart-complete:disabled:hover {\n",
              "    background-color: var(--disabled-bg-color);\n",
              "    fill: var(--disabled-fill-color);\n",
              "    box-shadow: none;\n",
              "  }\n",
              "\n",
              "  .colab-df-spinner {\n",
              "    border: 2px solid var(--fill-color);\n",
              "    border-color: transparent;\n",
              "    border-bottom-color: var(--fill-color);\n",
              "    animation:\n",
              "      spin 1s steps(1) infinite;\n",
              "  }\n",
              "\n",
              "  @keyframes spin {\n",
              "    0% {\n",
              "      border-color: transparent;\n",
              "      border-bottom-color: var(--fill-color);\n",
              "      border-left-color: var(--fill-color);\n",
              "    }\n",
              "    20% {\n",
              "      border-color: transparent;\n",
              "      border-left-color: var(--fill-color);\n",
              "      border-top-color: var(--fill-color);\n",
              "    }\n",
              "    30% {\n",
              "      border-color: transparent;\n",
              "      border-left-color: var(--fill-color);\n",
              "      border-top-color: var(--fill-color);\n",
              "      border-right-color: var(--fill-color);\n",
              "    }\n",
              "    40% {\n",
              "      border-color: transparent;\n",
              "      border-right-color: var(--fill-color);\n",
              "      border-top-color: var(--fill-color);\n",
              "    }\n",
              "    60% {\n",
              "      border-color: transparent;\n",
              "      border-right-color: var(--fill-color);\n",
              "    }\n",
              "    80% {\n",
              "      border-color: transparent;\n",
              "      border-right-color: var(--fill-color);\n",
              "      border-bottom-color: var(--fill-color);\n",
              "    }\n",
              "    90% {\n",
              "      border-color: transparent;\n",
              "      border-bottom-color: var(--fill-color);\n",
              "    }\n",
              "  }\n",
              "</style>\n",
              "\n",
              "  <script>\n",
              "    async function quickchart(key) {\n",
              "      const quickchartButtonEl =\n",
              "        document.querySelector('#' + key + ' button');\n",
              "      quickchartButtonEl.disabled = true;  // To prevent multiple clicks.\n",
              "      quickchartButtonEl.classList.add('colab-df-spinner');\n",
              "      try {\n",
              "        const charts = await google.colab.kernel.invokeFunction(\n",
              "            'suggestCharts', [key], {});\n",
              "      } catch (error) {\n",
              "        console.error('Error during call to suggestCharts:', error);\n",
              "      }\n",
              "      quickchartButtonEl.classList.remove('colab-df-spinner');\n",
              "      quickchartButtonEl.classList.add('colab-df-quickchart-complete');\n",
              "    }\n",
              "    (() => {\n",
              "      let quickchartButtonEl =\n",
              "        document.querySelector('#df-a81ea491-a30d-42e5-89a6-3ffc2c679569 button');\n",
              "      quickchartButtonEl.style.display =\n",
              "        google.colab.kernel.accessAllowed ? 'block' : 'none';\n",
              "    })();\n",
              "  </script>\n",
              "</div>\n",
              "\n",
              "    </div>\n",
              "  </div>\n"
            ]
          },
          "metadata": {},
          "execution_count": 56
        }
      ]
    },
    {
      "cell_type": "code",
      "source": [
        "acc_df.shape"
      ],
      "metadata": {
        "colab": {
          "base_uri": "https://localhost:8080/"
        },
        "id": "EB9FAqGAAnfR",
        "outputId": "b8b5b05d-c5d3-46eb-997e-14a88a2dd87b"
      },
      "execution_count": 57,
      "outputs": [
        {
          "output_type": "execute_result",
          "data": {
            "text/plain": [
              "(1348057, 35)"
            ]
          },
          "metadata": {},
          "execution_count": 57
        }
      ]
    },
    {
      "cell_type": "markdown",
      "source": [
        "## loan_status"
      ],
      "metadata": {
        "id": "oDqf6ZruD-0X"
      }
    },
    {
      "cell_type": "code",
      "source": [
        "ax = plt.bar(acc_df['loan_status'].value_counts().keys(),\n",
        "        acc_df['loan_status'].value_counts().values,\n",
        "        color= ['b', 'r'])\n",
        "for bar in ax:\n",
        "    yval = bar.get_height()\n",
        "    plt.text(bar.get_x() + bar.get_width()/2, yval, round(yval, 2), ha='center', va='bottom')\n",
        "\n",
        "plt.xlabel('Loan Status')\n",
        "plt.ylabel('Number of Loans')\n",
        "plt.show()"
      ],
      "metadata": {
        "colab": {
          "base_uri": "https://localhost:8080/",
          "height": 465
        },
        "id": "3fkZtrmzsl1Y",
        "outputId": "b503726e-d7e6-4bbc-b101-45e86aae9572"
      },
      "execution_count": 67,
      "outputs": [
        {
          "output_type": "display_data",
          "data": {
            "text/plain": [
              "<Figure size 640x480 with 1 Axes>"
            ],
            "image/png": "[encoded data removed]"
          },
          "metadata": {}
        }
      ]
    },
    {
      "cell_type": "markdown",
      "source": [
        "Dữ liệu bị mất cân bằng, trung bình cứ 10 người được vay thì 2 người không trả được nợ"
      ],
      "metadata": {
        "id": "YGnaKyQptVJh"
      }
    },
    {
      "cell_type": "markdown",
      "source": [
        "## loan_amnt"
      ],
      "metadata": {
        "id": "Ze-VKlSJCvSW"
      }
    },
    {
      "cell_type": "code",
      "source": [
        "acc_df.loan_amnt.min(), acc_df.loan_amnt.max()"
      ],
      "metadata": {
        "colab": {
          "base_uri": "https://localhost:8080/"
        },
        "id": "GZml3QNjpnX5",
        "outputId": "f530e91f-87c8-4953-d2f0-cebe17033d77"
      },
      "execution_count": 58,
      "outputs": [
        {
          "output_type": "execute_result",
          "data": {
            "text/plain": [
              "(500.0, 40000.0)"
            ]
          },
          "metadata": {},
          "execution_count": 58
        }
      ]
    },
    {
      "cell_type": "markdown",
      "source": [
        "- Khách hàng được vay từ 500 đến 40000 đô"
      ],
      "metadata": {
        "id": "unI_FIEuptrD"
      }
    },
    {
      "cell_type": "code",
      "source": [
        "sns.histplot(acc_df.loan_amnt, bins=20)\n",
        "\n",
        "plt.xlabel('Loan Amount')\n",
        "plt.ylabel('Count')\n",
        "plt.title('Distribution Loan Amount')\n",
        "plt.show()"
      ],
      "metadata": {
        "colab": {
          "base_uri": "https://localhost:8080/",
          "height": 472
        },
        "id": "mV-9j6wnFHcN",
        "outputId": "3872ad88-18f7-4344-bbeb-a8a998569936"
      },
      "execution_count": 72,
      "outputs": [
        {
          "output_type": "display_data",
          "data": {
            "text/plain": [
              "<Figure size 640x480 with 1 Axes>"
            ],
            "image/png": "[encoded data removed]"
          },
          "metadata": {}
        }
      ]
    },
    {
      "cell_type": "markdown",
      "source": [
        "- Đa phần khách hàng muốn vay khoản dưới 20000$\n",
        "\n",
        "- Khách hàng thường vay ở các mốc là bội của 5000$"
      ],
      "metadata": {
        "id": "2mNo8pPGFqXi"
      }
    },
    {
      "cell_type": "code",
      "source": [
        "df_total_loan =  acc_df.groupby('loan_status')['loan_amnt'].sum().reset_index()\n",
        "df_total_loan['Percent'] = (df_total_loan.loan_amnt / df_total_loan.loan_amnt.sum())*100\n",
        "df_total_loan"
      ],
      "metadata": {
        "colab": {
          "base_uri": "https://localhost:8080/",
          "height": 125
        },
        "id": "1KtRSq-3pRDL",
        "outputId": "6c0a34e6-cb0a-4262-a363-cd7f46852dd6"
      },
      "execution_count": 59,
      "outputs": [
        {
          "output_type": "execute_result",
          "data": {
            "text/plain": [
              "   loan_status     loan_amnt    Percent\n",
              "0  Charged Off  4.187386e+09  21.557627\n",
              "1   Fully Paid  1.523677e+10  78.442373"
            ],
            "text/html": [
              "\n",
              "  <div id=\"df-53906771-e0db-4ad5-b7ab-c16017131f6a\" class=\"colab-df-container\">\n",
              "    <div>\n",
              "<style scoped>\n",
              "    .dataframe tbody tr th:only-of-type {\n",
              "        vertical-align: middle;\n",
              "    }\n",
              "\n",
              "    .dataframe tbody tr th {\n",
              "        vertical-align: top;\n",
              "    }\n",
              "\n",
              "    .dataframe thead th {\n",
              "        text-align: right;\n",
              "    }\n",
              "</style>\n",
              "<table border=\"1\" class=\"dataframe\">\n",
              "  <thead>\n",
              "    <tr style=\"text-align: right;\">\n",
              "      <th></th>\n",
              "      <th>loan_status</th>\n",
              "      <th>loan_amnt</th>\n",
              "      <th>Percent</th>\n",
              "    </tr>\n",
              "  </thead>\n",
              "  <tbody>\n",
              "    <tr>\n",
              "      <th>0</th>\n",
              "      <td>Charged Off</td>\n",
              "      <td>4.187386e+09</td>\n",
              "      <td>21.557627</td>\n",
              "    </tr>\n",
              "    <tr>\n",
              "      <th>1</th>\n",
              "      <td>Fully Paid</td>\n",
              "      <td>1.523677e+10</td>\n",
              "      <td>78.442373</td>\n",
              "    </tr>\n",
              "  </tbody>\n",
              "</table>\n",
              "</div>\n",
              "    <div class=\"colab-df-buttons\">\n",
              "\n",
              "  <div class=\"colab-df-container\">\n",
              "    <button class=\"colab-df-convert\" onclick=\"convertToInteractive('df-53906771-e0db-4ad5-b7ab-c16017131f6a')\"\n",
              "            title=\"Convert this dataframe to an interactive table.\"\n",
              "            style=\"display:none;\">\n",
              "\n",
              "  <svg xmlns=\"http://www.w3.org/2000/svg\" height=\"24px\" viewBox=\"0 -960 960 960\">\n",
              "    <path d=\"M120-120v-720h720v720H120Zm60-500h600v-160H180v160Zm220 220h160v-160H400v160Zm0 220h160v-160H400v160ZM180-400h160v-160H180v160Zm440 0h160v-160H620v160ZM180-180h160v-160H180v160Zm440 0h160v-160H620v160Z\"/>\n",
              "  </svg>\n",
              "    </button>\n",
              "\n",
              "  <style>\n",
              "    .colab-df-container {\n",
              "      display:flex;\n",
              "      gap: 12px;\n",
              "    }\n",
              "\n",
              "    .colab-df-convert {\n",
              "      background-color: #E8F0FE;\n",
              "      border: none;\n",
              "      border-radius: 50%;\n",
              "      cursor: pointer;\n",
              "      display: none;\n",
              "      fill: #1967D2;\n",
              "      height: 32px;\n",
              "      padding: 0 0 0 0;\n",
              "      width: 32px;\n",
              "    }\n",
              "\n",
              "    .colab-df-convert:hover {\n",
              "      background-color: #E2EBFA;\n",
              "      box-shadow: 0px 1px 2px rgba(60, 64, 67, 0.3), 0px 1px 3px 1px rgba(60, 64, 67, 0.15);\n",
              "      fill: #174EA6;\n",
              "    }\n",
              "\n",
              "    .colab-df-buttons div {\n",
              "      margin-bottom: 4px;\n",
              "    }\n",
              "\n",
              "    [theme=dark] .colab-df-convert {\n",
              "      background-color: #3B4455;\n",
              "      fill: #D2E3FC;\n",
              "    }\n",
              "\n",
              "    [theme=dark] .colab-df-convert:hover {\n",
              "      background-color: #434B5C;\n",
              "      box-shadow: 0px 1px 3px 1px rgba(0, 0, 0, 0.15);\n",
              "      filter: drop-shadow(0px 1px 2px rgba(0, 0, 0, 0.3));\n",
              "      fill: #FFFFFF;\n",
              "    }\n",
              "  </style>\n",
              "\n",
              "    <script>\n",
              "      const buttonEl =\n",
              "        document.querySelector('#df-53906771-e0db-4ad5-b7ab-c16017131f6a button.colab-df-convert');\n",
              "      buttonEl.style.display =\n",
              "        google.colab.kernel.accessAllowed ? 'block' : 'none';\n",
              "\n",
              "      async function convertToInteractive(key) {\n",
              "        const element = document.querySelector('#df-53906771-e0db-4ad5-b7ab-c16017131f6a');\n",
              "        const dataTable =\n",
              "          await google.colab.kernel.invokeFunction('convertToInteractive',\n",
              "                                                    [key], {});\n",
              "        if (!dataTable) return;\n",
              "\n",
              "        const docLinkHtml = 'Like what you see? Visit the ' +\n",
              "          '<a target=\"_blank\" href=https://colab.research.google.com/notebooks/data_table.ipynb>data table notebook</a>'\n",
              "          + ' to learn more about interactive tables.';\n",
              "        element.innerHTML = '';\n",
              "        dataTable['output_type'] = 'display_data';\n",
              "        await google.colab.output.renderOutput(dataTable, element);\n",
              "        const docLink = document.createElement('div');\n",
              "        docLink.innerHTML = docLinkHtml;\n",
              "        element.appendChild(docLink);\n",
              "      }\n",
              "    </script>\n",
              "  </div>\n",
              "\n",
              "\n",
              "<div id=\"df-81c91c4f-0609-4c09-810f-a43ca0f59cc4\">\n",
              "  <button class=\"colab-df-quickchart\" onclick=\"quickchart('df-81c91c4f-0609-4c09-810f-a43ca0f59cc4')\"\n",
              "            title=\"Suggest charts\"\n",
              "            style=\"display:none;\">\n",
              "\n",
              "<svg xmlns=\"http://www.w3.org/2000/svg\" height=\"24px\"viewBox=\"0 0 24 24\"\n",
              "     width=\"24px\">\n",
              "    <g>\n",
              "        <path d=\"M19 3H5c-1.1 0-2 .9-2 2v14c0 1.1.9 2 2 2h14c1.1 0 2-.9 2-2V5c0-1.1-.9-2-2-2zM9 17H7v-7h2v7zm4 0h-2V7h2v10zm4 0h-2v-4h2v4z\"/>\n",
              "    </g>\n",
              "</svg>\n",
              "  </button>\n",
              "\n",
              "<style>\n",
              "  .colab-df-quickchart {\n",
              "      --bg-color: #E8F0FE;\n",
              "      --fill-color: #1967D2;\n",
              "      --hover-bg-color: #E2EBFA;\n",
              "      --hover-fill-color: #174EA6;\n",
              "      --disabled-fill-color: #AAA;\n",
              "      --disabled-bg-color: #DDD;\n",
              "  }\n",
              "\n",
              "  [theme=dark] .colab-df-quickchart {\n",
              "      --bg-color: #3B4455;\n",
              "      --fill-color: #D2E3FC;\n",
              "      --hover-bg-color: #434B5C;\n",
              "      --hover-fill-color: #FFFFFF;\n",
              "      --disabled-bg-color: #3B4455;\n",
              "      --disabled-fill-color: #666;\n",
              "  }\n",
              "\n",
              "  .colab-df-quickchart {\n",
              "    background-color: var(--bg-color);\n",
              "    border: none;\n",
              "    border-radius: 50%;\n",
              "    cursor: pointer;\n",
              "    display: none;\n",
              "    fill: var(--fill-color);\n",
              "    height: 32px;\n",
              "    padding: 0;\n",
              "    width: 32px;\n",
              "  }\n",
              "\n",
              "  .colab-df-quickchart:hover {\n",
              "    background-color: var(--hover-bg-color);\n",
              "    box-shadow: 0 1px 2px rgba(60, 64, 67, 0.3), 0 1px 3px 1px rgba(60, 64, 67, 0.15);\n",
              "    fill: var(--button-hover-fill-color);\n",
              "  }\n",
              "\n",
              "  .colab-df-quickchart-complete:disabled,\n",
              "  .colab-df-quickchart-complete:disabled:hover {\n",
              "    background-color: var(--disabled-bg-color);\n",
              "    fill: var(--disabled-fill-color);\n",
              "    box-shadow: none;\n",
              "  }\n",
              "\n",
              "  .colab-df-spinner {\n",
              "    border: 2px solid var(--fill-color);\n",
              "    border-color: transparent;\n",
              "    border-bottom-color: var(--fill-color);\n",
              "    animation:\n",
              "      spin 1s steps(1) infinite;\n",
              "  }\n",
              "\n",
              "  @keyframes spin {\n",
              "    0% {\n",
              "      border-color: transparent;\n",
              "      border-bottom-color: var(--fill-color);\n",
              "      border-left-color: var(--fill-color);\n",
              "    }\n",
              "    20% {\n",
              "      border-color: transparent;\n",
              "      border-left-color: var(--fill-color);\n",
              "      border-top-color: var(--fill-color);\n",
              "    }\n",
              "    30% {\n",
              "      border-color: transparent;\n",
              "      border-left-color: var(--fill-color);\n",
              "      border-top-color: var(--fill-color);\n",
              "      border-right-color: var(--fill-color);\n",
              "    }\n",
              "    40% {\n",
              "      border-color: transparent;\n",
              "      border-right-color: var(--fill-color);\n",
              "      border-top-color: var(--fill-color);\n",
              "    }\n",
              "    60% {\n",
              "      border-color: transparent;\n",
              "      border-right-color: var(--fill-color);\n",
              "    }\n",
              "    80% {\n",
              "      border-color: transparent;\n",
              "      border-right-color: var(--fill-color);\n",
              "      border-bottom-color: var(--fill-color);\n",
              "    }\n",
              "    90% {\n",
              "      border-color: transparent;\n",
              "      border-bottom-color: var(--fill-color);\n",
              "    }\n",
              "  }\n",
              "</style>\n",
              "\n",
              "  <script>\n",
              "    async function quickchart(key) {\n",
              "      const quickchartButtonEl =\n",
              "        document.querySelector('#' + key + ' button');\n",
              "      quickchartButtonEl.disabled = true;  // To prevent multiple clicks.\n",
              "      quickchartButtonEl.classList.add('colab-df-spinner');\n",
              "      try {\n",
              "        const charts = await google.colab.kernel.invokeFunction(\n",
              "            'suggestCharts', [key], {});\n",
              "      } catch (error) {\n",
              "        console.error('Error during call to suggestCharts:', error);\n",
              "      }\n",
              "      quickchartButtonEl.classList.remove('colab-df-spinner');\n",
              "      quickchartButtonEl.classList.add('colab-df-quickchart-complete');\n",
              "    }\n",
              "    (() => {\n",
              "      let quickchartButtonEl =\n",
              "        document.querySelector('#df-81c91c4f-0609-4c09-810f-a43ca0f59cc4 button');\n",
              "      quickchartButtonEl.style.display =\n",
              "        google.colab.kernel.accessAllowed ? 'block' : 'none';\n",
              "    })();\n",
              "  </script>\n",
              "</div>\n",
              "\n",
              "  <div id=\"id_1808135e-fb65-4f1b-947e-85fdea5bf006\">\n",
              "    <style>\n",
              "      .colab-df-generate {\n",
              "        background-color: #E8F0FE;\n",
              "        border: none;\n",
              "        border-radius: 50%;\n",
              "        cursor: pointer;\n",
              "        display: none;\n",
              "        fill: #1967D2;\n",
              "        height: 32px;\n",
              "        padding: 0 0 0 0;\n",
              "        width: 32px;\n",
              "      }\n",
              "\n",
              "      .colab-df-generate:hover {\n",
              "        background-color: #E2EBFA;\n",
              "        box-shadow: 0px 1px 2px rgba(60, 64, 67, 0.3), 0px 1px 3px 1px rgba(60, 64, 67, 0.15);\n",
              "        fill: #174EA6;\n",
              "      }\n",
              "\n",
              "      [theme=dark] .colab-df-generate {\n",
              "        background-color: #3B4455;\n",
              "        fill: #D2E3FC;\n",
              "      }\n",
              "\n",
              "      [theme=dark] .colab-df-generate:hover {\n",
              "        background-color: #434B5C;\n",
              "        box-shadow: 0px 1px 3px 1px rgba(0, 0, 0, 0.15);\n",
              "        filter: drop-shadow(0px 1px 2px rgba(0, 0, 0, 0.3));\n",
              "        fill: #FFFFFF;\n",
              "      }\n",
              "    </style>\n",
              "    <button class=\"colab-df-generate\" onclick=\"generateWithVariable('df_total_loan')\"\n",
              "            title=\"Generate code using this dataframe.\"\n",
              "            style=\"display:none;\">\n",
              "\n",
              "  <svg xmlns=\"http://www.w3.org/2000/svg\" height=\"24px\"viewBox=\"0 0 24 24\"\n",
              "       width=\"24px\">\n",
              "    <path d=\"M7,19H8.4L18.45,9,17,7.55,7,17.6ZM5,21V16.75L18.45,3.32a2,2,0,0,1,2.83,0l1.4,1.43a1.91,1.91,0,0,1,.58,1.4,1.91,1.91,0,0,1-.58,1.4L9.25,21ZM18.45,9,17,7.55Zm-12,3A5.31,5.31,0,0,0,4.9,8.1,5.31,5.31,0,0,0,1,6.5,5.31,5.31,0,0,0,4.9,4.9,5.31,5.31,0,0,0,6.5,1,5.31,5.31,0,0,0,8.1,4.9,5.31,5.31,0,0,0,12,6.5,5.46,5.46,0,0,0,6.5,12Z\"/>\n",
              "  </svg>\n",
              "    </button>\n",
              "    <script>\n",
              "      (() => {\n",
              "      const buttonEl =\n",
              "        document.querySelector('#id_1808135e-fb65-4f1b-947e-85fdea5bf006 button.colab-df-generate');\n",
              "      buttonEl.style.display =\n",
              "        google.colab.kernel.accessAllowed ? 'block' : 'none';\n",
              "\n",
              "      buttonEl.onclick = () => {\n",
              "        google.colab.notebook.generateWithVariable('df_total_loan');\n",
              "      }\n",
              "      })();\n",
              "    </script>\n",
              "  </div>\n",
              "\n",
              "    </div>\n",
              "  </div>\n"
            ]
          },
          "metadata": {},
          "execution_count": 59
        }
      ]
    },
    {
      "cell_type": "code",
      "source": [
        "df_total_loan.loan_amnt[0], df_total_loan.loan_amnt[1]"
      ],
      "metadata": {
        "colab": {
          "base_uri": "https://localhost:8080/"
        },
        "id": "hgcv9Fqjqjoi",
        "outputId": "32300c64-3357-4562-8eba-4c4c48188ac7"
      },
      "execution_count": 60,
      "outputs": [
        {
          "output_type": "execute_result",
          "data": {
            "text/plain": [
              "(4187385950.0, 15236765050.0)"
            ]
          },
          "metadata": {},
          "execution_count": 60
        }
      ]
    },
    {
      "cell_type": "markdown",
      "source": [
        "- Tổng số tiền cho vay là 19,424,151,000 USD.\n",
        "- Tổng số tiền cho khách hàng không trả được vay: 4,187,385,950 chiếm 21.56% tổng tiền cho vay\n",
        "- Tổng số tiền cho khách hàng trả được nợ vay: 15,236,765,050 chiếm 78.44%.\n",
        "\n",
        "Dù chưa tính % lãi từ số tiền cho vay mà khách hàng trả. Nhưng công ty vẫn khiến bên cho vay mất số tiền lớn, làm giảm độ uy tín của công ty."
      ],
      "metadata": {
        "id": "gSJ4CdOBrvPT"
      }
    },
    {
      "cell_type": "markdown",
      "source": [
        "## term"
      ],
      "metadata": {
        "id": "6OKj-5EWGYxt"
      }
    },
    {
      "cell_type": "code",
      "source": [
        "counts_FP = acc_df.term[acc_df.loan_status == 'Fully Paid'].value_counts()\n",
        "counts_CO = acc_df.term[acc_df.loan_status == 'Charged Off'].value_counts()\n",
        "\n",
        "fig, ax = plt.subplots()\n",
        "bar_width = 0.35\n",
        "index = range(len(counts_FP))\n",
        "\n",
        "bar1 = ax.bar(index, counts_FP, bar_width, label='Fully Paid')\n",
        "bar2 = ax.bar([i + bar_width for i in index], counts_CO, bar_width, label='Charged Off', color='r')\n",
        "\n",
        "for i, value in enumerate(counts_FP):\n",
        "    ax.text(i, value, str(value), ha='center', va='bottom', fontsize=8, color='black')\n",
        "\n",
        "for i, value in enumerate(counts_CO):\n",
        "    ax.text(i + bar_width, value, str(value), ha='center', va='bottom', fontsize=8, color='black')\n",
        "\n",
        "ax.set_xlabel('Term')\n",
        "ax.set_ylabel('Number of Loans')\n",
        "ax.set_title('Loan Status and Term')\n",
        "ax.set_xticks([i + bar_width / 2 for i in index])\n",
        "ax.set_xticklabels(counts_FP.index)\n",
        "ax.legend()\n",
        "plt.show()"
      ],
      "metadata": {
        "colab": {
          "base_uri": "https://localhost:8080/",
          "height": 472
        },
        "id": "TpPozb_vwRMi",
        "outputId": "49d477c9-31b3-4477-d4b2-d672d6d7fb4b"
      },
      "execution_count": 68,
      "outputs": [
        {
          "output_type": "display_data",
          "data": {
            "text/plain": [
              "<Figure size 640x480 with 1 Axes>"
            ],
            "image/png": "[encoded data removed]"
          },
          "metadata": {}
        }
      ]
    },
    {
      "cell_type": "markdown",
      "source": [
        "- Tổng số người vay ở kỳ hạn 36 tháng nhiều hơn so với 60 tháng, gấp hơn 3 lần.\n",
        "\n",
        "- Tỉ lệ những người trả được nợ ở kỳ hạn 36 tháng nhiều hơn khách hàng ở kì hạn 60 tháng. Số người không trả được nợ ở kì hạn 60 tháng bằng 1 nửa so với số người trả được nợ."
      ],
      "metadata": {
        "id": "sXSOJRtMxDv5"
      }
    },
    {
      "cell_type": "code",
      "source": [
        "sns.boxplot(data=acc_df, x='term', y='loan_amnt', hue='term')\n",
        "plt.xlabel('Term')\n",
        "plt.ylabel('Loan Amount')\n",
        "plt.title('Boxplot of Loan Amount & Term')\n",
        "plt.show()"
      ],
      "metadata": {
        "colab": {
          "base_uri": "https://localhost:8080/",
          "height": 472
        },
        "id": "WEtDWhiBGj2L",
        "outputId": "92554b5d-05de-45e3-adc1-bb865f257ed1"
      },
      "execution_count": 80,
      "outputs": [
        {
          "output_type": "display_data",
          "data": {
            "text/plain": [
              "<Figure size 640x480 with 1 Axes>"
            ],
            "image/png": "[encoded data removed]"
          },
          "metadata": {}
        }
      ]
    },
    {
      "cell_type": "code",
      "source": [
        "acc_df.groupby('term')['loan_amnt'].mean()"
      ],
      "metadata": {
        "colab": {
          "base_uri": "https://localhost:8080/"
        },
        "id": "CoxtMEdOHoa1",
        "outputId": "ec55f695-9624-4374-a2e3-ccd5be2543f9"
      },
      "execution_count": 84,
      "outputs": [
        {
          "output_type": "execute_result",
          "data": {
            "text/plain": [
              "term\n",
              "36    12538.760067\n",
              "60    20299.197773\n",
              "Name: loan_amnt, dtype: float64"
            ]
          },
          "metadata": {},
          "execution_count": 84
        }
      ]
    },
    {
      "cell_type": "markdown",
      "source": [
        "- Khách hàng đều có thể vay từ 500-40000$ ở cả 2 loại kì hạn vay\n",
        "\n",
        "- Trung bình số tiền mà người vay ở kì hạn 36 tháng sẽ ít hơn so với kì hạn 60 tháng.\n",
        "- 50% khách hàng nhóm kì hạn 36 tháng vay ít hơn 10000$\n",
        "\n",
        "- 50% khách hàng nhóm kì hạn 60 tháng vay nhiều hơn 20000$\n"
      ],
      "metadata": {
        "id": "ecA6vqMRHoC0"
      }
    },
    {
      "cell_type": "markdown",
      "source": [
        "## int_rate, sub_grade"
      ],
      "metadata": {
        "id": "PQrT1loCKNNM"
      }
    },
    {
      "cell_type": "code",
      "source": [
        "acc_df.int_rate.describe()"
      ],
      "metadata": {
        "colab": {
          "base_uri": "https://localhost:8080/"
        },
        "id": "ztkQ7hNgK9V7",
        "outputId": "8165127d-2341-43fc-828a-9ad021c1d3af"
      },
      "execution_count": 86,
      "outputs": [
        {
          "output_type": "execute_result",
          "data": {
            "text/plain": [
              "count    1.348057e+06\n",
              "mean     1.324148e+01\n",
              "std      4.765622e+00\n",
              "min      5.310000e+00\n",
              "25%      9.750000e+00\n",
              "50%      1.274000e+01\n",
              "75%      1.599000e+01\n",
              "max      3.099000e+01\n",
              "Name: int_rate, dtype: float64"
            ]
          },
          "metadata": {},
          "execution_count": 86
        }
      ]
    },
    {
      "cell_type": "markdown",
      "source": [
        "- Lãi suất thấp nhất là: 5.31%/năm\n",
        "- Lãi suất cao nhất là: 30.99%/năm\n",
        "- Lãi suất trung bình là: 13.32% /năm"
      ],
      "metadata": {
        "id": "8OA2m8mBK8gz"
      }
    },
    {
      "cell_type": "code",
      "source": [
        "df_ir = acc_df.groupby('sub_grade')['int_rate'].mean().reset_index().sort_values('sub_grade')\n",
        "\n",
        "sns.barplot(data=df_ir,x='int_rate', y='sub_grade')\n",
        "lst_tick = []\n",
        "for i,label in enumerate(df_ir.sub_grade):\n",
        "    if i%5 == 0:\n",
        "        lst_tick.append(label)\n",
        "    else:\n",
        "        lst_tick.append('')\n",
        "plt.yticks(lst_tick)\n",
        "plt.xlabel('sub_grade')\n",
        "plt.ylabel('Mean int_rate')\n",
        "plt.title('Mean int_rate by sub_grade')\n",
        "plt.show()"
      ],
      "metadata": {
        "colab": {
          "base_uri": "https://localhost:8080/",
          "height": 472
        },
        "id": "dwFEePA0LghL",
        "outputId": "5dca10d0-ff39-4422-9331-5ee6aabe47a7"
      },
      "execution_count": 102,
      "outputs": [
        {
          "output_type": "display_data",
          "data": {
            "text/plain": [
              "<Figure size 640x480 with 1 Axes>"
            ],
            "image/png": "[encoded data removed]"
          },
          "metadata": {}
        }
      ]
    },
    {
      "cell_type": "markdown",
      "source": [
        "- Mỗi khách hàng được gán nhãn theo thứ tự chữ cái và đuôi số từ 1-5, nhãn gần tới A1 thì lãi suất càng thấp."
      ],
      "metadata": {
        "id": "4OCo5M06N__L"
      }
    },
    {
      "cell_type": "markdown",
      "source": [
        "# Xây dựng mô hình"
      ],
      "metadata": {
        "id": "PcgU9p7pnTTQ"
      }
    },
    {
      "cell_type": "code",
      "source": [
        "train_df = acc_df.copy()"
      ],
      "metadata": {
        "id": "pK_f3N7gRdv-"
      },
      "execution_count": null,
      "outputs": []
    },
    {
      "cell_type": "code",
      "source": [
        "train_df.select_dtypes('object').head()"
      ],
      "metadata": {
        "colab": {
          "base_uri": "https://localhost:8080/",
          "height": 206
        },
        "id": "KeBM6ft2RmTz",
        "outputId": "19e62535-d96e-4612-845a-ef0c8bc607bb"
      },
      "execution_count": null,
      "outputs": [
        {
          "output_type": "execute_result",
          "data": {
            "text/plain": [
              "  sub_grade home_ownership verification_status loan_status  \\\n",
              "0        C4       MORTGAGE        Not Verified  Fully Paid   \n",
              "1        C1       MORTGAGE        Not Verified  Fully Paid   \n",
              "2        B4       MORTGAGE        Not Verified  Fully Paid   \n",
              "3        F1       MORTGAGE     Source Verified  Fully Paid   \n",
              "4        C3           RENT     Source Verified  Fully Paid   \n",
              "\n",
              "              purpose addr_state initial_list_status application_type  \n",
              "0  debt_consolidation         PA                   w       Individual  \n",
              "1      small_business         SD                   w       Individual  \n",
              "2    home_improvement         IL                   w        Joint App  \n",
              "3      major_purchase         PA                   w       Individual  \n",
              "4  debt_consolidation         GA                   w       Individual  "
            ],
            "text/html": [
              "\n",
              "  <div id=\"df-a31c5712-9a8a-42f2-9d39-efd0d736c48d\" class=\"colab-df-container\">\n",
              "    <div>\n",
              "<style scoped>\n",
              "    .dataframe tbody tr th:only-of-type {\n",
              "        vertical-align: middle;\n",
              "    }\n",
              "\n",
              "    .dataframe tbody tr th {\n",
              "        vertical-align: top;\n",
              "    }\n",
              "\n",
              "    .dataframe thead th {\n",
              "        text-align: right;\n",
              "    }\n",
              "</style>\n",
              "<table border=\"1\" class=\"dataframe\">\n",
              "  <thead>\n",
              "    <tr style=\"text-align: right;\">\n",
              "      <th></th>\n",
              "      <th>sub_grade</th>\n",
              "      <th>home_ownership</th>\n",
              "      <th>verification_status</th>\n",
              "      <th>loan_status</th>\n",
              "      <th>purpose</th>\n",
              "      <th>addr_state</th>\n",
              "      <th>initial_list_status</th>\n",
              "      <th>application_type</th>\n",
              "    </tr>\n",
              "  </thead>\n",
              "  <tbody>\n",
              "    <tr>\n",
              "      <th>0</th>\n",
              "      <td>C4</td>\n",
              "      <td>MORTGAGE</td>\n",
              "      <td>Not Verified</td>\n",
              "      <td>Fully Paid</td>\n",
              "      <td>debt_consolidation</td>\n",
              "      <td>PA</td>\n",
              "      <td>w</td>\n",
              "      <td>Individual</td>\n",
              "    </tr>\n",
              "    <tr>\n",
              "      <th>1</th>\n",
              "      <td>C1</td>\n",
              "      <td>MORTGAGE</td>\n",
              "      <td>Not Verified</td>\n",
              "      <td>Fully Paid</td>\n",
              "      <td>small_business</td>\n",
              "      <td>SD</td>\n",
              "      <td>w</td>\n",
              "      <td>Individual</td>\n",
              "    </tr>\n",
              "    <tr>\n",
              "      <th>2</th>\n",
              "      <td>B4</td>\n",
              "      <td>MORTGAGE</td>\n",
              "      <td>Not Verified</td>\n",
              "      <td>Fully Paid</td>\n",
              "      <td>home_improvement</td>\n",
              "      <td>IL</td>\n",
              "      <td>w</td>\n",
              "      <td>Joint App</td>\n",
              "    </tr>\n",
              "    <tr>\n",
              "      <th>3</th>\n",
              "      <td>F1</td>\n",
              "      <td>MORTGAGE</td>\n",
              "      <td>Source Verified</td>\n",
              "      <td>Fully Paid</td>\n",
              "      <td>major_purchase</td>\n",
              "      <td>PA</td>\n",
              "      <td>w</td>\n",
              "      <td>Individual</td>\n",
              "    </tr>\n",
              "    <tr>\n",
              "      <th>4</th>\n",
              "      <td>C3</td>\n",
              "      <td>RENT</td>\n",
              "      <td>Source Verified</td>\n",
              "      <td>Fully Paid</td>\n",
              "      <td>debt_consolidation</td>\n",
              "      <td>GA</td>\n",
              "      <td>w</td>\n",
              "      <td>Individual</td>\n",
              "    </tr>\n",
              "  </tbody>\n",
              "</table>\n",
              "</div>\n",
              "    <div class=\"colab-df-buttons\">\n",
              "\n",
              "  <div class=\"colab-df-container\">\n",
              "    <button class=\"colab-df-convert\" onclick=\"convertToInteractive('df-a31c5712-9a8a-42f2-9d39-efd0d736c48d')\"\n",
              "            title=\"Convert this dataframe to an interactive table.\"\n",
              "            style=\"display:none;\">\n",
              "\n",
              "  <svg xmlns=\"http://www.w3.org/2000/svg\" height=\"24px\" viewBox=\"0 -960 960 960\">\n",
              "    <path d=\"M120-120v-720h720v720H120Zm60-500h600v-160H180v160Zm220 220h160v-160H400v160Zm0 220h160v-160H400v160ZM180-400h160v-160H180v160Zm440 0h160v-160H620v160ZM180-180h160v-160H180v160Zm440 0h160v-160H620v160Z\"/>\n",
              "  </svg>\n",
              "    </button>\n",
              "\n",
              "  <style>\n",
              "    .colab-df-container {\n",
              "      display:flex;\n",
              "      gap: 12px;\n",
              "    }\n",
              "\n",
              "    .colab-df-convert {\n",
              "      background-color: #E8F0FE;\n",
              "      border: none;\n",
              "      border-radius: 50%;\n",
              "      cursor: pointer;\n",
              "      display: none;\n",
              "      fill: #1967D2;\n",
              "      height: 32px;\n",
              "      padding: 0 0 0 0;\n",
              "      width: 32px;\n",
              "    }\n",
              "\n",
              "    .colab-df-convert:hover {\n",
              "      background-color: #E2EBFA;\n",
              "      box-shadow: 0px 1px 2px rgba(60, 64, 67, 0.3), 0px 1px 3px 1px rgba(60, 64, 67, 0.15);\n",
              "      fill: #174EA6;\n",
              "    }\n",
              "\n",
              "    .colab-df-buttons div {\n",
              "      margin-bottom: 4px;\n",
              "    }\n",
              "\n",
              "    [theme=dark] .colab-df-convert {\n",
              "      background-color: #3B4455;\n",
              "      fill: #D2E3FC;\n",
              "    }\n",
              "\n",
              "    [theme=dark] .colab-df-convert:hover {\n",
              "      background-color: #434B5C;\n",
              "      box-shadow: 0px 1px 3px 1px rgba(0, 0, 0, 0.15);\n",
              "      filter: drop-shadow(0px 1px 2px rgba(0, 0, 0, 0.3));\n",
              "      fill: #FFFFFF;\n",
              "    }\n",
              "  </style>\n",
              "\n",
              "    <script>\n",
              "      const buttonEl =\n",
              "        document.querySelector('#df-a31c5712-9a8a-42f2-9d39-efd0d736c48d button.colab-df-convert');\n",
              "      buttonEl.style.display =\n",
              "        google.colab.kernel.accessAllowed ? 'block' : 'none';\n",
              "\n",
              "      async function convertToInteractive(key) {\n",
              "        const element = document.querySelector('#df-a31c5712-9a8a-42f2-9d39-efd0d736c48d');\n",
              "        const dataTable =\n",
              "          await google.colab.kernel.invokeFunction('convertToInteractive',\n",
              "                                                    [key], {});\n",
              "        if (!dataTable) return;\n",
              "\n",
              "        const docLinkHtml = 'Like what you see? Visit the ' +\n",
              "          '<a target=\"_blank\" href=https://colab.research.google.com/notebooks/data_table.ipynb>data table notebook</a>'\n",
              "          + ' to learn more about interactive tables.';\n",
              "        element.innerHTML = '';\n",
              "        dataTable['output_type'] = 'display_data';\n",
              "        await google.colab.output.renderOutput(dataTable, element);\n",
              "        const docLink = document.createElement('div');\n",
              "        docLink.innerHTML = docLinkHtml;\n",
              "        element.appendChild(docLink);\n",
              "      }\n",
              "    </script>\n",
              "  </div>\n",
              "\n",
              "\n",
              "<div id=\"df-68dcd6cf-57f9-4270-ad8a-cef55bd0ed27\">\n",
              "  <button class=\"colab-df-quickchart\" onclick=\"quickchart('df-68dcd6cf-57f9-4270-ad8a-cef55bd0ed27')\"\n",
              "            title=\"Suggest charts\"\n",
              "            style=\"display:none;\">\n",
              "\n",
              "<svg xmlns=\"http://www.w3.org/2000/svg\" height=\"24px\"viewBox=\"0 0 24 24\"\n",
              "     width=\"24px\">\n",
              "    <g>\n",
              "        <path d=\"M19 3H5c-1.1 0-2 .9-2 2v14c0 1.1.9 2 2 2h14c1.1 0 2-.9 2-2V5c0-1.1-.9-2-2-2zM9 17H7v-7h2v7zm4 0h-2V7h2v10zm4 0h-2v-4h2v4z\"/>\n",
              "    </g>\n",
              "</svg>\n",
              "  </button>\n",
              "\n",
              "<style>\n",
              "  .colab-df-quickchart {\n",
              "      --bg-color: #E8F0FE;\n",
              "      --fill-color: #1967D2;\n",
              "      --hover-bg-color: #E2EBFA;\n",
              "      --hover-fill-color: #174EA6;\n",
              "      --disabled-fill-color: #AAA;\n",
              "      --disabled-bg-color: #DDD;\n",
              "  }\n",
              "\n",
              "  [theme=dark] .colab-df-quickchart {\n",
              "      --bg-color: #3B4455;\n",
              "      --fill-color: #D2E3FC;\n",
              "      --hover-bg-color: #434B5C;\n",
              "      --hover-fill-color: #FFFFFF;\n",
              "      --disabled-bg-color: #3B4455;\n",
              "      --disabled-fill-color: #666;\n",
              "  }\n",
              "\n",
              "  .colab-df-quickchart {\n",
              "    background-color: var(--bg-color);\n",
              "    border: none;\n",
              "    border-radius: 50%;\n",
              "    cursor: pointer;\n",
              "    display: none;\n",
              "    fill: var(--fill-color);\n",
              "    height: 32px;\n",
              "    padding: 0;\n",
              "    width: 32px;\n",
              "  }\n",
              "\n",
              "  .colab-df-quickchart:hover {\n",
              "    background-color: var(--hover-bg-color);\n",
              "    box-shadow: 0 1px 2px rgba(60, 64, 67, 0.3), 0 1px 3px 1px rgba(60, 64, 67, 0.15);\n",
              "    fill: var(--button-hover-fill-color);\n",
              "  }\n",
              "\n",
              "  .colab-df-quickchart-complete:disabled,\n",
              "  .colab-df-quickchart-complete:disabled:hover {\n",
              "    background-color: var(--disabled-bg-color);\n",
              "    fill: var(--disabled-fill-color);\n",
              "    box-shadow: none;\n",
              "  }\n",
              "\n",
              "  .colab-df-spinner {\n",
              "    border: 2px solid var(--fill-color);\n",
              "    border-color: transparent;\n",
              "    border-bottom-color: var(--fill-color);\n",
              "    animation:\n",
              "      spin 1s steps(1) infinite;\n",
              "  }\n",
              "\n",
              "  @keyframes spin {\n",
              "    0% {\n",
              "      border-color: transparent;\n",
              "      border-bottom-color: var(--fill-color);\n",
              "      border-left-color: var(--fill-color);\n",
              "    }\n",
              "    20% {\n",
              "      border-color: transparent;\n",
              "      border-left-color: var(--fill-color);\n",
              "      border-top-color: var(--fill-color);\n",
              "    }\n",
              "    30% {\n",
              "      border-color: transparent;\n",
              "      border-left-color: var(--fill-color);\n",
              "      border-top-color: var(--fill-color);\n",
              "      border-right-color: var(--fill-color);\n",
              "    }\n",
              "    40% {\n",
              "      border-color: transparent;\n",
              "      border-right-color: var(--fill-color);\n",
              "      border-top-color: var(--fill-color);\n",
              "    }\n",
              "    60% {\n",
              "      border-color: transparent;\n",
              "      border-right-color: var(--fill-color);\n",
              "    }\n",
              "    80% {\n",
              "      border-color: transparent;\n",
              "      border-right-color: var(--fill-color);\n",
              "      border-bottom-color: var(--fill-color);\n",
              "    }\n",
              "    90% {\n",
              "      border-color: transparent;\n",
              "      border-bottom-color: var(--fill-color);\n",
              "    }\n",
              "  }\n",
              "</style>\n",
              "\n",
              "  <script>\n",
              "    async function quickchart(key) {\n",
              "      const quickchartButtonEl =\n",
              "        document.querySelector('#' + key + ' button');\n",
              "      quickchartButtonEl.disabled = true;  // To prevent multiple clicks.\n",
              "      quickchartButtonEl.classList.add('colab-df-spinner');\n",
              "      try {\n",
              "        const charts = await google.colab.kernel.invokeFunction(\n",
              "            'suggestCharts', [key], {});\n",
              "      } catch (error) {\n",
              "        console.error('Error during call to suggestCharts:', error);\n",
              "      }\n",
              "      quickchartButtonEl.classList.remove('colab-df-spinner');\n",
              "      quickchartButtonEl.classList.add('colab-df-quickchart-complete');\n",
              "    }\n",
              "    (() => {\n",
              "      let quickchartButtonEl =\n",
              "        document.querySelector('#df-68dcd6cf-57f9-4270-ad8a-cef55bd0ed27 button');\n",
              "      quickchartButtonEl.style.display =\n",
              "        google.colab.kernel.accessAllowed ? 'block' : 'none';\n",
              "    })();\n",
              "  </script>\n",
              "</div>\n",
              "\n",
              "    </div>\n",
              "  </div>\n"
            ]
          },
          "metadata": {},
          "execution_count": 163
        }
      ]
    },
    {
      "cell_type": "code",
      "source": [
        "# Sắp xếp theo mức độ sở hữu nhà\n",
        "home_owner_dic = {\n",
        "            'NONE': 0,\n",
        "            'OTHER': 1,\n",
        "            'RENT': 2,\n",
        "            'MORTGAGE': 3,\n",
        "            'OWN': 4,\n",
        "            'ANY': 5, }\n",
        "# Sắp xếp và đánh cấp bậc từ A1 đến G5\n",
        "sub_grade_map = {v:i+1 for i,v in enumerate(sorted(train_df['sub_grade'].unique()))}\n",
        "# Gán nhãn\n",
        "loan_status_dic = {\"Fully Paid\" : 1,\n",
        "                   \"Charged Off\": 0 }\n",
        "initial_list_status_dic = {'w': 2,\n",
        "                       'f': 1}\n",
        "app_type = {'Individual':1,\n",
        "            'Joint App':2}"
      ],
      "metadata": {
        "id": "7j8icdNWfKYS"
      },
      "execution_count": null,
      "outputs": []
    },
    {
      "cell_type": "code",
      "source": [
        "from sklearn.preprocessing import LabelEncoder"
      ],
      "metadata": {
        "id": "tcg-lN9qVw0w"
      },
      "execution_count": null,
      "outputs": []
    },
    {
      "cell_type": "code",
      "source": [
        "# Loại bỏ purpose, id\n",
        "train_df.drop(columns=['purpose','id'],inplace=True)\n",
        "# Mã hoá\n",
        "train_df.home_ownership = train_df.home_ownership.map(home_owner_dic)\n",
        "train_df.sub_grade = train_df['sub_grade'].map(sub_grade_map)\n",
        "train_df.loan_status = train_df['loan_status'].map(loan_status_dic)\n",
        "train_df.initial_list_status = train_df.initial_list_status.map(initial_list_status_dic)\n",
        "train_df.application_type = train_df.application_type.map(app_type)\n",
        "train_df.verification_status = train_df.verification_status.map({'Source Verified':1,'Verified':1,\n",
        "                                                              'Not Verified':0})\n",
        "train_df = train_df.drop(columns=train_df.select_dtypes(include=['datetime']).columns)\n",
        "encoder = LabelEncoder()\n",
        "train_df['addr_state'] = encoder.fit_transform(train_df['addr_state'])"
      ],
      "metadata": {
        "id": "MOiZ_qGBiELo"
      },
      "execution_count": null,
      "outputs": []
    },
    {
      "cell_type": "code",
      "source": [
        "encoder.classes_"
      ],
      "metadata": {
        "colab": {
          "base_uri": "https://localhost:8080/"
        },
        "id": "D4HgleNIqJec",
        "outputId": "639ff63a-abf4-4812-94b1-6530b6391717"
      },
      "execution_count": null,
      "outputs": [
        {
          "output_type": "execute_result",
          "data": {
            "text/plain": [
              "array(['AK', 'AL', 'AR', 'AZ', 'CA', 'CO', 'CT', 'DC', 'DE', 'FL', 'GA',\n",
              "       'HI', 'IA', 'ID', 'IL', 'IN', 'KS', 'KY', 'LA', 'MA', 'MD', 'ME',\n",
              "       'MI', 'MN', 'MO', 'MS', 'MT', 'NC', 'ND', 'NE', 'NH', 'NJ', 'NM',\n",
              "       'NV', 'NY', 'OH', 'OK', 'OR', 'PA', 'RI', 'SC', 'SD', 'TN', 'TX',\n",
              "       'UT', 'VA', 'VT', 'WA', 'WI', 'WV', 'WY'], dtype=object)"
            ]
          },
          "metadata": {},
          "execution_count": 167
        }
      ]
    },
    {
      "cell_type": "code",
      "source": [
        "X = train_df.drop(columns=['loan_status'])\n",
        "y = train_df.loan_status\n",
        "cols_X = X.columns\n",
        "\n",
        "X_train, X_test, y_train, y_test = train_test_split(X, y, test_size=0.2, stratify=y)\n",
        "X_train.shape, y_test.shape"
      ],
      "metadata": {
        "colab": {
          "base_uri": "https://localhost:8080/"
        },
        "id": "E7yrIEIcQlCG",
        "outputId": "9d036c62-b1ee-4528-f6d2-0b96c03a41dd"
      },
      "execution_count": null,
      "outputs": [
        {
          "output_type": "execute_result",
          "data": {
            "text/plain": [
              "((1078445, 31), (269612,))"
            ]
          },
          "metadata": {},
          "execution_count": 168
        }
      ]
    },
    {
      "cell_type": "code",
      "source": [
        "# scaler = StandardScaler()\n",
        "# X_train = scaler.fit_transform(X_train)\n",
        "# X_test = scaler.transform(X_test)"
      ],
      "metadata": {
        "id": "0cwwTrW6LPdC"
      },
      "execution_count": null,
      "outputs": []
    },
    {
      "cell_type": "code",
      "source": [
        "cols_X"
      ],
      "metadata": {
        "colab": {
          "base_uri": "https://localhost:8080/"
        },
        "id": "g9MQ5atDjBdG",
        "outputId": "2c04a6d2-7171-49da-cc82-0af017f1690d"
      },
      "execution_count": null,
      "outputs": [
        {
          "output_type": "execute_result",
          "data": {
            "text/plain": [
              "Index(['loan_amnt', 'term', 'int_rate', 'sub_grade', 'emp_length',\n",
              "       'home_ownership', 'annual_inc', 'verification_status', 'addr_state',\n",
              "       'dti', 'fico_range_high', 'inq_last_6mths', 'initial_list_status',\n",
              "       'last_fico_range_low', 'application_type', 'acc_open_past_24mths',\n",
              "       'bc_open_to_buy', 'mo_sin_old_il_acct', 'mo_sin_old_rev_tl_op',\n",
              "       'mo_sin_rcnt_tl', 'mort_acc', 'mths_since_recent_bc',\n",
              "       'mths_since_recent_inq', 'num_accts_ever_120_pd', 'num_tl_120dpd_2m',\n",
              "       'num_tl_30dpd', 'num_tl_90g_dpd_24m', 'pct_tl_nvr_dlq',\n",
              "       'pub_rec_bankruptcies', 'tot_hi_cred_lim', 'total_bal_ex_mort'],\n",
              "      dtype='object')"
            ]
          },
          "metadata": {},
          "execution_count": 169
        }
      ]
    },
    {
      "cell_type": "markdown",
      "source": [
        "### Random Forest Classifier & chọn thuộc tính"
      ],
      "metadata": {
        "id": "RX4Qdr8GQVQi"
      }
    },
    {
      "cell_type": "code",
      "source": [
        "from sklearn.ensemble import RandomForestClassifier\n",
        "\n",
        "rf_model = RandomForestClassifier(n_estimators=50)\n",
        "rf_model.fit(X_train, y_train)"
      ],
      "metadata": {
        "colab": {
          "base_uri": "https://localhost:8080/",
          "height": 74
        },
        "id": "jWUpphLfOsP2",
        "outputId": "ae9a7f54-5e92-438b-832a-d6cc901b9b6d"
      },
      "execution_count": null,
      "outputs": [
        {
          "output_type": "execute_result",
          "data": {
            "text/plain": [
              "RandomForestClassifier(n_estimators=50)"
            ],
            "text/html": [
              "<style>#sk-container-id-2 {color: black;background-color: white;}#sk-container-id-2 pre{padding: 0;}#sk-container-id-2 div.sk-toggleable {background-color: white;}#sk-container-id-2 label.sk-toggleable__label {cursor: pointer;display: block;width: 100%;margin-bottom: 0;padding: 0.3em;box-sizing: border-box;text-align: center;}#sk-container-id-2 label.sk-toggleable__label-arrow:before {content: \"▸\";float: left;margin-right: 0.25em;color: #696969;}#sk-container-id-2 label.sk-toggleable__label-arrow:hover:before {color: black;}#sk-container-id-2 div.sk-estimator:hover label.sk-toggleable__label-arrow:before {color: black;}#sk-container-id-2 div.sk-toggleable__content {max-height: 0;max-width: 0;overflow: hidden;text-align: left;background-color: #f0f8ff;}#sk-container-id-2 div.sk-toggleable__content pre {margin: 0.2em;color: black;border-radius: 0.25em;background-color: #f0f8ff;}#sk-container-id-2 input.sk-toggleable__control:checked~div.sk-toggleable__content {max-height: 200px;max-width: 100%;overflow: auto;}#sk-container-id-2 input.sk-toggleable__control:checked~label.sk-toggleable__label-arrow:before {content: \"▾\";}#sk-container-id-2 div.sk-estimator input.sk-toggleable__control:checked~label.sk-toggleable__label {background-color: #d4ebff;}#sk-container-id-2 div.sk-label input.sk-toggleable__control:checked~label.sk-toggleable__label {background-color: #d4ebff;}#sk-container-id-2 input.sk-hidden--visually {border: 0;clip: rect(1px 1px 1px 1px);clip: rect(1px, 1px, 1px, 1px);height: 1px;margin: -1px;overflow: hidden;padding: 0;position: absolute;width: 1px;}#sk-container-id-2 div.sk-estimator {font-family: monospace;background-color: #f0f8ff;border: 1px dotted black;border-radius: 0.25em;box-sizing: border-box;margin-bottom: 0.5em;}#sk-container-id-2 div.sk-estimator:hover {background-color: #d4ebff;}#sk-container-id-2 div.sk-parallel-item::after {content: \"\";width: 100%;border-bottom: 1px solid gray;flex-grow: 1;}#sk-container-id-2 div.sk-label:hover label.sk-toggleable__label {background-color: #d4ebff;}#sk-container-id-2 div.sk-serial::before {content: \"\";position: absolute;border-left: 1px solid gray;box-sizing: border-box;top: 0;bottom: 0;left: 50%;z-index: 0;}#sk-container-id-2 div.sk-serial {display: flex;flex-direction: column;align-items: center;background-color: white;padding-right: 0.2em;padding-left: 0.2em;position: relative;}#sk-container-id-2 div.sk-item {position: relative;z-index: 1;}#sk-container-id-2 div.sk-parallel {display: flex;align-items: stretch;justify-content: center;background-color: white;position: relative;}#sk-container-id-2 div.sk-item::before, #sk-container-id-2 div.sk-parallel-item::before {content: \"\";position: absolute;border-left: 1px solid gray;box-sizing: border-box;top: 0;bottom: 0;left: 50%;z-index: -1;}#sk-container-id-2 div.sk-parallel-item {display: flex;flex-direction: column;z-index: 1;position: relative;background-color: white;}#sk-container-id-2 div.sk-parallel-item:first-child::after {align-self: flex-end;width: 50%;}#sk-container-id-2 div.sk-parallel-item:last-child::after {align-self: flex-start;width: 50%;}#sk-container-id-2 div.sk-parallel-item:only-child::after {width: 0;}#sk-container-id-2 div.sk-dashed-wrapped {border: 1px dashed gray;margin: 0 0.4em 0.5em 0.4em;box-sizing: border-box;padding-bottom: 0.4em;background-color: white;}#sk-container-id-2 div.sk-label label {font-family: monospace;font-weight: bold;display: inline-block;line-height: 1.2em;}#sk-container-id-2 div.sk-label-container {text-align: center;}#sk-container-id-2 div.sk-container {/* jupyter's `normalize.less` sets `[hidden] { display: none; }` but bootstrap.min.css set `[hidden] { display: none !important; }` so we also need the `!important` here to be able to override the default hidden behavior on the sphinx rendered scikit-learn.org. See: https://github.com/scikit-learn/scikit-learn/issues/21755 */display: inline-block !important;position: relative;}#sk-container-id-2 div.sk-text-repr-fallback {display: none;}</style><div id=\"sk-container-id-2\" class=\"sk-top-container\"><div class=\"sk-text-repr-fallback\"><pre>RandomForestClassifier(n_estimators=50)</pre><b>In a Jupyter environment, please rerun this cell to show the HTML representation or trust the notebook. <br />On GitHub, the HTML representation is unable to render, please try loading this page with nbviewer.org.</b></div><div class=\"sk-container\" hidden><div class=\"sk-item\"><div class=\"sk-estimator sk-toggleable\"><input class=\"sk-toggleable__control sk-hidden--visually\" id=\"sk-estimator-id-2\" type=\"checkbox\" checked><label for=\"sk-estimator-id-2\" class=\"sk-toggleable__label sk-toggleable__label-arrow\">RandomForestClassifier</label><div class=\"sk-toggleable__content\"><pre>RandomForestClassifier(n_estimators=50)</pre></div></div></div></div></div>"
            ]
          },
          "metadata": {},
          "execution_count": 170
        }
      ]
    },
    {
      "cell_type": "code",
      "source": [
        "y_pred = rf_model.predict(X_test)\n",
        "cm = confusion_matrix(y_test, y_pred)\n",
        "\n",
        "sns.heatmap(cm, annot=True, fmt=\"d\", cmap=\"Blues\", cbar=False,\n",
        "            xticklabels=['Predicted 0', 'Predicted 1'],\n",
        "            yticklabels=['Actual 0', 'Actual 1'])\n",
        "plt.xlabel('Predicted')\n",
        "plt.ylabel('Actual')\n",
        "plt.title('Confusion Matrix')\n",
        "plt.show()"
      ],
      "metadata": {
        "colab": {
          "base_uri": "https://localhost:8080/",
          "height": 472
        },
        "id": "UHx-QXMWOwAA",
        "outputId": "7d10b05f-9e47-4bfc-ddd7-547d3bc28341"
      },
      "execution_count": null,
      "outputs": [
        {
          "output_type": "display_data",
          "data": {
            "text/plain": [
              "<Figure size 640x480 with 1 Axes>"
            ],
            "image/png": "[encoded data removed]"
          },
          "metadata": {}
        }
      ]
    },
    {
      "cell_type": "code",
      "source": [
        "print(classification_report(y_test,y_pred))"
      ],
      "metadata": {
        "colab": {
          "base_uri": "https://localhost:8080/"
        },
        "id": "In-Xb5a0-ksa",
        "outputId": "2ee4bf0c-5fd8-4e3d-9966-595469274764"
      },
      "execution_count": null,
      "outputs": [
        {
          "output_type": "stream",
          "name": "stdout",
          "text": [
            "              precision    recall  f1-score   support\n",
            "\n",
            "           0       0.76      0.77      0.77     53864\n",
            "           1       0.94      0.94      0.94    215748\n",
            "\n",
            "    accuracy                           0.91    269612\n",
            "   macro avg       0.85      0.86      0.85    269612\n",
            "weighted avg       0.91      0.91      0.91    269612\n",
            "\n"
          ]
        }
      ]
    },
    {
      "cell_type": "code",
      "source": [
        "# Đánh giá trên tập test\n",
        "y_proba = rf_model.predict_proba(X_test)[:, 1]\n",
        "auc_score = roc_auc_score(y_test, y_proba)\n",
        "print(\"AUC Score:\", auc_score)"
      ],
      "metadata": {
        "colab": {
          "base_uri": "https://localhost:8080/"
        },
        "id": "LLzfnr-dBy-4",
        "outputId": "3fdc9655-5136-47c1-af3a-279c7f9342a3"
      },
      "execution_count": null,
      "outputs": [
        {
          "output_type": "stream",
          "name": "stdout",
          "text": [
            "AUC Score: 0.9452109139796002\n"
          ]
        }
      ]
    },
    {
      "cell_type": "markdown",
      "source": [
        "Recall nhãn 0 khá tốt trên tập test, đạt 0.77. Mô hình dự đoán khá chính xác nhóm người không trả được nợ\n",
        "\n",
        "Weighted F1-score = 0.91, AUC = 0.945.\n",
        "\n",
        "Mô hình đã có sự cân bằng độ chính xác giữa các lớp khả năng phân loại của mô hình tốt\n"
      ],
      "metadata": {
        "id": "W-HufDs7d9yr"
      }
    },
    {
      "cell_type": "markdown",
      "source": [
        "**Chọn 20 thuộc tính**"
      ],
      "metadata": {
        "id": "Rwl14hSWRtT5"
      }
    },
    {
      "cell_type": "code",
      "source": [
        "ntop = 20\n",
        "fi = rf_model.feature_importances_\n",
        "fi_df = pd.DataFrame({'Feature': cols_X[np.argsort(fi)[::-1][:ntop]],\n",
        "                      'Importance': sorted(fi)[::-1][:ntop]})\n",
        "\n",
        "fi_df['Feature']"
      ],
      "metadata": {
        "colab": {
          "base_uri": "https://localhost:8080/"
        },
        "id": "K6S7dJtRTqEk",
        "outputId": "12c35dd1-c158-464e-dfd3-eba57959e705"
      },
      "execution_count": null,
      "outputs": [
        {
          "output_type": "execute_result",
          "data": {
            "text/plain": [
              "0       last_fico_range_low\n",
              "1                  int_rate\n",
              "2                       dti\n",
              "3                 loan_amnt\n",
              "4            bc_open_to_buy\n",
              "5                 sub_grade\n",
              "6           tot_hi_cred_lim\n",
              "7      mo_sin_old_rev_tl_op\n",
              "8                annual_inc\n",
              "9         total_bal_ex_mort\n",
              "10       mo_sin_old_il_acct\n",
              "11     mths_since_recent_bc\n",
              "12               addr_state\n",
              "13          fico_range_high\n",
              "14    mths_since_recent_inq\n",
              "15           mo_sin_rcnt_tl\n",
              "16     acc_open_past_24mths\n",
              "17           pct_tl_nvr_dlq\n",
              "18                     term\n",
              "19               emp_length\n",
              "Name: Feature, dtype: object"
            ]
          },
          "metadata": {},
          "execution_count": 175
        }
      ]
    },
    {
      "cell_type": "code",
      "source": [
        "plt.figure(figsize=(10, 6))\n",
        "plt.barh(fi_df['Feature'], fi_df['Importance'])\n",
        "plt.xlabel('Importance')\n",
        "plt.ylabel('Feature')\n",
        "plt.title('Feature Importance')\n",
        "plt.show()"
      ],
      "metadata": {
        "colab": {
          "base_uri": "https://localhost:8080/",
          "height": 564
        },
        "id": "e2MXTDRtUwyA",
        "outputId": "8a04c9ab-0415-436f-828f-8abc84f614c3"
      },
      "execution_count": null,
      "outputs": [
        {
          "output_type": "display_data",
          "data": {
            "text/plain": [
              "<Figure size 1000x600 with 1 Axes>"
            ],
            "image/png": "[encoded data removed]"
          },
          "metadata": {}
        }
      ]
    },
    {
      "cell_type": "markdown",
      "source": [
        "- **last_fico_range_low:** Điểm FICO thấp nhất của khách hàng gần đây nhất\n",
        "- **int_rate:** Tỉ lệ lãi suất hàng năm cho khoản vay\n",
        "- **dti:** Tỷ lệ nợ/thu nhập của khách hàng\n",
        "- **loan_amnt:** Số tiền vay của khách hàng\n",
        "- **bc_open_to_buy:** Số tiền khả dụng để mua hàng cho tài khoản tín dụng mở.\n",
        "- **sub_grade:** Phân loại điểm tín dụng của mỗi khách hàng\n",
        "- **tot_hi_cred_lim:** Tổng giới hạn tín dụng của tất cả các tài khoản.\n",
        "- **mo_sin_old_rev_tl_op:** Số tháng kể từ lúc mở tài khoản tín dụng quay vòng.\n",
        "- **annual_inc:** Thu nhập hằng năm của khách hàng.\n",
        "- **total_bal_ex_mort:** Tổng số dư tài khoản tín dụng ngoại trừ tài khoản thế chấp.\n",
        "- **mo_sin_old_il_acct:** Số tháng kể từ lúc mở tài khoản tín dụng trả góp.\n",
        "- **mths_since_recent_bc:** Số tháng kể từ lúc khách hàng có tài khoản tín dụng quay vòng gần đây.\n",
        "- **addr_state:** Bang nơi khách hàng sống\n",
        "- **fico_range_high:** Điểm FICO cao nhất\n",
        "- **mths_since_recent_inq:** Số tháng kể từ lúc khách hàng có yêu cầu tín dụng gần đây.\n",
        "- **mo_sin_rcnt_tl:** Số tháng kể từ lúc mở tài khoản tín dụng gần đây.\n",
        "- **acc_open_past_24mths:** Số tài khoản được mở trong 24 tháng gần đây.\n",
        "- **pct_tl_nvr_dlq:** Tỷ lệ tài khoản không bao giờ quá hạn trên tổng số tài khoản khách hàng đang có.\n",
        "- **term:** Thời hạn cho vay (36 hoặc 60 tháng).\n",
        "- **emp_length:** Số năm làm việc hiện tại của khách hàng."
      ],
      "metadata": {
        "id": "9ddQMCElU2qE"
      }
    },
    {
      "cell_type": "markdown",
      "source": [
        "## Logistic Regression"
      ],
      "metadata": {
        "id": "-NX8T36uZna3"
      }
    },
    {
      "cell_type": "markdown",
      "source": [
        "Sau khi lựa chọn thuộc tính, thử với mô hình đơn giản, dễ giải thích.\n"
      ],
      "metadata": {
        "id": "CRa7Av0PCX0Q"
      }
    },
    {
      "cell_type": "code",
      "source": [
        "X_ = X[fi_df['Feature']]\n",
        "y = train_df.loan_status\n",
        "\n",
        "X_train, X_test, y_train, y_test = train_test_split(X_, y, test_size=0.2, stratify=y)\n",
        "X_train.shape, y_test.shape\n",
        "\n",
        "# Logistic có thể không cần chuẩn hoá"
      ],
      "metadata": {
        "colab": {
          "base_uri": "https://localhost:8080/"
        },
        "id": "_gn13kFxWjA_",
        "outputId": "9832714e-5c52-4b09-f10a-b6d708c9bf4a"
      },
      "execution_count": null,
      "outputs": [
        {
          "output_type": "execute_result",
          "data": {
            "text/plain": [
              "((1078445, 20), (269612,))"
            ]
          },
          "metadata": {},
          "execution_count": 178
        }
      ]
    },
    {
      "cell_type": "code",
      "source": [
        "lr = LogisticRegression(max_iter=10000, class_weight ='balanced')\n",
        "lr.fit(X_train,y_train)"
      ],
      "metadata": {
        "colab": {
          "base_uri": "https://localhost:8080/",
          "height": 74
        },
        "id": "52JVQohBWVgV",
        "outputId": "4c61e384-5ab1-468d-efc4-4aed3b8d2a2f"
      },
      "execution_count": null,
      "outputs": [
        {
          "output_type": "execute_result",
          "data": {
            "text/plain": [
              "LogisticRegression(max_iter=10000)"
            ],
            "text/html": [
              "<style>#sk-container-id-3 {color: black;background-color: white;}#sk-container-id-3 pre{padding: 0;}#sk-container-id-3 div.sk-toggleable {background-color: white;}#sk-container-id-3 label.sk-toggleable__label {cursor: pointer;display: block;width: 100%;margin-bottom: 0;padding: 0.3em;box-sizing: border-box;text-align: center;}#sk-container-id-3 label.sk-toggleable__label-arrow:before {content: \"▸\";float: left;margin-right: 0.25em;color: #696969;}#sk-container-id-3 label.sk-toggleable__label-arrow:hover:before {color: black;}#sk-container-id-3 div.sk-estimator:hover label.sk-toggleable__label-arrow:before {color: black;}#sk-container-id-3 div.sk-toggleable__content {max-height: 0;max-width: 0;overflow: hidden;text-align: left;background-color: #f0f8ff;}#sk-container-id-3 div.sk-toggleable__content pre {margin: 0.2em;color: black;border-radius: 0.25em;background-color: #f0f8ff;}#sk-container-id-3 input.sk-toggleable__control:checked~div.sk-toggleable__content {max-height: 200px;max-width: 100%;overflow: auto;}#sk-container-id-3 input.sk-toggleable__control:checked~label.sk-toggleable__label-arrow:before {content: \"▾\";}#sk-container-id-3 div.sk-estimator input.sk-toggleable__control:checked~label.sk-toggleable__label {background-color: #d4ebff;}#sk-container-id-3 div.sk-label input.sk-toggleable__control:checked~label.sk-toggleable__label {background-color: #d4ebff;}#sk-container-id-3 input.sk-hidden--visually {border: 0;clip: rect(1px 1px 1px 1px);clip: rect(1px, 1px, 1px, 1px);height: 1px;margin: -1px;overflow: hidden;padding: 0;position: absolute;width: 1px;}#sk-container-id-3 div.sk-estimator {font-family: monospace;background-color: #f0f8ff;border: 1px dotted black;border-radius: 0.25em;box-sizing: border-box;margin-bottom: 0.5em;}#sk-container-id-3 div.sk-estimator:hover {background-color: #d4ebff;}#sk-container-id-3 div.sk-parallel-item::after {content: \"\";width: 100%;border-bottom: 1px solid gray;flex-grow: 1;}#sk-container-id-3 div.sk-label:hover label.sk-toggleable__label {background-color: #d4ebff;}#sk-container-id-3 div.sk-serial::before {content: \"\";position: absolute;border-left: 1px solid gray;box-sizing: border-box;top: 0;bottom: 0;left: 50%;z-index: 0;}#sk-container-id-3 div.sk-serial {display: flex;flex-direction: column;align-items: center;background-color: white;padding-right: 0.2em;padding-left: 0.2em;position: relative;}#sk-container-id-3 div.sk-item {position: relative;z-index: 1;}#sk-container-id-3 div.sk-parallel {display: flex;align-items: stretch;justify-content: center;background-color: white;position: relative;}#sk-container-id-3 div.sk-item::before, #sk-container-id-3 div.sk-parallel-item::before {content: \"\";position: absolute;border-left: 1px solid gray;box-sizing: border-box;top: 0;bottom: 0;left: 50%;z-index: -1;}#sk-container-id-3 div.sk-parallel-item {display: flex;flex-direction: column;z-index: 1;position: relative;background-color: white;}#sk-container-id-3 div.sk-parallel-item:first-child::after {align-self: flex-end;width: 50%;}#sk-container-id-3 div.sk-parallel-item:last-child::after {align-self: flex-start;width: 50%;}#sk-container-id-3 div.sk-parallel-item:only-child::after {width: 0;}#sk-container-id-3 div.sk-dashed-wrapped {border: 1px dashed gray;margin: 0 0.4em 0.5em 0.4em;box-sizing: border-box;padding-bottom: 0.4em;background-color: white;}#sk-container-id-3 div.sk-label label {font-family: monospace;font-weight: bold;display: inline-block;line-height: 1.2em;}#sk-container-id-3 div.sk-label-container {text-align: center;}#sk-container-id-3 div.sk-container {/* jupyter's `normalize.less` sets `[hidden] { display: none; }` but bootstrap.min.css set `[hidden] { display: none !important; }` so we also need the `!important` here to be able to override the default hidden behavior on the sphinx rendered scikit-learn.org. See: https://github.com/scikit-learn/scikit-learn/issues/21755 */display: inline-block !important;position: relative;}#sk-container-id-3 div.sk-text-repr-fallback {display: none;}</style><div id=\"sk-container-id-3\" class=\"sk-top-container\"><div class=\"sk-text-repr-fallback\"><pre>LogisticRegression(max_iter=10000)</pre><b>In a Jupyter environment, please rerun this cell to show the HTML representation or trust the notebook. <br />On GitHub, the HTML representation is unable to render, please try loading this page with nbviewer.org.</b></div><div class=\"sk-container\" hidden><div class=\"sk-item\"><div class=\"sk-estimator sk-toggleable\"><input class=\"sk-toggleable__control sk-hidden--visually\" id=\"sk-estimator-id-3\" type=\"checkbox\" checked><label for=\"sk-estimator-id-3\" class=\"sk-toggleable__label sk-toggleable__label-arrow\">LogisticRegression</label><div class=\"sk-toggleable__content\"><pre>LogisticRegression(max_iter=10000)</pre></div></div></div></div></div>"
            ]
          },
          "metadata": {},
          "execution_count": 179
        }
      ]
    },
    {
      "cell_type": "markdown",
      "source": [
        "Chọn ngưỡng phù hợp để cân bằng giữa recall và precision"
      ],
      "metadata": {
        "id": "ETSNnMhhCgwn"
      }
    },
    {
      "cell_type": "code",
      "source": [
        "pred_y = lr.predict(X_train)\n",
        "probs_y= lr.predict_proba(X_train)\n",
        "precision, recall, thresholds = precision_recall_curve(y_train, probs_y[:, 1])\n",
        "pr_auc = auc(recall, precision)\n",
        "\n",
        "plt.title(\"Precision-Recall\")\n",
        "plt.plot(thresholds, precision[: -1], \"b--\", label=\"Precision\")\n",
        "plt.plot(thresholds, recall[: -1], \"r--\", label=\"Recall\")\n",
        "plt.ylabel(\"Precision, Recall\")\n",
        "plt.xlabel(\"Threshold\")\n",
        "plt.legend(loc=\"lower left\")\n",
        "plt.ylim([0,1])"
      ],
      "metadata": {
        "colab": {
          "base_uri": "https://localhost:8080/",
          "height": 489
        },
        "id": "gdlMtDIZYGa9",
        "outputId": "373e1c65-f2ca-41b9-9df9-624d01567ee2"
      },
      "execution_count": null,
      "outputs": [
        {
          "output_type": "execute_result",
          "data": {
            "text/plain": [
              "(0.0, 1.0)"
            ]
          },
          "metadata": {},
          "execution_count": 180
        },
        {
          "output_type": "display_data",
          "data": {
            "text/plain": [
              "<Figure size 640x480 with 1 Axes>"
            ],
            "image/png": "[encoded data removed]"
          },
          "metadata": {}
        }
      ]
    },
    {
      "cell_type": "code",
      "source": [
        "threshold = round(thresholds[np.argmax(precision[:-1] + recall[:-1])],1)\n",
        "print(\"Threshold phù hợp:\", threshold)"
      ],
      "metadata": {
        "colab": {
          "base_uri": "https://localhost:8080/"
        },
        "id": "6Vc7Jh3lDExG",
        "outputId": "c99aee19-d53e-40a8-862a-9c6bb89d8c76"
      },
      "execution_count": null,
      "outputs": [
        {
          "output_type": "stream",
          "name": "stdout",
          "text": [
            "Threshold phù hợp: 0.6\n"
          ]
        }
      ]
    },
    {
      "cell_type": "markdown",
      "source": [
        "Đánh giá trên tập test"
      ],
      "metadata": {
        "id": "xrN0NLEfDeII"
      }
    },
    {
      "cell_type": "code",
      "source": [
        "y_pred =  (lr.predict_proba(X_test)[:, 1] >= threshold).astype(int)\n",
        "cm = confusion_matrix(y_test,y_pred)\n",
        "sns.heatmap(cm, annot=True, fmt=\"d\", cmap=\"Blues\", cbar=False,\n",
        "            xticklabels=['Predicted 0', 'Predicted 1'],\n",
        "            yticklabels=['Actual 0', 'Actual 1'])\n",
        "plt.xlabel('Predicted')\n",
        "plt.ylabel('Actual')\n",
        "plt.title('Confusion Matrix')\n",
        "plt.show()"
      ],
      "metadata": {
        "colab": {
          "base_uri": "https://localhost:8080/",
          "height": 472
        },
        "id": "XeOwmST0YEU1",
        "outputId": "bf534c22-5219-4efb-dd6f-39fe1ed1e1db"
      },
      "execution_count": null,
      "outputs": [
        {
          "output_type": "display_data",
          "data": {
            "text/plain": [
              "<Figure size 640x480 with 1 Axes>"
            ],
            "image/png": "[encoded data removed]"
          },
          "metadata": {}
        }
      ]
    },
    {
      "cell_type": "code",
      "source": [
        "y_prob = lr.predict_proba(X_test)[:, 1]\n",
        "y_pred_threshold = (y_prob >= threshold).astype(int)\n",
        "\n",
        "fpr, tpr, _ = roc_curve(y_test, y_prob)\n",
        "roc_auc_lr = auc(fpr, tpr)\n",
        "\n",
        "plt.figure(figsize=(6, 6))\n",
        "plt.plot(fpr, tpr, label=f'ROC curve (AUC = {roc_auc_lr:.2f})')\n",
        "plt.plot([0, 1], [0, 1], linestyle='--')\n",
        "plt.legend()\n",
        "plt.show()"
      ],
      "metadata": {
        "colab": {
          "base_uri": "https://localhost:8080/",
          "height": 522
        },
        "id": "tTNutobLXSx9",
        "outputId": "631675e2-3c6a-40be-ad6a-232be232030e"
      },
      "execution_count": null,
      "outputs": [
        {
          "output_type": "display_data",
          "data": {
            "text/plain": [
              "<Figure size 600x600 with 1 Axes>"
            ],
            "image/png": "[encoded data removed]"
          },
          "metadata": {}
        }
      ]
    },
    {
      "cell_type": "code",
      "source": [
        "print(classification_report(y_test,y_pred_threshold))"
      ],
      "metadata": {
        "colab": {
          "base_uri": "https://localhost:8080/"
        },
        "id": "Zn35w0vTDlGm",
        "outputId": "4b3e00cb-95e9-4744-c34f-73c92440639d"
      },
      "execution_count": null,
      "outputs": [
        {
          "output_type": "stream",
          "name": "stdout",
          "text": [
            "              precision    recall  f1-score   support\n",
            "\n",
            "           0       0.76      0.74      0.75     53864\n",
            "           1       0.94      0.94      0.94    215748\n",
            "\n",
            "    accuracy                           0.90    269612\n",
            "   macro avg       0.85      0.84      0.84    269612\n",
            "weighted avg       0.90      0.90      0.90    269612\n",
            "\n"
          ]
        }
      ]
    },
    {
      "cell_type": "markdown",
      "source": [
        "Mô hình vẫn dự đoán tốt.\n",
        "- F1-score = 0.9\n",
        "- AUC = 0.94"
      ],
      "metadata": {
        "id": "pvP5qIxuDvgG"
      }
    },
    {
      "cell_type": "markdown",
      "source": [
        "## Decision Tree"
      ],
      "metadata": {
        "id": "6clPnE2iY9Mn"
      }
    },
    {
      "cell_type": "code",
      "source": [
        "y.value_counts()"
      ],
      "metadata": {
        "colab": {
          "base_uri": "https://localhost:8080/"
        },
        "id": "23CpOHSzEX9W",
        "outputId": "c672b8cc-584d-4dfd-f27a-d17cd46e6e72"
      },
      "execution_count": null,
      "outputs": [
        {
          "output_type": "execute_result",
          "data": {
            "text/plain": [
              "1    1078737\n",
              "0     269320\n",
              "Name: loan_status, dtype: int64"
            ]
          },
          "metadata": {},
          "execution_count": 188
        }
      ]
    },
    {
      "cell_type": "code",
      "source": [
        "dt = DecisionTreeClassifier(class_weight='balanced')\n",
        "dt.fit(X_train, y_train)"
      ],
      "metadata": {
        "id": "jmWPyouy2KEd",
        "colab": {
          "base_uri": "https://localhost:8080/",
          "height": 74
        },
        "outputId": "54132d79-b0b8-4771-db1e-449264736e9f"
      },
      "execution_count": null,
      "outputs": [
        {
          "output_type": "execute_result",
          "data": {
            "text/plain": [
              "DecisionTreeClassifier(class_weight='balanced')"
            ],
            "text/html": [
              "<style>#sk-container-id-4 {color: black;background-color: white;}#sk-container-id-4 pre{padding: 0;}#sk-container-id-4 div.sk-toggleable {background-color: white;}#sk-container-id-4 label.sk-toggleable__label {cursor: pointer;display: block;width: 100%;margin-bottom: 0;padding: 0.3em;box-sizing: border-box;text-align: center;}#sk-container-id-4 label.sk-toggleable__label-arrow:before {content: \"▸\";float: left;margin-right: 0.25em;color: #696969;}#sk-container-id-4 label.sk-toggleable__label-arrow:hover:before {color: black;}#sk-container-id-4 div.sk-estimator:hover label.sk-toggleable__label-arrow:before {color: black;}#sk-container-id-4 div.sk-toggleable__content {max-height: 0;max-width: 0;overflow: hidden;text-align: left;background-color: #f0f8ff;}#sk-container-id-4 div.sk-toggleable__content pre {margin: 0.2em;color: black;border-radius: 0.25em;background-color: #f0f8ff;}#sk-container-id-4 input.sk-toggleable__control:checked~div.sk-toggleable__content {max-height: 200px;max-width: 100%;overflow: auto;}#sk-container-id-4 input.sk-toggleable__control:checked~label.sk-toggleable__label-arrow:before {content: \"▾\";}#sk-container-id-4 div.sk-estimator input.sk-toggleable__control:checked~label.sk-toggleable__label {background-color: #d4ebff;}#sk-container-id-4 div.sk-label input.sk-toggleable__control:checked~label.sk-toggleable__label {background-color: #d4ebff;}#sk-container-id-4 input.sk-hidden--visually {border: 0;clip: rect(1px 1px 1px 1px);clip: rect(1px, 1px, 1px, 1px);height: 1px;margin: -1px;overflow: hidden;padding: 0;position: absolute;width: 1px;}#sk-container-id-4 div.sk-estimator {font-family: monospace;background-color: #f0f8ff;border: 1px dotted black;border-radius: 0.25em;box-sizing: border-box;margin-bottom: 0.5em;}#sk-container-id-4 div.sk-estimator:hover {background-color: #d4ebff;}#sk-container-id-4 div.sk-parallel-item::after {content: \"\";width: 100%;border-bottom: 1px solid gray;flex-grow: 1;}#sk-container-id-4 div.sk-label:hover label.sk-toggleable__label {background-color: #d4ebff;}#sk-container-id-4 div.sk-serial::before {content: \"\";position: absolute;border-left: 1px solid gray;box-sizing: border-box;top: 0;bottom: 0;left: 50%;z-index: 0;}#sk-container-id-4 div.sk-serial {display: flex;flex-direction: column;align-items: center;background-color: white;padding-right: 0.2em;padding-left: 0.2em;position: relative;}#sk-container-id-4 div.sk-item {position: relative;z-index: 1;}#sk-container-id-4 div.sk-parallel {display: flex;align-items: stretch;justify-content: center;background-color: white;position: relative;}#sk-container-id-4 div.sk-item::before, #sk-container-id-4 div.sk-parallel-item::before {content: \"\";position: absolute;border-left: 1px solid gray;box-sizing: border-box;top: 0;bottom: 0;left: 50%;z-index: -1;}#sk-container-id-4 div.sk-parallel-item {display: flex;flex-direction: column;z-index: 1;position: relative;background-color: white;}#sk-container-id-4 div.sk-parallel-item:first-child::after {align-self: flex-end;width: 50%;}#sk-container-id-4 div.sk-parallel-item:last-child::after {align-self: flex-start;width: 50%;}#sk-container-id-4 div.sk-parallel-item:only-child::after {width: 0;}#sk-container-id-4 div.sk-dashed-wrapped {border: 1px dashed gray;margin: 0 0.4em 0.5em 0.4em;box-sizing: border-box;padding-bottom: 0.4em;background-color: white;}#sk-container-id-4 div.sk-label label {font-family: monospace;font-weight: bold;display: inline-block;line-height: 1.2em;}#sk-container-id-4 div.sk-label-container {text-align: center;}#sk-container-id-4 div.sk-container {/* jupyter's `normalize.less` sets `[hidden] { display: none; }` but bootstrap.min.css set `[hidden] { display: none !important; }` so we also need the `!important` here to be able to override the default hidden behavior on the sphinx rendered scikit-learn.org. See: https://github.com/scikit-learn/scikit-learn/issues/21755 */display: inline-block !important;position: relative;}#sk-container-id-4 div.sk-text-repr-fallback {display: none;}</style><div id=\"sk-container-id-4\" class=\"sk-top-container\"><div class=\"sk-text-repr-fallback\"><pre>DecisionTreeClassifier(class_weight=&#x27;balanced&#x27;)</pre><b>In a Jupyter environment, please rerun this cell to show the HTML representation or trust the notebook. <br />On GitHub, the HTML representation is unable to render, please try loading this page with nbviewer.org.</b></div><div class=\"sk-container\" hidden><div class=\"sk-item\"><div class=\"sk-estimator sk-toggleable\"><input class=\"sk-toggleable__control sk-hidden--visually\" id=\"sk-estimator-id-4\" type=\"checkbox\" checked><label for=\"sk-estimator-id-4\" class=\"sk-toggleable__label sk-toggleable__label-arrow\">DecisionTreeClassifier</label><div class=\"sk-toggleable__content\"><pre>DecisionTreeClassifier(class_weight=&#x27;balanced&#x27;)</pre></div></div></div></div></div>"
            ]
          },
          "metadata": {},
          "execution_count": 189
        }
      ]
    },
    {
      "cell_type": "code",
      "source": [
        "y_prob = dt.predict_proba(X_test)[:, 1]\n",
        "auc_score = roc_auc_score(y_test, y_prob)\n",
        "print(\"AUC Score:\", auc_score)\n",
        "y_pred = dt.predict(X_test)\n",
        "print(confusion_matrix(y_test, y_pred))\n",
        "print(classification_report(y_test, y_pred))"
      ],
      "metadata": {
        "colab": {
          "base_uri": "https://localhost:8080/"
        },
        "id": "BILtVVuKaWfH",
        "outputId": "52bee786-1c4a-493f-a9d0-427d9ee37749"
      },
      "execution_count": null,
      "outputs": [
        {
          "output_type": "stream",
          "name": "stdout",
          "text": [
            "AUC Score: 0.777528646250744\n",
            "[[ 34403  19461]\n",
            " [ 18046 197702]]\n",
            "              precision    recall  f1-score   support\n",
            "\n",
            "           0       0.66      0.64      0.65     53864\n",
            "           1       0.91      0.92      0.91    215748\n",
            "\n",
            "    accuracy                           0.86    269612\n",
            "   macro avg       0.78      0.78      0.78    269612\n",
            "weighted avg       0.86      0.86      0.86    269612\n",
            "\n"
          ]
        }
      ]
    },
    {
      "cell_type": "markdown",
      "source": [
        "AUC, F1-score thấp hơn so với LogisticRegression"
      ],
      "metadata": {
        "id": "kaz0JxemE3Dx"
      }
    },
    {
      "cell_type": "markdown",
      "source": [
        "## Đánh giá mô hình\n",
        "Dựa trên AUC, F1-Score\n"
      ],
      "metadata": {
        "id": "tePyrfezhnHS"
      }
    },
    {
      "cell_type": "code",
      "source": [
        "auc = [ 0.945,\n",
        "        0.94,\n",
        "        0.78,]\n",
        "f1 = [0.91,\n",
        "      0.9,\n",
        "      0.86]\n",
        "training_time = [213, 82, 43]\n",
        "\n",
        "name_md = ['RandomForest', 'Logistic Regression', 'Decision Tree']\n",
        "data = {'Training Time': training_time, 'AUC': auc, 'F1_Score':f1, 'Model': name_md}\n",
        "evaluate_df = pd.DataFrame(data)\n",
        "\n",
        "plt.figure(figsize=(6, 4))\n",
        "sns.scatterplot(data=evaluate_df, x='Training Time', y='AUC', hue='Model', s=200, palette='Set1', edgecolor='black')\n",
        "\n",
        "plt.legend()\n",
        "plt.xlabel(\"Trainning Time\")\n",
        "plt.ylabel(\"AUC\")\n",
        "plt.show()"
      ],
      "metadata": {
        "colab": {
          "base_uri": "https://localhost:8080/",
          "height": 388
        },
        "id": "vxMn-PeVR8Hv",
        "outputId": "3cebbe26-da7a-4d85-f6c3-51c95bcb03df"
      },
      "execution_count": 112,
      "outputs": [
        {
          "output_type": "display_data",
          "data": {
            "text/plain": [
              "<Figure size 600x400 with 1 Axes>"
            ],
            "image/png": "[encoded data removed]"
          },
          "metadata": {}
        }
      ]
    },
    {
      "cell_type": "markdown",
      "source": [
        "F1-Score của cả 3 đều khá tốt, không chênh lệch quá nhiều.\n",
        "\n",
        "Sử dụng RandomForest, Decision Tree sẽ khó giải thích và triển khai mô hình.\n",
        "\n",
        "Có thể thấy RandomForest chạy mất khá nhiều thời gian, dù có AUC tốt.\n",
        "\n",
        "Decision Tree tuy chạy nhanh nhất nhưng AUC không bằng LogisticRegression.\n",
        "\n",
        "=> Vậy sử dụng Logistic Regression để dự đoán.\n",
        "\n",
        "Lưu ý, vẫn cần mô hình chấm điểm của LendingClub hiện tại. Chỉ sử dụng mô hình này lần nữa để kiểm tra trong tập khách hàng được chấp nhận cho vay xem ai là người có khả năng không trả được nợ. (Dự đoán 2 lần với 2 mô hình khác nhau, mô hình này là thứ 2)\n"
      ],
      "metadata": {
        "id": "sdpKBLdangW_"
      }
    },
    {
      "cell_type": "markdown",
      "source": [
        "# Áp dụng"
      ],
      "metadata": {
        "id": "sO-2bbtzqdHt"
      }
    },
    {
      "cell_type": "code",
      "source": [
        "lr.coef_"
      ],
      "metadata": {
        "colab": {
          "base_uri": "https://localhost:8080/"
        },
        "id": "qtKf8JEdmQTP",
        "outputId": "a5b065e2-18d3-47d8-cc07-65fafcbe5441"
      },
      "execution_count": null,
      "outputs": [
        {
          "output_type": "execute_result",
          "data": {
            "text/plain": [
              "array([[ 2.36298477e-02, -1.48699031e-02, -1.39580567e-02,\n",
              "        -2.54374986e-05,  6.08419929e-06, -2.01347218e-02,\n",
              "         9.25346540e-07, -1.38987682e-03,  8.53835220e-07,\n",
              "        -9.33066986e-07, -3.14079520e-04,  3.76109809e-03,\n",
              "        -1.36650209e-03, -1.50900592e-02,  2.53181441e-03,\n",
              "         3.94263318e-03, -5.28442106e-03, -8.11544219e-03,\n",
              "        -2.89898478e-02, -1.20048048e-03]])"
            ]
          },
          "metadata": {},
          "execution_count": 197
        }
      ]
    },
    {
      "cell_type": "code",
      "source": [
        "lr.intercept_"
      ],
      "metadata": {
        "colab": {
          "base_uri": "https://localhost:8080/"
        },
        "id": "2n_2vOhLob4N",
        "outputId": "d904ef21-8a88-449e-efaa-dce6071b0d99"
      },
      "execution_count": null,
      "outputs": [
        {
          "output_type": "execute_result",
          "data": {
            "text/plain": [
              "array([-0.00014958])"
            ]
          },
          "metadata": {},
          "execution_count": 198
        }
      ]
    },
    {
      "cell_type": "code",
      "source": [
        "X[fi_df['Feature']].columns"
      ],
      "metadata": {
        "colab": {
          "base_uri": "https://localhost:8080/"
        },
        "id": "EGVMqMM-odty",
        "outputId": "dc3b3ed8-9431-4c92-805a-f5b6707ade00"
      },
      "execution_count": null,
      "outputs": [
        {
          "output_type": "execute_result",
          "data": {
            "text/plain": [
              "Index(['last_fico_range_low', 'int_rate', 'dti', 'loan_amnt', 'bc_open_to_buy',\n",
              "       'sub_grade', 'tot_hi_cred_lim', 'mo_sin_old_rev_tl_op', 'annual_inc',\n",
              "       'total_bal_ex_mort', 'mo_sin_old_il_acct', 'mths_since_recent_bc',\n",
              "       'addr_state', 'fico_range_high', 'mths_since_recent_inq',\n",
              "       'mo_sin_rcnt_tl', 'acc_open_past_24mths', 'pct_tl_nvr_dlq', 'term',\n",
              "       'emp_length'],\n",
              "      dtype='object')"
            ]
          },
          "metadata": {},
          "execution_count": 199
        }
      ]
    },
    {
      "cell_type": "code",
      "source": [
        "coef = [ 2.36298477e-02, -1.48699031e-02, -1.39580567e-02,\n",
        "        -2.54374986e-05,  6.08419929e-06, -2.01347218e-02,\n",
        "         9.25346540e-07, -1.38987682e-03,  8.53835220e-07,\n",
        "        -9.33066986e-07, -3.14079520e-04,  3.76109809e-03,\n",
        "        -1.36650209e-03, -1.50900592e-02,  2.53181441e-03,\n",
        "         3.94263318e-03, -5.28442106e-03, -8.11544219e-03,\n",
        "        -2.89898478e-02, -1.20048048e-03]\n",
        "cols = ['last_fico_range_low', 'int_rate', 'dti', 'loan_amnt', 'bc_open_to_buy',\n",
        "       'sub_grade', 'tot_hi_cred_lim', 'mo_sin_old_rev_tl_op', 'annual_inc',\n",
        "       'total_bal_ex_mort', 'mo_sin_old_il_acct', 'mths_since_recent_bc',\n",
        "       'addr_state', 'fico_range_high', 'mths_since_recent_inq',\n",
        "       'mo_sin_rcnt_tl', 'acc_open_past_24mths', 'pct_tl_nvr_dlq', 'term',\n",
        "       'emp_length']\n",
        "intercept = -0.00014958"
      ],
      "metadata": {
        "id": "sYHWtMAhNNCz"
      },
      "execution_count": null,
      "outputs": []
    },
    {
      "cell_type": "code",
      "source": [
        "encoder.classes_"
      ],
      "metadata": {
        "colab": {
          "base_uri": "https://localhost:8080/"
        },
        "id": "CLd3roR0Kj50",
        "outputId": "7ac5934e-8c34-4d1d-84f0-882cb4338aae"
      },
      "execution_count": null,
      "outputs": [
        {
          "output_type": "execute_result",
          "data": {
            "text/plain": [
              "array(['AK', 'AL', 'AR', 'AZ', 'CA', 'CO', 'CT', 'DC', 'DE', 'FL', 'GA',\n",
              "       'HI', 'IA', 'ID', 'IL', 'IN', 'KS', 'KY', 'LA', 'MA', 'MD', 'ME',\n",
              "       'MI', 'MN', 'MO', 'MS', 'MT', 'NC', 'ND', 'NE', 'NH', 'NJ', 'NM',\n",
              "       'NV', 'NY', 'OH', 'OK', 'OR', 'PA', 'RI', 'SC', 'SD', 'TN', 'TX',\n",
              "       'UT', 'VA', 'VT', 'WA', 'WI', 'WV', 'WY'], dtype=object)"
            ]
          },
          "metadata": {},
          "execution_count": 201
        }
      ]
    },
    {
      "cell_type": "markdown",
      "source": [
        "## Trước và sau khi áp dụng mô hình\n",
        "\n",
        "Xem tổng số tiền mà những người không trả được nợ đã vay của LC"
      ],
      "metadata": {
        "id": "l2wbynjEpWM9"
      }
    },
    {
      "cell_type": "code",
      "source": [
        "train_df.loan_status.value_counts()"
      ],
      "metadata": {
        "colab": {
          "base_uri": "https://localhost:8080/"
        },
        "id": "fshmfIpsqtid",
        "outputId": "5506e2f8-5f11-4cc0-9e2b-deb1fc29b8f7"
      },
      "execution_count": null,
      "outputs": [
        {
          "output_type": "execute_result",
          "data": {
            "text/plain": [
              "1    1078737\n",
              "0     269320\n",
              "Name: loan_status, dtype: int64"
            ]
          },
          "metadata": {},
          "execution_count": 203
        }
      ]
    },
    {
      "cell_type": "code",
      "source": [
        "len(train_df)"
      ],
      "metadata": {
        "colab": {
          "base_uri": "https://localhost:8080/"
        },
        "id": "cieUQtnZbCU1",
        "outputId": "1ddbeb95-532f-4c4a-e422-b2cf20279713"
      },
      "execution_count": null,
      "outputs": [
        {
          "output_type": "execute_result",
          "data": {
            "text/plain": [
              "1348057"
            ]
          },
          "metadata": {},
          "execution_count": 259
        }
      ]
    },
    {
      "cell_type": "markdown",
      "source": [
        "Mô hình đoán là 0: Tức không cho vay, tuy nhiên lợi nhuận thất thoát chính là những người có khả năng trả nợ được nhưng mô hình đoán là không."
      ],
      "metadata": {
        "id": "s-HlhlF1shok"
      }
    },
    {
      "cell_type": "code",
      "source": [
        "# Dự đoán trên cả tập\n",
        "y_pred_mask = (lr.predict_proba(X_)[:, 1] >= threshold).astype(int)\n",
        "cm = confusion_matrix(y,y_pred_mask)\n",
        "sns.heatmap(cm, annot=True, fmt=\"d\", cmap=\"Blues\", cbar=False,\n",
        "            xticklabels=['Predicted 0', 'Predicted 1'],\n",
        "            yticklabels=['Actual 0', 'Actual 1'])\n",
        "plt.xlabel('Predicted')\n",
        "plt.ylabel('Actual')\n",
        "plt.title('Confusion Matrix')\n",
        "plt.show()"
      ],
      "metadata": {
        "colab": {
          "base_uri": "https://localhost:8080/",
          "height": 472
        },
        "id": "fgFIto9Ns8Dn",
        "outputId": "f303e968-57fd-459c-877c-fae286e885db"
      },
      "execution_count": null,
      "outputs": [
        {
          "output_type": "display_data",
          "data": {
            "text/plain": [
              "<Figure size 640x480 with 1 Axes>"
            ],
            "image/png": "[encoded data removed]"
          },
          "metadata": {}
        }
      ]
    },
    {
      "cell_type": "code",
      "source": [
        "TP, FP, TN, FN = [], [], [], []\n",
        "for true_label, predicted_label in zip(y, y_pred_mask):\n",
        "    TP.append(1 if (true_label == 1 and predicted_label == 1) else 0)\n",
        "    FP.append(1 if (true_label == 0 and predicted_label == 1) else 0)\n",
        "    TN.append(1 if (true_label == 0 and predicted_label == 0) else 0)\n",
        "    FN.append(1 if (true_label == 1 and predicted_label == 0) else 0)"
      ],
      "metadata": {
        "id": "PTnUCBapwCVU"
      },
      "execution_count": null,
      "outputs": []
    },
    {
      "cell_type": "code",
      "source": [
        "# Những người thực sự trả được nợ, LC có lợi nhuận từ tp\n",
        "tp = (train_df['loan_amnt'][np.array(TP)==1] * (1+(train_df['int_rate'][np.array(TP)==1]/100))).sum()\n",
        "# Những người dự đoán là 1 nhưng thực tế là 0, LC mất tiền từ fp\n",
        "fp_loss = (train_df['loan_amnt'][np.array(FP)==1]).sum()\n",
        "# Những người dự đoán là 0, LC không cho vay nên không sao\n",
        "tn = (train_df['loan_amnt'][np.array(FP)==1]).sum()\n",
        "# Những người dự đoán là 0 nhưng thực tế là 1, thất thoát đi phần lợi nhuận\n",
        "fn = (train_df['loan_amnt'][np.array(FN)==1] * (train_df['int_rate'][np.array(FN)==1]/100)).sum()"
      ],
      "metadata": {
        "id": "8qoerWSduLED"
      },
      "execution_count": null,
      "outputs": []
    },
    {
      "cell_type": "code",
      "source": [
        "before = train_df['loan_amnt'][train_df.loan_status==0].sum()\n",
        "print(\"Trước khi có mô hình, số tiền LC cho người không trả được vay:\", before)\n",
        "print(\"Sau khi có mô hình, số tiền LC cho người không trả được vay:\", fp_loss)\n",
        "print(\"Giảm được\",before-fp_loss,\"$ thất thoát\")"
      ],
      "metadata": {
        "colab": {
          "base_uri": "https://localhost:8080/"
        },
        "id": "Zmx9TTdQN5fj",
        "outputId": "819de8dd-05ce-4157-f721-e67cfd48ecd0"
      },
      "execution_count": null,
      "outputs": [
        {
          "output_type": "stream",
          "name": "stdout",
          "text": [
            "Trước khi có mô hình, số tiền LC cho người không trả được vay: 4187385950.0\n",
            "Sau khi có mô hình, số tiền LC cho người không trả được vay: 961626350.0\n",
            "Giảm được 3225759600.0 $ thất thoát\n"
          ]
        }
      ]
    },
    {
      "cell_type": "markdown",
      "source": [
        "Tuy nhiên cần tính toán số tiền thất thoát từ việc mất khách hàng có thể trả được mà mô hình đoán là không trả được"
      ],
      "metadata": {
        "id": "KHwXJDqkPqu_"
      }
    },
    {
      "cell_type": "code",
      "source": [
        "# tiền thất thoát nếu khách hàng không trả được\n",
        "v1 = train_df['loan_amnt'][train_df.loan_status == 0].sum()\n",
        "#  doanh thu từ khách hàng trả được, bao gồm lãi suất cho vay, tính theo 1 năm.\n",
        "v2 = (train_df['loan_amnt'][train_df.loan_status == 1] * (1+(train_df['int_rate'][train_df.loan_status == 1]/100))).sum()"
      ],
      "metadata": {
        "id": "gSR8UIyjtN-b"
      },
      "execution_count": null,
      "outputs": []
    },
    {
      "cell_type": "code",
      "source": [
        "# Lãi = doanh thu - chi phí - thất thoát\n",
        "# Tính trên toàn bộ tập dữ liệu\n",
        "base_profit = (v2 - train_df['loan_amnt'].sum()-v1)\n",
        "base_profit"
      ],
      "metadata": {
        "colab": {
          "base_uri": "https://localhost:8080/"
        },
        "id": "l6aGEtOAt95F",
        "outputId": "cf420b32-9e45-42a4-d935-c8049162915c"
      },
      "execution_count": null,
      "outputs": [
        {
          "output_type": "execute_result",
          "data": {
            "text/plain": [
              "-6404814430.185001"
            ]
          },
          "metadata": {},
          "execution_count": 237
        }
      ]
    },
    {
      "cell_type": "markdown",
      "source": [
        "Trước khi có mô hình, công ty đang khiến cho bên cho vay lỗ tổng số tiền rất nhiều !!!"
      ],
      "metadata": {
        "id": "VKBNhtqdvuhT"
      }
    },
    {
      "cell_type": "code",
      "source": [
        "# Lãi bằng\n",
        "#    lợi nhuận từ khách hàng 1 đoán đúng (tp)\n",
        "# - số tiền thất thoát từ khách hàng 0 đoán nhầm là 1 (fp_loss)\n",
        "# - lợi nhuận có thể có từ khách hàng 1 đoán nhầm là 0 (fn)\n",
        "tp-fp_loss-fn"
      ],
      "metadata": {
        "colab": {
          "base_uri": "https://localhost:8080/"
        },
        "id": "PThonc3k11HT",
        "outputId": "50848d1a-87a3-4611-9877-7cfbba8cd8a8"
      },
      "execution_count": null,
      "outputs": [
        {
          "output_type": "execute_result",
          "data": {
            "text/plain": [
              "15096414172.050005"
            ]
          },
          "metadata": {},
          "execution_count": 238
        }
      ]
    },
    {
      "cell_type": "markdown",
      "source": [
        "Sau khi có mô hình, công ty đã giúp bên cho vay không bị thất thoát tiền. Từ đó công ty LC cũng có thể có lợi nhuận từ phần trăm hoa hồng."
      ],
      "metadata": {
        "id": "mRSvVR_eRUtg"
      }
    },
    {
      "cell_type": "markdown",
      "source": [
        "## Sản phẩm"
      ],
      "metadata": {
        "id": "SKap6aexSAiK"
      }
    },
    {
      "cell_type": "markdown",
      "source": [
        "Dùng trên excel để tính toán, tải tại [đây](https://docs.google.com/spreadsheets/d/1cPlbz6Pgwt4G0cJ3Dx8tMd5pGWcbLKTn/edit?usp=drive_link)"
      ],
      "metadata": {
        "id": "z2BomtTBR23x"
      }
    },
    {
      "cell_type": "markdown",
      "source": [
        "# Kết thúc\n",
        "Bài làm vẫn còn nhiều thiếu sót.\n",
        "- Kiến thức về lĩnh vực có thể chưa đủ sâu\n",
        "- Quá trình làm sạch vẫn còn một vài lỗi nhỏ chưa kiểm tra.\n",
        "- Việc tính toán lợi nhuận, chi phí có thể chưa hoàn toàn chính xác.\n"
      ],
      "metadata": {
        "id": "DwNW5A-sZY1X"
      }
    }
  ]
}